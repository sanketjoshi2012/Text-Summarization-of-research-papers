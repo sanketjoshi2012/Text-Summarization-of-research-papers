{
  "nbformat": 4,
  "nbformat_minor": 0,
  "metadata": {
    "colab": {
      "name": "Generation_and_Evaluation.ipynb",
      "provenance": []
    },
    "kernelspec": {
      "name": "python3",
      "display_name": "Python 3"
    },
    "language_info": {
      "name": "python"
    }
  },
  "cells": [
    {
      "cell_type": "markdown",
      "metadata": {
        "id": "JP_Te5a791c9"
      },
      "source": [
        "Imports"
      ]
    },
    {
      "cell_type": "code",
      "metadata": {
        "id": "gkaoVHDSEP9s"
      },
      "source": [
        "import warnings\n",
        "warnings.simplefilter('ignore')\n",
        "!pip install rouge\n",
        "!pip install bert_score\n",
        "from google.colab import drive\n",
        "drive.mount('/ProjectNLP', force_remount=True)\n",
        "import os\n",
        "os.chdir('/ProjectNLP') \n",
        "from bert_score import score\n",
        "!git clone https://github.com/Tiiiger/bert_score.git\n",
        "from rouge import Rouge\n",
        "import gensim.downloader as api\n",
        "model = api.load('word2vec-google-news-300')\n",
        "from nltk.tokenize import sent_tokenize, RegexpTokenizer\n",
        "from nltk.corpus import stopwords\n",
        "import editdistance\n",
        "from scipy import spatial\n",
        "from sklearn import metrics\n",
        "from sklearn.metrics.cluster import adjusted_rand_score\n",
        "from sklearn.metrics.cluster import adjusted_mutual_info_score\n",
        "import networkx as nx\n",
        "import nltk\n",
        "from nltk.corpus import stopwords\n",
        "from sklearn.metrics.pairwise import cosine_similarity\n",
        "nltk.download('stopwords')\n",
        "import nltk\n",
        "nltk.download('stopwords')\n",
        "import numpy as np\n",
        "from nltk.stem import WordNetLemmatizer\n",
        "nltk.download('wordnet')\n",
        "import pickle\n",
        "import re\n",
        "import matplotlib.pyplot as plt\n",
        "import sumy\n",
        "from sumy.parsers.plaintext import PlaintextParser\n",
        "from sumy.nlp.tokenizers import Tokenizer\n",
        "from sumy.summarizers.lex_rank import LexRankSummarizer\n",
        "from sumy.summarizers.text_rank import TextRankSummarizer"
      ],
      "execution_count": null,
      "outputs": []
    },
    {
      "cell_type": "markdown",
      "metadata": {
        "id": "qxRBTutZKDK0"
      },
      "source": [
        "Preparation of embeddings"
      ]
    },
    {
      "cell_type": "code",
      "metadata": {
        "id": "Hcbh-LEJxRjX"
      },
      "source": [
        "GloveVec = open(os.getcwd()+\"/My Drive/ProjectNLP/\"+'glove.6B.100d.txt', encoding=\"utf8\")\n",
        "#Extract word vectors\n",
        "word_embeddings = {}\n",
        "# f =open(GloveVec)\n",
        "for line in GloveVec:\n",
        "  values = line.split()\n",
        "  word = values[0]\n",
        "  coefs = np.asarray(values[1:], dtype='float32')\n",
        "  word_embeddings[word] = coefs"
      ],
      "execution_count": null,
      "outputs": []
    },
    {
      "cell_type": "code",
      "metadata": {
        "id": "waxnRHESDRvc"
      },
      "source": [
        "RPVec = open(os.getcwd()+\"/My Drive/ProjectNLP/\"+'myModel_splitsize100v2.txt', encoding=\"utf8\")\n",
        "word_embeddings_RP = {}\n",
        "# f =open(GloveVec)\n",
        "for line in RPVec:\n",
        "  values = line.split()\n",
        "  word = values[0]\n",
        "\n",
        "  coefs = np.asarray(values[1:], dtype='float32')\n",
        "  word_embeddings_RP[word.strip('\"').strip(\"'\")] = coefs"
      ],
      "execution_count": null,
      "outputs": []
    },
    {
      "cell_type": "code",
      "metadata": {
        "id": "hL3NBmjxDSfM"
      },
      "source": [
        "w2v_300_ft = open(os.getcwd()+\"/My Drive/ProjectNLP/\"+'w2v_300_ft.txt', encoding=\"utf8\")\n",
        "word_embeddings_w2v_300_ft = {}\n",
        "# f =open(GloveVec)\n",
        "for line in w2v_300_ft:\n",
        "  values = line.split()\n",
        "  word = values[0]\n",
        "  coefs = np.asarray(values[1:], dtype='float32')\n",
        "  word_embeddings_w2v_300_ft[word.strip('\"').strip(\"'\")] = coefs"
      ],
      "execution_count": null,
      "outputs": []
    },
    {
      "cell_type": "code",
      "metadata": {
        "id": "7PGgfcVpDcdI"
      },
      "source": [
        "w2v_300_ft_1 = open(os.getcwd()+\"/My Drive/ProjectNLP/\"+'w2v_300_ft_1.txt', encoding=\"utf8\")\n",
        "word_embeddings_w2v_300_ft_1 = {}\n",
        "# f =open(GloveVec)\n",
        "for line in w2v_300_ft_1:\n",
        "  values = line.split()\n",
        "  word = values[0]\n",
        "  coefs = np.asarray(values[1:], dtype='float32')\n",
        "  word_embeddings_w2v_300_ft_1[word.strip('\"').strip(\"'\")] = coefs"
      ],
      "execution_count": null,
      "outputs": []
    },
    {
      "cell_type": "markdown",
      "metadata": {
        "id": "pOrQbJWVhhSW"
      },
      "source": [
        "Function to calculate ROUGE score"
      ]
    },
    {
      "cell_type": "code",
      "metadata": {
        "id": "fhCIvybw_Ebt"
      },
      "source": [
        "def getrougescore(genSummary,Highlights_Dict):\n",
        "  generatedSummary={}\n",
        "  for key in genSummary.keys():\n",
        "    summattach=''\n",
        "    for sent in genSummary[key][:k]:\n",
        "      summattach+=sent+\" \"\n",
        "    generatedSummary[key]=summattach\n",
        "        # generatedSummary=genSummary\n",
        "  return (rouge.get_scores(generatedSummary.values(),Highlights_Dict.values(),avg=True))\n"
      ],
      "execution_count": null,
      "outputs": []
    },
    {
      "cell_type": "markdown",
      "metadata": {
        "id": "p5cBf0fkho9z"
      },
      "source": [
        "Function to calculate BERT score"
      ]
    },
    {
      "cell_type": "code",
      "metadata": {
        "id": "ndkT1Xgm_1hR"
      },
      "source": [
        "def getBertScore(genSummary,Highlights_Dict):\n",
        "  cands=[]\n",
        "  refs=[]\n",
        "  generatedSummary={}\n",
        "      \n",
        "  for key in genSummary.keys():\n",
        "    summattach=''\n",
        "    for sent in genSummary[key][:k]:\n",
        "      summattach+=sent+\" \"\n",
        "    generatedSummary[key]=summattach\n",
        "\n",
        "  for key in Highlights_Dict.keys():\n",
        "    cands.append(generatedSummary[key])\n",
        "    refs.append(Highlights_Dict[key])\n",
        "  P, R, F1 = score(cands, refs, lang=\"en\", verbose=True)\n",
        "  return F1.mean()"
      ],
      "execution_count": null,
      "outputs": []
    },
    {
      "cell_type": "markdown",
      "metadata": {
        "id": "RmatCDQhjsB0"
      },
      "source": [
        "Function to calculate Word Mover's Distance"
      ]
    },
    {
      "cell_type": "code",
      "metadata": {
        "id": "6TJKtBuirnhI"
      },
      "source": [
        "\n",
        "def getWMDScore(genSumm,givenSumm):\n",
        "  score=0\n",
        "  cnt=0\n",
        "  for key in genSumm.keys():\n",
        "    cnt+=1\n",
        "    \n",
        "    score+= model.wmdistance(getValidTokens(genSumm[key]),getValidTokens(givenSumm[key]))\n",
        "  return score/cnt"
      ],
      "execution_count": null,
      "outputs": []
    },
    {
      "cell_type": "markdown",
      "metadata": {
        "id": "VQaTF9CuhtWV"
      },
      "source": [
        "Function to get the vectorized form which is then passed to clustering method"
      ]
    },
    {
      "cell_type": "code",
      "metadata": {
        "id": "3Ht7tXdw0P7I"
      },
      "source": [
        "def getVectorisedForm(clean_df,colName):\n",
        "    # vectorisers=['TFIDF','Glove100','GoogleNewsModel','RPModel','w2v_ft','w2v_ft_1] \n",
        "    if colName=='TFIDF':\n",
        "      vectorizer = TfidfVectorizer(max_df=0.95,min_df=0.05,stop_words='english',tokenizer=tokenize, max_features=25000)  ##plz give max feature\n",
        "      vectorised_form= (vectorizer.fit_transform(clean_df))\n",
        "    if colName=='GoogleNewsModel':\n",
        "\n",
        "    # terms = (vectorizer.get_feature_names())\n",
        "      vectorised_form=[]\n",
        "      \n",
        "      for data in clean_df:\n",
        "        sum=0\n",
        "        cnt=0\n",
        "        avg=np.zeros((300,))\n",
        "        tokens=getValidTokens(data)\n",
        "        for word in tokens:\n",
        "          if word in model.vocab:\n",
        "            sum+=model[word]\n",
        "            cnt+=1\n",
        "        if(cnt!=0):  \n",
        "          avg=sum/cnt\n",
        "        else:\n",
        "          avg=np.zeros((300,))\n",
        "        vectorised_form.append(avg)\n",
        "    if colName=='Glove100':\n",
        "      vectorised_form=[]\n",
        "      \n",
        "      for data in clean_df:\n",
        "        sum=0\n",
        "        cnt=0\n",
        "        avg=np.zeros((100,))\n",
        "        tokens=getValidTokens(data)\n",
        "        for word in tokens:\n",
        "          if word in word_embeddings.keys():\n",
        "            sum+=word_embeddings[word]\n",
        "            cnt+=1\n",
        "        if(cnt!=0):  \n",
        "          avg=sum/cnt\n",
        "        else:\n",
        "          avg=np.zeros((100,))\n",
        "        vectorised_form.append(avg)\n",
        "    if colName=='RPModel':\n",
        "      vectorised_form=[]\n",
        "      \n",
        "      for data in clean_df:\n",
        "        sum=0\n",
        "        cnt=0\n",
        "        avg=np.zeros((100,))\n",
        "        tokens=getValidTokens(data)\n",
        "        for word in tokens:\n",
        "          \n",
        "          if word in word_embeddings_RP.keys():\n",
        "            # print(word)\n",
        "            sum+=word_embeddings_RP[word]\n",
        "            cnt+=1\n",
        "        if(cnt!=0):  \n",
        "          avg=sum/cnt\n",
        "        else:\n",
        "          avg=np.zeros((100,))\n",
        "        vectorised_form.append(avg)\n",
        "    if colName=='w2v_ft':\n",
        "      vectorised_form=[]\n",
        "      \n",
        "      for data in clean_df:\n",
        "        sum=0\n",
        "        cnt=0\n",
        "        avg=np.zeros((300,))\n",
        "        tokens=getValidTokens(data)\n",
        "        for word in tokens:\n",
        "          \n",
        "          if word in word_embeddings_w2v_300_ft.keys():\n",
        "            # print(word)\n",
        "            sum+=word_embeddings_w2v_300_ft[word]\n",
        "            cnt+=1\n",
        "        if(cnt!=0):  \n",
        "          avg=sum/cnt\n",
        "        else:\n",
        "          avg=np.zeros((300,))\n",
        "        vectorised_form.append(avg)\n",
        "    if colName=='w2v_ft_1':\n",
        "      vectorised_form=[]\n",
        "      \n",
        "      for data in clean_df:\n",
        "        sum=0\n",
        "        cnt=0\n",
        "        avg=np.zeros((300,))\n",
        "        tokens=getValidTokens(data)\n",
        "        for word in tokens:\n",
        "          \n",
        "          if word in word_embeddings_w2v_300_ft_1.keys():\n",
        "            # print(word)\n",
        "            sum+=word_embeddings_w2v_300_ft_1[word]\n",
        "            cnt+=1\n",
        "        if(cnt!=0):  \n",
        "          avg=sum/cnt\n",
        "        else:\n",
        "          avg=np.zeros((300,))\n",
        "        vectorised_form.append(avg)\n",
        "    # vector_form=vectorised_form\n",
        "    return vectorised_form\n",
        "\n",
        "    # print(len(terms))\n",
        "    "
      ],
      "execution_count": null,
      "outputs": []
    },
    {
      "cell_type": "markdown",
      "metadata": {
        "id": "InaBjQ5CieMv"
      },
      "source": [
        "Function to get the summaries using TF-IDF, TextRank and Ensemble (all)"
      ]
    },
    {
      "cell_type": "code",
      "metadata": {
        "id": "noahTam_G-4z"
      },
      "source": [
        "\n",
        "def getSummary(sentence_df,topk,methods=['all','only_tfidf','only_textRank'],includeRandomness=False):\n",
        "  TextRankScore={}\n",
        "  tfidfScore={}\n",
        "  summarymain={}\n",
        "  sentenceindexmain={}\n",
        "  for filename in sentence_df:\n",
        "    # print(filename)\n",
        "    sentenceindex=[]\n",
        "    tokenisedSentence=[]\n",
        "    sentence_score1=[]\n",
        "    sentence_score2=[]\n",
        "    mainscore=[]\n",
        "    for sentence in sentence_df[filename]:\n",
        "      # print(sentence)\n",
        "      sentenceindex.append(sentence)\n",
        "      tokenisedSentence.append(getValidTokens(sentence))\n",
        "    sentenceindexmain[filename]=sentenceindex\n",
        "    if(methods=='only_tfidf' or methods=='all'):\n",
        "      sentence_score1=getSenttfidfScore(tokenisedSentence,filename)\n",
        "      mainscore=sentence_score1\n",
        "      tfidfScore[filename]=mainscore\n",
        "    if(methods=='only_textRank' or methods=='all'):\n",
        "      sentence_score2=gettextrankScore(tokenisedSentence)\n",
        "      mainscore=np.array(sentence_score2)\n",
        "      TextRankScore[filename]=mainscore\n",
        "    if(methods=='all'):\n",
        "      mainscore=sentence_score1+sentence_score2\n",
        "    # if includeRandomness:\n",
        "    #   summarymain[filename]=getSummaryIntro( mainscore/mainscore.sum(axis=0,keepdims=1),sentenceindex)\n",
        "    \n",
        "    # else:\n",
        "    #   summarymain[filename]=getSummaryTop(mainscore/mainscore.sum(axis=0,keepdims=1),sentenceindex,topk)\n",
        "      summarymain[filename]=getSummaryTop(mainscore/mainscore.sum(axis=0,keepdims=1),sentenceindex,topk)\n",
        "  return tfidfScore, TextRankScore, summarymain, sentenceindexmain\n",
        "\n",
        "def getSummaryTop(mainscore,sentenceindex,topk):\n",
        "  summary=\"\"\n",
        "  summary_arr=[]\n",
        "  sel_indexes = sorted(range(len(mainscore)), key = lambda sub: mainscore[sub])[-topk:]\n",
        "  for i in (sel_indexes):  \n",
        "    summary+=sentenceindex[i]+\". \"\n",
        "    summary_arr.append(sentenceindex[i])\n",
        "  return summary_arr\n",
        "\n",
        "  "
      ],
      "execution_count": null,
      "outputs": []
    },
    {
      "cell_type": "markdown",
      "metadata": {
        "id": "DMA-ugDsKdQj"
      },
      "source": [
        "Converting text data to vector"
      ]
    },
    {
      "cell_type": "code",
      "metadata": {
        "id": "gvIgZI5nq66o"
      },
      "source": [
        "def getVectorDict(dictio):\n",
        "  resDict={}\n",
        "  avg=np.zeros((100,))\n",
        "  for key in dictio.keys():\n",
        "    sum=0\n",
        "    cnt=0\n",
        "    # print(dictio[key])\n",
        "    for dic in dictio[key]:\n",
        "      tokens=getValidTokens(dic)\n",
        "      for word in tokens:\n",
        "        if word in word_embeddings.keys():\n",
        "          sum+=word_embeddings[word]\n",
        "          cnt+=1\n",
        "      if(cnt!=0):  \n",
        "        avg=sum/cnt\n",
        "      else:\n",
        "        avg=np.zeros((100,))\n",
        "      resDict[key]=avg\n",
        "  return resDict"
      ],
      "execution_count": null,
      "outputs": []
    },
    {
      "cell_type": "markdown",
      "metadata": {
        "id": "n0peGvGmjldN"
      },
      "source": [
        "Function to calculate Relative Minimum Edit distance"
      ]
    },
    {
      "cell_type": "code",
      "metadata": {
        "id": "QPdeMifJrPeR"
      },
      "source": [
        "def getRelativeMinEditDistanceScore(dict1,dict2):\n",
        "  dist=[]\n",
        "  cnt=0\n",
        "  for key in dict1.keys():\n",
        "    cnt+=1\n",
        "    dist.append(1/(1+editdistance.eval(getSimilarityArray(dict1,key), getSimilarityArray(dict2,key))))\n",
        "  return dist"
      ],
      "execution_count": null,
      "outputs": []
    },
    {
      "cell_type": "markdown",
      "metadata": {
        "id": "8B7lZ1Pzj0eW"
      },
      "source": [
        "Function to apply PCA to the vectorized form"
      ]
    },
    {
      "cell_type": "code",
      "metadata": {
        "id": "-Hl_EOtYsEOE"
      },
      "source": [
        "def applyPCA(vectorised_form,numComp):\n",
        "  if numComp!=0:\n",
        "    sklearn_pca = PCA(n_components=numComp)\n",
        "    try:\n",
        "      vector_form = sklearn_pca.fit_transform((normalize(vectorised_form)))\n",
        "    except:\n",
        "      vector_form = sklearn_pca.fit_transform((normalize(vectorised_form)).toarray())\n",
        "  else:\n",
        "    vector_form=vectorised_form\n",
        "  return vector_form"
      ],
      "execution_count": null,
      "outputs": []
    },
    {
      "cell_type": "markdown",
      "metadata": {
        "id": "M-zpwHBFkDjI"
      },
      "source": [
        "Function calculates silhouette score to find optimal clusters and then perform clustering"
      ]
    },
    {
      "cell_type": "code",
      "metadata": {
        "id": "gWEppdlOt6MF"
      },
      "source": [
        "def getPlotData(vectorized_form):\n",
        "  inertias = []\n",
        "  sil = []\n",
        "  K = [5,10]\n",
        "  for k in K:\n",
        "      kmeanModel = KMeans(n_clusters=k, random_state=300)\n",
        "      kmeanModel.fit(vectorized_form)\n",
        "      labels = kmeanModel.labels_\n",
        "      inertias.append(kmeanModel.inertia_)\n",
        "      sil.append(silhouette_score(vectorized_form, labels, metric='cosine'))\n",
        "  return K,inertias,sil"
      ],
      "execution_count": null,
      "outputs": []
    },
    {
      "cell_type": "markdown",
      "metadata": {
        "id": "u8kU0mKakVXc"
      },
      "source": [
        "Function to calculate the Rand Index, Mututal Information and Completeness scores"
      ]
    },
    {
      "cell_type": "code",
      "metadata": {
        "id": "5kwliF-tuJog"
      },
      "source": [
        "def getOtherScores(groundtruth_labels, summary_labels):\n",
        "  adjusted_rand_score_array = []\n",
        "  adjusted_mutual_info_score_array = []\n",
        "  completeness_score_array = []\n",
        "  \n",
        "  return adjusted_rand_score(groundtruth_labels, summary_labels), adjusted_mutual_info_score(groundtruth_labels, summary_labels), metrics.completeness_score(groundtruth_labels, summary_labels)"
      ],
      "execution_count": null,
      "outputs": []
    },
    {
      "cell_type": "markdown",
      "metadata": {
        "id": "grohxeEBKkFl"
      },
      "source": [
        "Converts sentences to tokens"
      ]
    },
    {
      "cell_type": "code",
      "metadata": {
        "id": "y9o3pInAl78W"
      },
      "source": [
        "def getValidTokens(sent):\n",
        "  stopWords = set(stopwords.words('english'))\n",
        "  tokenizer = RegexpTokenizer(r'\\w+')\n",
        "  words = tokenizer.tokenize(sent)\n",
        "  wordsFiltered = []\n",
        "\n",
        "  for w in words:\n",
        "      w = str(w).lower()\n",
        "      if w not in stopWords:\n",
        "          wordsFiltered.append((w))\n",
        "  wordnet_lemmatizer = WordNetLemmatizer()\n",
        "  lemmatized_words = [wordnet_lemmatizer.lemmatize(token, pos=\"v\") for token in wordsFiltered]\n",
        "  return lemmatized_words"
      ],
      "execution_count": null,
      "outputs": []
    },
    {
      "cell_type": "markdown",
      "metadata": {
        "id": "u_yYwdv0Knyy"
      },
      "source": [
        "Summary generation using sentence level tfidf method"
      ]
    },
    {
      "cell_type": "code",
      "metadata": {
        "id": "0dQDUj2UmfvD"
      },
      "source": [
        "def getSenttfidfScore(tokenisedSentences,filename):\n",
        "  keywordmain={}\n",
        "  checkkey=[]\n",
        "  # uncomment for keyword included\n",
        "  # for keym in keywordmain[filename]:\n",
        "  #   for w in keym.split(' '):\n",
        "  #     checkkey.append(str(w).lower())\n",
        "  \n",
        "  docfreq={}\n",
        "  sentence_score=[]\n",
        "        \n",
        "  sentence_sc = 0\n",
        "  mainscore=[]     \n",
        "  for tokenisedSentence in tokenisedSentences:\n",
        "    # tokens=getValidTokens(sentence)\n",
        "    unique, counts = np.unique(tokenisedSentence, return_counts=True)\n",
        "\n",
        "    termfreq=(dict(zip(unique, counts)))\n",
        "    # print(termfreq)\n",
        "    for termf in termfreq:\n",
        "        count = 0\n",
        "        for elem in tokenisedSentence:\n",
        "            if(termf in elem ):\n",
        "                count=count+1\n",
        "        docfreq[termf]=count\n",
        "    for termf in termfreq:\n",
        "        if(termf in checkkey):\n",
        "          w=1.5\n",
        "        else:\n",
        "          w=1\n",
        "        sentence_sc+=np.log(len(tokenisedSentence)/docfreq[termf])*(termfreq[termf]/len(tokenisedSentence))*w\n",
        "    sentence_score.append(sentence_sc)\n",
        "    sentence_Score=np.array(sentence_score)\n",
        "    mainscore=sentence_Score/sentence_Score.sum(axis=0,keepdims=1)\n",
        "    \n",
        "  return np.array(mainscore)"
      ],
      "execution_count": null,
      "outputs": []
    },
    {
      "cell_type": "markdown",
      "metadata": {
        "id": "4rRqaiwRKusj"
      },
      "source": [
        "Summary generation using customised textrank method with embeddings"
      ]
    },
    {
      "cell_type": "code",
      "metadata": {
        "colab": {
          "base_uri": "https://localhost:8080/"
        },
        "id": "iALH9sC1ePTF",
        "outputId": "37f1afed-5140-46d4-eb3c-7b1e077f9376"
      },
      "source": [
        "\n",
        "def gettextrankScore(tokenisedSentences):\n",
        "  TextRankScore = {}\n",
        "  sentence_vectors = []\n",
        "  print(tokenisedSentences)  \n",
        "  docfreq={}\n",
        "  # sentence_index = []\n",
        "  sentence_score=[]\n",
        "  for tokenisedSentence in tokenisedSentences:\n",
        "    for i in tokenisedSentence:\n",
        "      if len(i) != 0:\n",
        "        v = sum([word_embeddings.get(w, np.zeros((100,))) for w in i]) / (len(i) + 0.001)\n",
        "      else:\n",
        "        v = np.zeros((100,))\n",
        "      sentence_vectors.append(v)\n",
        "        # print(sentence_vectors)\\\n",
        "\n",
        "        # create similarity matrix\n",
        "  sim_mat = np.zeros([len(tokenisedSentences), len(tokenisedSentences)])\n",
        "  # print(sim_mat)\n",
        "  for i in range(len(tokenisedSentences)):\n",
        "    for j in range(len(tokenisedSentences)):\n",
        "      if i != j:\n",
        "        sim_mat[i][j] = cosine_similarity(sentence_vectors[i].reshape(1,100), sentence_vectors[j].reshape(1,100))[0,0]\n",
        "  # print(sim_mat)\n",
        "\n",
        "  #Apply pagerank algorithm\n",
        "  nx_graph = nx.from_numpy_array(sim_mat)\n",
        "  scores = nx.pagerank_numpy(nx_graph)\n",
        "  mainscoreint=list(scores.values())\n",
        "  # for k in mainscoreint[0].keys():\n",
        "  #   mainscore.append(mainscoreint[0][k])\n",
        "\n",
        "  # print(filename)\n",
        "  return mainscoreint"
      ],
      "execution_count": null,
      "outputs": [
        {
          "output_type": "stream",
          "text": [
            "[nltk_data] Downloading package stopwords to /root/nltk_data...\n",
            "[nltk_data]   Package stopwords is already up-to-date!\n"
          ],
          "name": "stdout"
        }
      ]
    },
    {
      "cell_type": "markdown",
      "metadata": {
        "id": "SB3cYQKzK1GC"
      },
      "source": [
        "Code to split paragraphs into sentences"
      ]
    },
    {
      "cell_type": "code",
      "metadata": {
        "id": "e15vxT3h2V5A"
      },
      "source": [
        "def getSentences(text):\n",
        "  sentences=[]\n",
        "  intersent=''\n",
        "  for s in re.split('[.][\\s]([A-Z])',text):\n",
        "    # print(s.split(\" \"))\n",
        "    if len(s)==1:\n",
        "      intersent=s\n",
        "    else:\n",
        "      if len(re.split('[\\s]',intersent+s))>4:  \n",
        "        if not '\\n' in  intersent+s:     \n",
        "          sentences.append(intersent+s)\n",
        "        intersent=''\n",
        "  return sentences"
      ],
      "execution_count": null,
      "outputs": []
    },
    {
      "cell_type": "markdown",
      "metadata": {
        "id": "u18v-M45QiIK"
      },
      "source": [
        "## AIPubSumm summary generation and evaluation"
      ]
    },
    {
      "cell_type": "markdown",
      "metadata": {
        "id": "h4r1rrn1Ll3D"
      },
      "source": [
        "Code to load the csv files obtained after data collection and data preprocessing part"
      ]
    },
    {
      "cell_type": "code",
      "metadata": {
        "id": "PNiIqEuKRB1t"
      },
      "source": [
        "# Intro = pickle.load( open( \"Intro.p\", \"rb\" ) )\n",
        "# for key in Intro.keys():\n",
        "#   Intro_Dict[key]=getSentences(Intro[key])"
      ],
      "execution_count": null,
      "outputs": []
    },
    {
      "cell_type": "code",
      "metadata": {
        "id": "x2cNWlwEQiIQ"
      },
      "source": [
        "y_rouge_all=[]\n",
        "score2tf, score22text, genSummaryOC,sentenceindexmain=getSummary(OtherContent,5,methods='all')\n",
        "generatedSummary={}\n",
        "for key in genSummaryOC.keys():\n",
        "  summattach=''\n",
        "  for sent in genSummaryOC[key][:k]:\n",
        "    summattach+=sent+\" \"\n",
        "  generatedSummary[key]=summattach\n",
        "      # generatedSummary=genSummary\n",
        "y_rouge_all.append(rouge.get_scores(generatedSummary.values(),Highlights_Dict.values(),avg=False))\n"
      ],
      "execution_count": null,
      "outputs": []
    },
    {
      "cell_type": "code",
      "metadata": {
        "colab": {
          "base_uri": "https://localhost:8080/"
        },
        "id": "7VrG5PSqQiIQ",
        "outputId": "91ad1d16-49bb-4eb0-a201-57ad3f9e0f37"
      },
      "source": [
        "for val in y_rouge_all[0]:\n",
        "  print(val['rouge-l']['f'])"
      ],
      "execution_count": null,
      "outputs": [
        {
          "output_type": "stream",
          "text": [
            "0.24444443946666677\n",
            "0.4074074024074074\n",
            "0.18691588290331046\n",
            "0.15584415084499934\n",
            "0.13861385786883648\n",
            "0.08695651686620486\n",
            "0.10810810312271754\n",
            "0.1538461492439186\n",
            "0.25999999524200007\n",
            "0.1855670058199597\n",
            "0.10989010611278846\n",
            "0.16129031821019782\n",
            "0.11999999533800018\n",
            "0.09345793940082125\n",
            "0.3947368371087258\n",
            "0.187499995217014\n",
            "0.10416666188368078\n",
            "0.14285713886505633\n",
            "0.15189872994712397\n",
            "0.12612612174336513\n",
            "0.15053762996415784\n",
            "0.18181817683491577\n",
            "0.16806722227526316\n",
            "0.2204724362055925\n",
            "0.18803418307838424\n",
            "0.12195121453896511\n",
            "0.1714285665306124\n",
            "0.20606060169990828\n",
            "0.123893800516877\n",
            "0.1599999957220001\n",
            "0.23157894256842115\n",
            "0.15789473252077574\n",
            "0.19047618557823143\n",
            "0.12738853123453295\n",
            "0.2300884907479052\n",
            "0.1866666616675557\n",
            "0.07920791580433323\n",
            "0.12371133535976209\n",
            "0.14414413919324748\n",
            "0.124999995106337\n",
            "0.2015503827053664\n",
            "0.16071428128985982\n",
            "0.12048192309478897\n",
            "0.14432989235412916\n",
            "0.18390804099352637\n",
            "0.18181817785123974\n",
            "0.32098764934003965\n",
            "0.3495145585031577\n",
            "0.49999999506920423\n",
            "0.14285713877551035\n",
            "0.43809523309569165\n",
            "0.19417475228202485\n",
            "0.10638297410593048\n",
            "0.17021276097781818\n",
            "0.255319144515618\n",
            "0.20967741504292411\n",
            "0.2568807294032489\n",
            "0.1684210480354572\n",
            "0.16901407950803427\n",
            "0.11940298032523969\n",
            "0.32352940704152255\n",
            "0.14084506637571922\n",
            "0.14432989318312264\n",
            "0.28965516756242576\n",
            "0.07142856643494933\n"
          ],
          "name": "stdout"
        }
      ]
    },
    {
      "cell_type": "code",
      "metadata": {
        "id": "cYuU9oWNQiIR"
      },
      "source": [
        "y_rel_RP=[]\n",
        "# vectorisers=['TFIDF','Glove100','GoogleNewsModel','RPModel','w2v_ft','w2v_ft_1'] \n",
        "# score2tf, score22text, genSummaryOC,sentenceindexmain=getSummary(OtherContent,5,methods='all')\n",
        "generatedSummary={}\n",
        "for key in genSummaryOC.keys():\n",
        "  summattach=''\n",
        "  for sent in genSummaryOC[key]:\n",
        "    summattach+=sent+\" \"\n",
        "  generatedSummary[key]=summattach\n",
        "      # generatedSummary=genSummary\n",
        "generated_Summary_vector_dict,generated_Summary_vector=getVectorisedFormRelMinEdit(generatedSummary,'RPModel')\n",
        "OtherContent_vector_dict,OtherContent_vector=getVectorisedFormRelMinEdit(OtherContent_Dict,vectoriser)\n",
        "\n",
        "y_rel_RP.append((getRelativeMinEditDistanceScore(generated_Summary_vector_dict,OtherContent_vector_dict)))\n"
      ],
      "execution_count": null,
      "outputs": []
    },
    {
      "cell_type": "code",
      "metadata": {
        "colab": {
          "base_uri": "https://localhost:8080/"
        },
        "id": "_Z3x10u6QiIR",
        "outputId": "de8eb347-920f-4b01-ee8a-daec02bbba45"
      },
      "source": [
        "y_rel_RP[0]"
      ],
      "execution_count": null,
      "outputs": [
        {
          "output_type": "execute_result",
          "data": {
            "text/plain": [
              "[0.016129032258064516,\n",
              " 0.016666666666666666,\n",
              " 0.016129032258064516,\n",
              " 0.01694915254237288,\n",
              " 0.015873015873015872,\n",
              " 0.016129032258064516,\n",
              " 0.015873015873015872,\n",
              " 0.016129032258064516,\n",
              " 0.016129032258064516,\n",
              " 0.016666666666666666,\n",
              " 0.016666666666666666,\n",
              " 0.015625,\n",
              " 0.01639344262295082,\n",
              " 0.01639344262295082,\n",
              " 0.015625,\n",
              " 0.01639344262295082,\n",
              " 0.015384615384615385,\n",
              " 0.016666666666666666,\n",
              " 0.015873015873015872,\n",
              " 0.016666666666666666,\n",
              " 0.016129032258064516,\n",
              " 0.016666666666666666,\n",
              " 0.016666666666666666,\n",
              " 0.016666666666666666,\n",
              " 0.017241379310344827,\n",
              " 0.016666666666666666,\n",
              " 0.016129032258064516,\n",
              " 0.017857142857142856,\n",
              " 0.01694915254237288,\n",
              " 0.016129032258064516,\n",
              " 0.015384615384615385,\n",
              " 0.016129032258064516,\n",
              " 0.016666666666666666,\n",
              " 0.01694915254237288,\n",
              " 0.017241379310344827,\n",
              " 0.01639344262295082,\n",
              " 0.016666666666666666,\n",
              " 0.01639344262295082,\n",
              " 0.015625,\n",
              " 0.016129032258064516,\n",
              " 0.016129032258064516,\n",
              " 0.01639344262295082,\n",
              " 0.016129032258064516,\n",
              " 0.016666666666666666,\n",
              " 0.016129032258064516,\n",
              " 0.016666666666666666,\n",
              " 0.015873015873015872,\n",
              " 0.015873015873015872,\n",
              " 0.016129032258064516,\n",
              " 0.016129032258064516,\n",
              " 0.017857142857142856,\n",
              " 0.016129032258064516,\n",
              " 0.017241379310344827,\n",
              " 0.016666666666666666,\n",
              " 0.01694915254237288,\n",
              " 0.015873015873015872,\n",
              " 0.017543859649122806,\n",
              " 0.016666666666666666,\n",
              " 0.01639344262295082,\n",
              " 0.016129032258064516,\n",
              " 0.01639344262295082,\n",
              " 0.015873015873015872,\n",
              " 0.015873015873015872,\n",
              " 0.01639344262295082,\n",
              " 0.01818181818181818]"
            ]
          },
          "metadata": {
            "tags": []
          },
          "execution_count": 170
        }
      ]
    },
    {
      "cell_type": "markdown",
      "metadata": {
        "id": "ecGAwHuFQiIR"
      },
      "source": [
        "Implementation of textrank without any embedding and lexrank summariser  using package sumy"
      ]
    },
    {
      "cell_type": "code",
      "metadata": {
        "id": "mIxee7RXQiIR"
      },
      "source": [
        "x=[]\n",
        "y_rouge=[]\n",
        "y_releditDist=[]\n",
        "y_RI=[]\n",
        "y_MI=[]\n",
        "y_CO=[]\n",
        "y_wmd=[]\n",
        "y1=[]\n",
        "vectorisers=['TFIDF','Glove100','GoogleNewsModel','RPModel','w2v_ft','w2v_ft_1'] \n",
        "for k in range(1,11):\n",
        "  print(k)\n",
        "  generatedSummary={}\n",
        "  for key in OtherContent_Dict.keys():\n",
        "    parser = PlaintextParser.from_string(Intronew[key],Tokenizer(\"english\"))\n",
        "    # uncomment for lexrank and comment the textrank part\n",
        "    # summarizer = LexRankSummarizer() \n",
        "    summarizer = TextRankSummarizer()\n",
        "    summary=summarizer(parser.document, k)\n",
        "    appendStr=''\n",
        "    for sent in summary:\n",
        "      appendStr+=str(sent)+\" \"\n",
        "    generatedSummary[key]=appendStr\n",
        "  x.append(k)\n",
        "  y_rouge.append(rouge.get_scores(generatedSummary.values(),Highlights_Dict.values(),avg=True)['rouge-l']['f'])\n",
        "  y_wmd.append(1/(1+getWMDScore(generatedSummary,Highlights_Dict)))\n",
        "  yintrel=[]\n",
        "  yintRI=[]\n",
        "  yintMI=[]\n",
        "  yintCO=[]\n",
        "  for vectoriser in vectorisers:\n",
        "    \n",
        "    generated_Summary_vector_dict,generated_Summary_vector=getVectorisedFormRelMinEdit(generatedSummary,vectoriser)\n",
        "    OtherContent_vector_dict,OtherContent_vector=getVectorisedFormRelMinEdit(OtherContent_Dict,vectoriser)\n",
        "    K,PC,RI,MI,CO=getClusteringResults(vectoriser,OtherContent_vector,generated_Summary_vector,k)\n",
        "    # cands=[]\n",
        "    # refs=[]\n",
        "    # for key in Highlights_Dict.keys():\n",
        "    #   cands.append(generatedSummary[key])\n",
        "    #   refs.append(Highlightvalue[key])\n",
        "    # P, R, F1 = score(cands, refs, lang=\"en\", verbose=True)\n",
        "    # y1.append(F1.mean())\n",
        "    # if vectoriser!='TFIDF':\n",
        "    yintrel.append(1/(1+getRelativeMinEditDistanceScore(generated_Summary_vector_dict,OtherContent_vector_dict)))\n",
        "    yintRI.append(RI)\n",
        "    yintMI.append(MI)\n",
        "    yintCO.append(CO)\n",
        "    # y_releditDist.append(yintrel)\n",
        "  y_RI.append(yintRI)\n",
        "  y_MI.append(yintMI)\n",
        "  y_CO.append(yintCO)\n",
        "  y_releditDist.append(yintrel)"
      ],
      "execution_count": null,
      "outputs": []
    },
    {
      "cell_type": "markdown",
      "metadata": {
        "id": "78ynj1zQGyhK"
      },
      "source": [
        "## Experiments\n",
        "\n",
        "This function first extracts the summary based on the given parameter i.e Intro and All Section(OC). The generated summaries are then evaluated using supervised techniques i.e rouge-l, WMDScore and BertScore and also with the proposed unsupervised evalaution metrics for varying number of principal components in case of \"Relative Clustering Comparison Score\""
      ]
    },
    {
      "cell_type": "code",
      "metadata": {
        "id": "h1BjeNNfBeIv"
      },
      "source": [
        "def runExp(ContentName,Content,GivenSummaries,GivenSummariesName,methods):\n",
        "  print(\"Experiment with \"+ContentName+\" as the content\")\n",
        "  \n",
        "  score2tf, score22text, generated_Summ,sentenceindexmain=getSummary(Content[0],5,methods='all')\n",
        "  \n",
        "  GS=[]\n",
        "  for method in methods:\n",
        "    generated_Summary={}\n",
        "    generated_Summary_vector={}\n",
        "    print(\"Method is \"+method)\n",
        "    if method=='all':\n",
        "      generated_Summary=generated_Summ\n",
        "    if method=='only_tfidf':\n",
        "      for filename in Content[0].keys():\n",
        "        # print(filename)\n",
        "        mainscore=score2tf[filename]\n",
        "        generated_Summary[filename]=getSummaryTop(mainscore/mainscore.sum(axis=0,keepdims=1),sentenceindexmain[filename])\n",
        "    if method=='only_textRank':\n",
        "      for filename in Content[0].keys():\n",
        "        mainscore=np.array(score22text[filename])\n",
        "        generated_Summary[filename]=getSummaryTop(mainscore/mainscore.sum(axis=0,keepdims=1),sentenceindexmain[filename])\n",
        "    GS.append(generated_Summary)\n",
        "    \n",
        "    generated_Summary_vector=getVectorDict(generated_Summary)\n",
        "    print(generated_Summary_vector)\n",
        "    print(\"The relative minimum edit distance score is:\")\n",
        "    print(getRelativeMinEditDistanceScore(generated_Summary_vector,OtherContent_vector))\n",
        "    print(\".............................................................................\")\n",
        "    for i in range(len(GivenSummaries)):\n",
        "      print(\"Comparing with \"+ GivenSummariesName[i])\n",
        "      print(\"Rouge Score is :\")\n",
        "      rouge_score = getRougeScore(generated_Summary.values(), GivenSummaries[i].values())\n",
        "      print(\"WMD Score is :\")\n",
        "      print(getWMDScore(generated_Summary,GivenSummaries[i]))\n",
        "      # uncomment only when using server\n",
        "      # print(\"BERT Score is:\")\n",
        "      # getBertScore(generated_Summary,GivenSummaries[i]))\n",
        "      print(\".......................................................................\")\n",
        "    print(\"Clustering Based Evaluation\")\n",
        "    vectorisers=['TFIDF','Glove100','GoogleNewsModel','RPModel','w2v_ft','w2v_ft_1']\n",
        "    for vectoriser in vectorisers:\n",
        "      print(vectoriser)\n",
        "      if vectoriser=='Glove100'or vectoriser=='RPModel' :\n",
        "        numComps=[0,5,50]\n",
        "      else:\n",
        "        numComps=[0,5,50,100]\n",
        "      vectorized_cont_int=getVectorisedForm(OtherContent_Dict.values(),vectoriser)\n",
        "      vectorized_gs_int=getVectorisedForm(generated_Summary.values(),vectoriser) \n",
        "      for numComp in numComps:\n",
        "        Contentlabel=[]\n",
        "        GenSummary=[]\n",
        "        print(\"number of PCS\"+str(numComp))\n",
        "        vectorized_cont=applyPCA(vectorized_cont_int,numComp) #######\n",
        "        Kcont,elbowcont,silcont=getPlotData(vectorized_cont)\n",
        "        sensitivity = [0.5, 1, 1.5, 2, 3, 5, 100]\n",
        "        kneesCont = []\n",
        "        for s in sensitivity:\n",
        "          kl = KneeLocator(Kcont, elbowcont, curve='convex', direction='decreasing', S=s)\n",
        "          if kl.knee!=None:\n",
        "            kneesCont.append(kl.knee)\n",
        "        print(kneesCont)\n",
        "        # getPlot(Kcont,elbowcont,silcont)\n",
        "        Contentidx = np.argsort(silcont)[-6:]\n",
        "        vectorized_gs=applyPCA(vectorized_gs_int,numComp)      ######\n",
        "        Kgs,elbowgs,silgs=getPlotData(vectorized_gs)\n",
        "        kneesGS = []\n",
        "        for s in sensitivity:\n",
        "          kl = KneeLocator(Kgs, elbowgs, curve='convex', direction='decreasing', S=s)\n",
        "          if kl.knee!=None:\n",
        "            kneesGS.append(kl.knee)\n",
        "        print(kneesGS)\n",
        "        # getPlot(Kgs,elbowgs,silgs)\n",
        "        if len(set(kneesCont).intersection(kneesGS))!=0:\n",
        "          kvalue=(set(kneesCont).intersection(kneesGS)).pop()\n",
        "        else:\n",
        "        \n",
        "          GenSummaryidx = np.argsort(silgs)[-6:]\n",
        "          CommonVal=set(GenSummaryidx).intersection(Contentidx) \n",
        "          # print(CommonVal[len(CommonVal)-1])\n",
        "          kval=CommonVal.pop()\n",
        "          kvalue=Kgs[kval]\n",
        "        print(\"chosen k is:\" +str(kvalue))\n",
        "        kmeans_Content = KMeans(n_clusters=kvalue, random_state=300).fit(vectorized_cont)\n",
        "        Contentlabel.append(kmeans_Content.labels_)\n",
        "\n",
        "        kmeans_GenSummary= KMeans(n_clusters=kvalue, random_state=300).fit(vectorized_gs)\n",
        "        GenSummary.append(kmeans_GenSummary.labels_)\n",
        "\n",
        "        \n",
        "        getOtherScores(Contentlabel[0], GenSummary[0])\n",
        "        print(\"........................................................................\")\n",
        "    # return GS\n"
      ],
      "execution_count": null,
      "outputs": []
    },
    {
      "cell_type": "code",
      "metadata": {
        "colab": {
          "base_uri": "https://localhost:8080/"
        },
        "id": "PCE_biVeggvz",
        "outputId": "875c787b-c666-4fbd-81c5-2bd547237cf4"
      },
      "source": [
        "runExp(\"Introducution from Research paper\",[Intro,Intro_Dict],[Highlightvalue,Abstract_Dict],[\"Highlight\",'Abstract'],['all','only_tfidf','only_textRank'])"
      ],
      "execution_count": null,
      "outputs": [
        {
          "output_type": "stream",
          "text": [
            "Experiment with Introducution from Research paper as the content\n",
            "Method is all\n",
            "The relative minimum edit distance score is:\n",
            "145.59333333333333\n",
            ".............................................................................\n",
            "Comparing with Highlight\n",
            "Rouge Score is :\n",
            "{'rouge-1': {'f': 0.15061515105591303, 'p': 0.08962073824730385, 'r': 0.5130110126862787}, 'rouge-2': {'f': 0.04194532596707016, 'p': 0.024874027332034407, 'r': 0.14636869238304906}, 'rouge-l': {'f': 0.16016773302636406, 'p': 0.09914484777180475, 'r': 0.4468832590959245}}\n",
            "WMD Score is :\n",
            "2.684107751917753\n",
            ".......................................................................\n",
            "Comparing with Abstract\n",
            "Rouge Score is :\n",
            "{'rouge-1': {'f': 0.33363922706138194, 'p': 0.27132527671703843, 'r': 0.45900468708379133}, 'rouge-2': {'f': 0.1050189116867325, 'p': 0.08518139313634165, 'r': 0.14536110236424998}, 'rouge-l': {'f': 0.2601903408160586, 'p': 0.21550000247803738, 'r': 0.3425254857998521}}\n",
            "WMD Score is :\n",
            "2.2475933524800804\n",
            ".......................................................................\n",
            "Clustering Based Evaluation\n",
            "TFIDF\n",
            "number of PCS0\n",
            "[]\n",
            "[]\n",
            "chosen k is:10\n",
            "RandIndex= 0.1374827611379326\n",
            "Mutual_info= 0.21191647708560207\n",
            "Completeness= 0.32493533426359206\n",
            "........................................................................\n",
            "number of PCS5\n",
            "[15, 15, 15, 15]\n",
            "[15, 15, 15, 15]\n",
            "chosen k is:15\n",
            "RandIndex= 0.15536641241914162\n",
            "Mutual_info= 0.2844069428172182\n",
            "Completeness= 0.4639413488107955\n",
            "........................................................................\n",
            "number of PCS50\n",
            "[25]\n",
            "[25]\n",
            "chosen k is:25\n",
            "RandIndex= 0.12682915801021877\n",
            "Mutual_info= 0.2156625035006459\n",
            "Completeness= 0.5603806523511579\n",
            "........................................................................\n",
            "number of PCS100\n",
            "[]\n",
            "[]\n",
            "chosen k is:10\n",
            "RandIndex= 0.07078634680838669\n",
            "Mutual_info= 0.11807757032704565\n",
            "Completeness= 0.2376226479578533\n",
            "........................................................................\n",
            "Glove100\n",
            "number of PCS0\n",
            "[15, 15]\n",
            "[20]\n",
            "chosen k is:5\n",
            "RandIndex= 0.14378833869433244\n",
            "Mutual_info= 0.17957468536444585\n",
            "Completeness= 0.20779208549890255\n",
            "........................................................................\n",
            "number of PCS5\n",
            "[15, 15, 15]\n",
            "[15, 15, 15]\n",
            "chosen k is:15\n",
            "RandIndex= 0.10211732720493201\n",
            "Mutual_info= 0.1985836867669334\n",
            "Completeness= 0.4131158996902296\n",
            "........................................................................\n",
            "number of PCS50\n",
            "[15, 15]\n",
            "[20]\n",
            "chosen k is:5\n",
            "RandIndex= 0.16899298646057584\n",
            "Mutual_info= 0.20304439949945138\n",
            "Completeness= 0.23180564457898808\n",
            "........................................................................\n",
            "GoogleNewsModel\n",
            "number of PCS0\n",
            "[15]\n",
            "[15]\n",
            "chosen k is:15\n",
            "RandIndex= 0.13032271368182288\n",
            "Mutual_info= 0.2850054525245566\n",
            "Completeness= 0.4765631884127331\n",
            "........................................................................\n",
            "number of PCS5\n",
            "[15, 15, 15, 15]\n",
            "[15, 15, 15]\n",
            "chosen k is:15\n",
            "RandIndex= 0.09223095918897843\n",
            "Mutual_info= 0.20462938731256317\n",
            "Completeness= 0.4193493995254058\n",
            "........................................................................\n",
            "number of PCS50\n",
            "[20, 20]\n",
            "[15]\n",
            "chosen k is:5\n",
            "RandIndex= 0.14509374415047005\n",
            "Mutual_info= 0.16737791613915992\n",
            "Completeness= 0.19671909752679279\n",
            "........................................................................\n",
            "number of PCS100\n",
            "[15, 15]\n",
            "[15]\n",
            "chosen k is:15\n",
            "RandIndex= 0.12187930772539857\n",
            "Mutual_info= 0.23699252581937658\n",
            "Completeness= 0.4418659733787553\n",
            "........................................................................\n",
            "RPModel\n",
            "number of PCS0\n",
            "[15, 15]\n",
            "[20, 20]\n",
            "chosen k is:5\n",
            "RandIndex= 0.07036111807071962\n",
            "Mutual_info= 0.1349977481159037\n",
            "Completeness= 0.16599669284547602\n",
            "........................................................................\n",
            "number of PCS5\n",
            "[15, 15, 15]\n",
            "[15, 15, 15]\n",
            "chosen k is:15\n",
            "RandIndex= 0.08910535891437964\n",
            "Mutual_info= 0.17420741904594286\n",
            "Completeness= 0.39271726742139484\n",
            "........................................................................\n",
            "number of PCS50\n",
            "[15, 15]\n",
            "[20, 20]\n",
            "chosen k is:5\n",
            "RandIndex= 0.07723472883056724\n",
            "Mutual_info= 0.10651287493805962\n",
            "Completeness= 0.14367639884680078\n",
            "........................................................................\n",
            "w2v_ft\n",
            "number of PCS0\n",
            "[15, 15]\n",
            "[20, 20]\n",
            "chosen k is:5\n",
            "RandIndex= 0.07036111807071962\n",
            "Mutual_info= 0.1349977481159037\n",
            "Completeness= 0.16599669284547602\n",
            "........................................................................\n",
            "number of PCS5\n",
            "[15, 15, 15]\n",
            "[15, 15, 15]\n",
            "chosen k is:15\n",
            "RandIndex= 0.08910535891437964\n",
            "Mutual_info= 0.17420741904594286\n",
            "Completeness= 0.39271726742139484\n",
            "........................................................................\n",
            "number of PCS50\n",
            "[15, 15]\n",
            "[20, 20]\n",
            "chosen k is:5\n",
            "RandIndex= 0.07723472883056724\n",
            "Mutual_info= 0.10651287493805962\n",
            "Completeness= 0.14367639884680078\n",
            "........................................................................\n",
            "number of PCS100\n",
            "[15, 15]\n",
            "[20]\n",
            "chosen k is:5\n",
            "RandIndex= 0.0873534619466477\n",
            "Mutual_info= 0.11784676164309398\n",
            "Completeness= 0.1557536604013425\n",
            "........................................................................\n",
            "w2v_ft_1\n",
            "number of PCS0\n",
            "[15, 15]\n",
            "[20, 20]\n",
            "chosen k is:5\n",
            "RandIndex= 0.07036111807071962\n",
            "Mutual_info= 0.1349977481159037\n",
            "Completeness= 0.16599669284547602\n",
            "........................................................................\n",
            "number of PCS5\n",
            "[15, 15, 15]\n",
            "[15, 15, 15]\n",
            "chosen k is:15\n",
            "RandIndex= 0.08910535891437964\n",
            "Mutual_info= 0.17420741904594286\n",
            "Completeness= 0.39271726742139484\n",
            "........................................................................\n",
            "number of PCS50\n",
            "[15, 15]\n",
            "[20, 20]\n",
            "chosen k is:5\n",
            "RandIndex= 0.07723472883056724\n",
            "Mutual_info= 0.10651287493805962\n",
            "Completeness= 0.14367639884680078\n",
            "........................................................................\n",
            "number of PCS100\n",
            "[15, 15]\n",
            "[20]\n",
            "chosen k is:5\n",
            "RandIndex= 0.0873534619466477\n",
            "Mutual_info= 0.11784676164309398\n",
            "Completeness= 0.1557536604013425\n",
            "........................................................................\n",
            "Method is only_tfidf\n",
            "The relative minimum edit distance score is:\n",
            "145.58\n",
            ".............................................................................\n",
            "Comparing with Highlight\n",
            "Rouge Score is :\n",
            "{'rouge-1': {'f': 0.15153503794463355, 'p': 0.09030184030667927, 'r': 0.5135020002889277}, 'rouge-2': {'f': 0.04222195549885137, 'p': 0.02507783508656315, 'r': 0.14660434291759877}, 'rouge-l': {'f': 0.16090762481692633, 'p': 0.09978546367169285, 'r': 0.446181263313374}}\n",
            "WMD Score is :\n",
            "2.6783933018870356\n",
            ".......................................................................\n",
            "Comparing with Abstract\n",
            "Rouge Score is :\n",
            "{'rouge-1': {'f': 0.3338394401105861, 'p': 0.27223051659699665, 'r': 0.4581329736432081}, 'rouge-2': {'f': 0.10540346636574531, 'p': 0.08571438946281013, 'r': 0.1456711572991037}, 'rouge-l': {'f': 0.2604459850934564, 'p': 0.21648882677304512, 'r': 0.34168411603838567}}\n",
            "WMD Score is :\n",
            "2.245069482110326\n",
            ".......................................................................\n",
            "Clustering Based Evaluation\n",
            "TFIDF\n",
            "number of PCS0\n",
            "[]\n",
            "[]\n",
            "chosen k is:10\n",
            "RandIndex= 0.1280630692311927\n",
            "Mutual_info= 0.1918492940766757\n",
            "Completeness= 0.30719977055856024\n",
            "........................................................................\n",
            "number of PCS5\n",
            "[15, 15, 15, 15]\n",
            "[15, 15, 15, 15]\n",
            "chosen k is:15\n",
            "RandIndex= 0.14409416014278068\n",
            "Mutual_info= 0.25856941286657104\n",
            "Completeness= 0.44323869226111445\n",
            "........................................................................\n",
            "number of PCS50\n",
            "[20]\n",
            "[15]\n",
            "chosen k is:10\n",
            "RandIndex= 0.1893568966666536\n",
            "Mutual_info= 0.28451376326924255\n",
            "Completeness= 0.38437210820142625\n",
            "........................................................................\n",
            "number of PCS100\n",
            "[]\n",
            "[]\n",
            "chosen k is:10\n",
            "RandIndex= 0.09551776107535358\n",
            "Mutual_info= 0.222036599543008\n",
            "Completeness= 0.32902071875110567\n",
            "........................................................................\n",
            "Glove100\n",
            "number of PCS0\n",
            "[15, 15]\n",
            "[25]\n",
            "chosen k is:5\n",
            "RandIndex= 0.10851693760784668\n",
            "Mutual_info= 0.17236270839373502\n",
            "Completeness= 0.2003205275015459\n",
            "........................................................................\n",
            "number of PCS5\n",
            "[15, 15, 15]\n",
            "[15, 15, 15]\n",
            "chosen k is:15\n",
            "RandIndex= 0.08089705724227163\n",
            "Mutual_info= 0.1711566981493175\n",
            "Completeness= 0.39214577777230014\n",
            "........................................................................\n",
            "number of PCS50\n",
            "[15, 15]\n",
            "[15, 15]\n",
            "chosen k is:15\n",
            "RandIndex= 0.09599553557760829\n",
            "Mutual_info= 0.21562854693170255\n",
            "Completeness= 0.42904426123101796\n",
            "........................................................................\n",
            "GoogleNewsModel\n",
            "number of PCS0\n",
            "[15]\n",
            "[15]\n",
            "chosen k is:15\n",
            "RandIndex= 0.1374342721313837\n",
            "Mutual_info= 0.2656651878678524\n",
            "Completeness= 0.4526908599805805\n",
            "........................................................................\n",
            "number of PCS5\n",
            "[15, 15, 15, 15]\n",
            "[15, 15, 15, 15]\n",
            "chosen k is:15\n",
            "RandIndex= 0.08802389739569912\n",
            "Mutual_info= 0.17727769333122675\n",
            "Completeness= 0.3995212799942114\n",
            "........................................................................\n",
            "number of PCS50\n",
            "[20, 20]\n",
            "[15]\n",
            "chosen k is:5\n",
            "RandIndex= 0.16306739655458044\n",
            "Mutual_info= 0.21790133750240887\n",
            "Completeness= 0.24669240174146975\n",
            "........................................................................\n",
            "number of PCS100\n",
            "[15, 15]\n",
            "[15]\n",
            "chosen k is:15\n",
            "RandIndex= 0.130104292059325\n",
            "Mutual_info= 0.2598564735134312\n",
            "Completeness= 0.46258048853489014\n",
            "........................................................................\n",
            "RPModel\n",
            "number of PCS0\n",
            "[15, 15]\n",
            "[15, 15]\n",
            "chosen k is:15\n",
            "RandIndex= 0.06233084502491201\n",
            "Mutual_info= 0.12669049612485378\n",
            "Completeness= 0.3378943879781759\n",
            "........................................................................\n",
            "number of PCS5\n",
            "[15, 15, 15]\n",
            "[15, 15, 15]\n",
            "chosen k is:15\n",
            "RandIndex= 0.07713407215696684\n",
            "Mutual_info= 0.14005638820426\n",
            "Completeness= 0.36816191623034783\n",
            "........................................................................\n",
            "number of PCS50\n",
            "[15, 15]\n",
            "[20, 20]\n",
            "chosen k is:5\n",
            "RandIndex= 0.06318157916348319\n",
            "Mutual_info= 0.09368346892045444\n",
            "Completeness= 0.13062622734230553\n",
            "........................................................................\n",
            "w2v_ft\n",
            "number of PCS0\n",
            "[15, 15]\n",
            "[15, 15]\n",
            "chosen k is:15\n",
            "RandIndex= 0.06233084502491201\n",
            "Mutual_info= 0.12669049612485378\n",
            "Completeness= 0.3378943879781759\n",
            "........................................................................\n",
            "number of PCS5\n",
            "[15, 15, 15]\n",
            "[15, 15, 15]\n",
            "chosen k is:15\n",
            "RandIndex= 0.07713407215696684\n",
            "Mutual_info= 0.14005638820426\n",
            "Completeness= 0.36816191623034783\n",
            "........................................................................\n",
            "number of PCS50\n",
            "[15, 15]\n",
            "[20, 20]\n",
            "chosen k is:5\n",
            "RandIndex= 0.06318157916348319\n",
            "Mutual_info= 0.09368346892045444\n",
            "Completeness= 0.13062622734230553\n",
            "........................................................................\n",
            "number of PCS100\n",
            "[15, 15]\n",
            "[15, 15]\n",
            "chosen k is:15\n",
            "RandIndex= 0.07959594213234354\n",
            "Mutual_info= 0.14932767155560267\n",
            "Completeness= 0.37027650287397296\n",
            "........................................................................\n",
            "w2v_ft_1\n",
            "number of PCS0\n",
            "[15, 15]\n",
            "[15, 15]\n",
            "chosen k is:15\n",
            "RandIndex= 0.06233084502491201\n",
            "Mutual_info= 0.12669049612485378\n",
            "Completeness= 0.3378943879781759\n",
            "........................................................................\n",
            "number of PCS5\n",
            "[15, 15, 15]\n",
            "[15, 15, 15]\n",
            "chosen k is:15\n",
            "RandIndex= 0.07713407215696684\n",
            "Mutual_info= 0.14005638820426\n",
            "Completeness= 0.36816191623034783\n",
            "........................................................................\n",
            "number of PCS50\n",
            "[15, 15]\n",
            "[20, 20]\n",
            "chosen k is:5\n",
            "RandIndex= 0.06318157916348319\n",
            "Mutual_info= 0.09368346892045444\n",
            "Completeness= 0.13062622734230553\n",
            "........................................................................\n",
            "number of PCS100\n",
            "[15, 15]\n",
            "[15, 15]\n",
            "chosen k is:15\n",
            "RandIndex= 0.07959594213234354\n",
            "Mutual_info= 0.14932767155560267\n",
            "Completeness= 0.37027650287397296\n",
            "........................................................................\n",
            "Method is only_textRank\n",
            "The relative minimum edit distance score is:\n",
            "145.16\n",
            ".............................................................................\n",
            "Comparing with Highlight\n",
            "Rouge Score is :\n",
            "{'rouge-1': {'f': 0.1410845228446368, 'p': 0.08473110642810988, 'r': 0.4570614172979477}, 'rouge-2': {'f': 0.032867330757263766, 'p': 0.019729762852210696, 'r': 0.10758565511473407}, 'rouge-l': {'f': 0.1403911917482268, 'p': 0.08619465996311944, 'r': 0.4031675727089027}}\n",
            "WMD Score is :\n",
            "2.860300419761416\n",
            ".......................................................................\n",
            "Comparing with Abstract\n",
            "Rouge Score is :\n",
            "{'rouge-1': {'f': 0.2980449571758072, 'p': 0.2473627060152191, 'r': 0.396826022783664}, 'rouge-2': {'f': 0.07211908817339185, 'p': 0.059409210708762455, 'r': 0.09745873758289686}, 'rouge-l': {'f': 0.21860585876179647, 'p': 0.17802552099070715, 'r': 0.2945240974663943}}\n",
            "WMD Score is :\n",
            "2.4542709897933292\n",
            ".......................................................................\n",
            "Clustering Based Evaluation\n",
            "TFIDF\n",
            "number of PCS0\n",
            "[]\n",
            "[]\n",
            "chosen k is:10\n",
            "RandIndex= 0.09843873195055418\n",
            "Mutual_info= 0.17056347427672935\n",
            "Completeness= 0.29020658264266336\n",
            "........................................................................\n",
            "number of PCS5\n",
            "[10, 10, 10, 10]\n",
            "[15, 15, 15, 15]\n",
            "chosen k is:5\n",
            "RandIndex= 0.2031508278040072\n",
            "Mutual_info= 0.2491247362317029\n",
            "Completeness= 0.30492816870680006\n",
            "........................................................................\n",
            "number of PCS50\n",
            "[15]\n",
            "[15]\n",
            "chosen k is:15\n",
            "RandIndex= 0.0915307711402834\n",
            "Mutual_info= 0.17283642497431898\n",
            "Completeness= 0.36963417588596137\n",
            "........................................................................\n",
            "number of PCS100\n",
            "[]\n",
            "[]\n",
            "chosen k is:5\n",
            "RandIndex= 0.18777592025157439\n",
            "Mutual_info= 0.25551898512963184\n",
            "Completeness= 0.28864695136557456\n",
            "........................................................................\n",
            "Glove100\n",
            "number of PCS0\n",
            "[15, 15]\n",
            "[15, 15]\n",
            "chosen k is:15\n",
            "RandIndex= 0.08033219512988772\n",
            "Mutual_info= 0.16126339666022027\n",
            "Completeness= 0.36584419881580615\n",
            "........................................................................\n",
            "number of PCS5\n",
            "[15, 15, 15]\n",
            "[15, 15, 15]\n",
            "chosen k is:15\n",
            "RandIndex= 0.06043522431746255\n",
            "Mutual_info= 0.11356777822725615\n",
            "Completeness= 0.3482771089709253\n",
            "........................................................................\n",
            "number of PCS50\n",
            "[15, 15]\n",
            "[15, 15]\n",
            "chosen k is:15\n",
            "RandIndex= 0.09521678237277567\n",
            "Mutual_info= 0.18534301834314046\n",
            "Completeness= 0.399612704805869\n",
            "........................................................................\n",
            "GoogleNewsModel\n",
            "number of PCS0\n",
            "[15]\n",
            "[15]\n",
            "chosen k is:15\n",
            "RandIndex= 0.15524478768060485\n",
            "Mutual_info= 0.26491892151555063\n",
            "Completeness= 0.4507883199471264\n",
            "........................................................................\n",
            "number of PCS5\n",
            "[15, 15, 15, 15]\n",
            "[15, 15, 15]\n",
            "chosen k is:15\n",
            "RandIndex= 0.10210197570399887\n",
            "Mutual_info= 0.18959953063082816\n",
            "Completeness= 0.40792010049617616\n",
            "........................................................................\n",
            "number of PCS50\n",
            "[20, 20]\n",
            "[15]\n",
            "chosen k is:5\n",
            "RandIndex= 0.18016037968549065\n",
            "Mutual_info= 0.24170053201034447\n",
            "Completeness= 0.2744874613156801\n",
            "........................................................................\n",
            "number of PCS100\n",
            "[15, 15]\n",
            "[20]\n",
            "chosen k is:5\n",
            "RandIndex= 0.18375721959155586\n",
            "Mutual_info= 0.2452175600945463\n",
            "Completeness= 0.27578267673641105\n",
            "........................................................................\n",
            "RPModel\n",
            "number of PCS0\n",
            "[15, 15]\n",
            "[15, 15]\n",
            "chosen k is:15\n",
            "RandIndex= 0.06288372410647446\n",
            "Mutual_info= 0.13648546373235762\n",
            "Completeness= 0.3482009326488321\n",
            "........................................................................\n",
            "number of PCS5\n",
            "[15, 15, 15]\n",
            "[15, 15, 15]\n",
            "chosen k is:15\n",
            "RandIndex= 0.056179525552312225\n",
            "Mutual_info= 0.12859927382221586\n",
            "Completeness= 0.3588266257423607\n",
            "........................................................................\n",
            "number of PCS50\n",
            "[15, 15]\n",
            "[15, 15]\n",
            "chosen k is:15\n",
            "RandIndex= 0.05260386901681614\n",
            "Mutual_info= 0.11079866592713555\n",
            "Completeness= 0.34374223067528903\n",
            "........................................................................\n",
            "w2v_ft\n",
            "number of PCS0\n",
            "[15, 15]\n",
            "[15, 15]\n",
            "chosen k is:15\n",
            "RandIndex= 0.06288372410647446\n",
            "Mutual_info= 0.13648546373235762\n",
            "Completeness= 0.3482009326488321\n",
            "........................................................................\n",
            "number of PCS5\n",
            "[15, 15, 15]\n",
            "[15, 15, 15]\n",
            "chosen k is:15\n",
            "RandIndex= 0.056179525552312225\n",
            "Mutual_info= 0.12859927382221586\n",
            "Completeness= 0.3588266257423607\n",
            "........................................................................\n",
            "number of PCS50\n",
            "[15, 15]\n",
            "[15, 15]\n",
            "chosen k is:15\n",
            "RandIndex= 0.05260386901681614\n",
            "Mutual_info= 0.11079866592713555\n",
            "Completeness= 0.34374223067528903\n",
            "........................................................................\n",
            "number of PCS100\n",
            "[15, 15]\n",
            "[10, 10]\n",
            "chosen k is:5\n",
            "RandIndex= 0.06757427070661058\n",
            "Mutual_info= 0.11777733933044741\n",
            "Completeness= 0.14877969843926211\n",
            "........................................................................\n",
            "w2v_ft_1\n",
            "number of PCS0\n",
            "[15, 15]\n",
            "[15, 15]\n",
            "chosen k is:15\n",
            "RandIndex= 0.06288372410647446\n",
            "Mutual_info= 0.13648546373235762\n",
            "Completeness= 0.3482009326488321\n",
            "........................................................................\n",
            "number of PCS5\n",
            "[15, 15, 15]\n",
            "[15, 15, 15]\n",
            "chosen k is:15\n",
            "RandIndex= 0.056179525552312225\n",
            "Mutual_info= 0.12859927382221586\n",
            "Completeness= 0.3588266257423607\n",
            "........................................................................\n",
            "number of PCS50\n",
            "[15, 15]\n",
            "[15, 15]\n",
            "chosen k is:15\n",
            "RandIndex= 0.05260386901681614\n",
            "Mutual_info= 0.11079866592713555\n",
            "Completeness= 0.34374223067528903\n",
            "........................................................................\n",
            "number of PCS100\n",
            "[15, 15]\n",
            "[10, 10]\n",
            "chosen k is:5\n",
            "RandIndex= 0.06757427070661058\n",
            "Mutual_info= 0.11777733933044741\n",
            "Completeness= 0.14877969843926211\n",
            "........................................................................\n"
          ],
          "name": "stdout"
        }
      ]
    },
    {
      "cell_type": "code",
      "metadata": {
        "colab": {
          "base_uri": "https://localhost:8080/"
        },
        "id": "j2Nz-Bac7F36",
        "outputId": "61897230-11db-4428-8705-58527ac38a39"
      },
      "source": [
        "runExp(\"Other Content from Research paper\",[OtherContent,OtherContent_Dict],[Highlights_Dict,Abstract_Dict],[\"Highlight\",'Abstract'],['all','only_tfidf','only_textRank'])"
      ],
      "execution_count": null,
      "outputs": [
        {
          "output_type": "stream",
          "text": [
            "Experiment with Other Content from Research paper as the content\n",
            "Method is all\n",
            "The relative minimum edit distance score is:\n",
            "145.31333333333333\n",
            ".............................................................................\n",
            "Comparing with Highlight\n",
            "Rouge Score is :\n",
            "{'rouge-1': {'f': 0.14898438271905198, 'p': 0.08880531691537388, 'r': 0.5240089646171175}, 'rouge-2': {'f': 0.04682230259400815, 'p': 0.027741170229522584, 'r': 0.16960791942622355}, 'rouge-l': {'f': 0.15633043710762487, 'p': 0.09609063311691945, 'r': 0.45779161518778155}}\n",
            "WMD Score is :\n",
            "2.703293039912832\n",
            ".......................................................................\n",
            "Comparing with Abstract\n",
            "Rouge Score is :\n",
            "{'rouge-1': {'f': 0.3189308689737955, 'p': 0.2569404231827476, 'r': 0.4592222504675299}, 'rouge-2': {'f': 0.09275881952767957, 'p': 0.07419436619036725, 'r': 0.13588400539043585}, 'rouge-l': {'f': 0.25034798554080623, 'p': 0.2020947202354683, 'r': 0.34809259558033034}}\n",
            "WMD Score is :\n",
            "2.3140130537288663\n",
            ".......................................................................\n",
            "Clustering Based Evaluation\n",
            "TFIDF\n"
          ],
          "name": "stdout"
        },
        {
          "output_type": "stream",
          "text": [
            "/usr/local/lib/python3.6/dist-packages/sklearn/feature_extraction/text.py:385: UserWarning:\n",
            "\n",
            "Your stop_words may be inconsistent with your preprocessing. Tokenizing the stop words generated tokens ['make'] not in stop_words.\n",
            "\n",
            "/usr/local/lib/python3.6/dist-packages/sklearn/feature_extraction/text.py:385: UserWarning:\n",
            "\n",
            "Your stop_words may be inconsistent with your preprocessing. Tokenizing the stop words generated tokens ['make'] not in stop_words.\n",
            "\n"
          ],
          "name": "stderr"
        },
        {
          "output_type": "stream",
          "text": [
            "number of PCS0\n"
          ],
          "name": "stdout"
        },
        {
          "output_type": "stream",
          "text": [
            "/usr/local/lib/python3.6/dist-packages/kneed/knee_locator.py:304: UserWarning:\n",
            "\n",
            "No knee/elbow found\n",
            "\n"
          ],
          "name": "stderr"
        },
        {
          "output_type": "stream",
          "text": [
            "[]\n"
          ],
          "name": "stdout"
        },
        {
          "output_type": "stream",
          "text": [
            "/usr/local/lib/python3.6/dist-packages/kneed/knee_locator.py:304: UserWarning:\n",
            "\n",
            "No knee/elbow found\n",
            "\n"
          ],
          "name": "stderr"
        },
        {
          "output_type": "stream",
          "text": [
            "[]\n",
            "chosen k is:10\n",
            "RandIndex= 0.09104440827601015\n",
            "Mutual_info= 0.1522296476432626\n",
            "Completeness= 0.27099197829852634\n",
            "........................................................................\n",
            "number of PCS5\n"
          ],
          "name": "stdout"
        },
        {
          "output_type": "stream",
          "text": [
            "/usr/local/lib/python3.6/dist-packages/kneed/knee_locator.py:304: UserWarning:\n",
            "\n",
            "No knee/elbow found\n",
            "\n"
          ],
          "name": "stderr"
        },
        {
          "output_type": "stream",
          "text": [
            "[15, 15, 15, 15]\n"
          ],
          "name": "stdout"
        },
        {
          "output_type": "stream",
          "text": [
            "/usr/local/lib/python3.6/dist-packages/kneed/knee_locator.py:304: UserWarning:\n",
            "\n",
            "No knee/elbow found\n",
            "\n"
          ],
          "name": "stderr"
        },
        {
          "output_type": "stream",
          "text": [
            "[15, 15, 15, 15]\n",
            "chosen k is:15\n",
            "RandIndex= 0.16000705917615865\n",
            "Mutual_info= 0.2549426148062948\n",
            "Completeness= 0.44888858826870365\n",
            "........................................................................\n",
            "number of PCS50\n"
          ],
          "name": "stdout"
        },
        {
          "output_type": "stream",
          "text": [
            "/usr/local/lib/python3.6/dist-packages/kneed/knee_locator.py:304: UserWarning:\n",
            "\n",
            "No knee/elbow found\n",
            "\n"
          ],
          "name": "stderr"
        },
        {
          "output_type": "stream",
          "text": [
            "[15]\n"
          ],
          "name": "stdout"
        },
        {
          "output_type": "stream",
          "text": [
            "/usr/local/lib/python3.6/dist-packages/kneed/knee_locator.py:304: UserWarning:\n",
            "\n",
            "No knee/elbow found\n",
            "\n"
          ],
          "name": "stderr"
        },
        {
          "output_type": "stream",
          "text": [
            "[15]\n",
            "chosen k is:15\n",
            "RandIndex= 0.10375868219768454\n",
            "Mutual_info= 0.21349969646517575\n",
            "Completeness= 0.39573273342301685\n",
            "........................................................................\n",
            "number of PCS100\n"
          ],
          "name": "stdout"
        },
        {
          "output_type": "stream",
          "text": [
            "/usr/local/lib/python3.6/dist-packages/kneed/knee_locator.py:304: UserWarning:\n",
            "\n",
            "No knee/elbow found\n",
            "\n"
          ],
          "name": "stderr"
        },
        {
          "output_type": "stream",
          "text": [
            "[]\n"
          ],
          "name": "stdout"
        },
        {
          "output_type": "stream",
          "text": [
            "/usr/local/lib/python3.6/dist-packages/kneed/knee_locator.py:304: UserWarning:\n",
            "\n",
            "No knee/elbow found\n",
            "\n"
          ],
          "name": "stderr"
        },
        {
          "output_type": "stream",
          "text": [
            "[]\n",
            "chosen k is:10\n",
            "RandIndex= 0.05621580213241449\n",
            "Mutual_info= 0.10630898909638122\n",
            "Completeness= 0.22202877298671628\n",
            "........................................................................\n",
            "Glove100\n",
            "number of PCS0\n"
          ],
          "name": "stdout"
        },
        {
          "output_type": "stream",
          "text": [
            "/usr/local/lib/python3.6/dist-packages/kneed/knee_locator.py:304: UserWarning:\n",
            "\n",
            "No knee/elbow found\n",
            "\n"
          ],
          "name": "stderr"
        },
        {
          "output_type": "stream",
          "text": [
            "[15, 15]\n"
          ],
          "name": "stdout"
        },
        {
          "output_type": "stream",
          "text": [
            "/usr/local/lib/python3.6/dist-packages/kneed/knee_locator.py:304: UserWarning:\n",
            "\n",
            "No knee/elbow found\n",
            "\n"
          ],
          "name": "stderr"
        },
        {
          "output_type": "stream",
          "text": [
            "[20, 20]\n",
            "chosen k is:5\n",
            "RandIndex= 0.12167899592718807\n",
            "Mutual_info= 0.15270240502959373\n",
            "Completeness= 0.19446278986998988\n",
            "........................................................................\n",
            "number of PCS5\n"
          ],
          "name": "stdout"
        },
        {
          "output_type": "stream",
          "text": [
            "/usr/local/lib/python3.6/dist-packages/kneed/knee_locator.py:304: UserWarning:\n",
            "\n",
            "No knee/elbow found\n",
            "\n"
          ],
          "name": "stderr"
        },
        {
          "output_type": "stream",
          "text": [
            "[15, 15, 15]\n"
          ],
          "name": "stdout"
        },
        {
          "output_type": "stream",
          "text": [
            "/usr/local/lib/python3.6/dist-packages/kneed/knee_locator.py:304: UserWarning:\n",
            "\n",
            "No knee/elbow found\n",
            "\n"
          ],
          "name": "stderr"
        },
        {
          "output_type": "stream",
          "text": [
            "[15, 15, 15]\n",
            "chosen k is:15\n",
            "RandIndex= 0.10257776610724623\n",
            "Mutual_info= 0.18178743226119387\n",
            "Completeness= 0.39514509352330385\n",
            "........................................................................\n",
            "number of PCS50\n"
          ],
          "name": "stdout"
        },
        {
          "output_type": "stream",
          "text": [
            "/usr/local/lib/python3.6/dist-packages/kneed/knee_locator.py:304: UserWarning:\n",
            "\n",
            "No knee/elbow found\n",
            "\n"
          ],
          "name": "stderr"
        },
        {
          "output_type": "stream",
          "text": [
            "[15, 15]\n"
          ],
          "name": "stdout"
        },
        {
          "output_type": "stream",
          "text": [
            "/usr/local/lib/python3.6/dist-packages/kneed/knee_locator.py:304: UserWarning:\n",
            "\n",
            "No knee/elbow found\n",
            "\n"
          ],
          "name": "stderr"
        },
        {
          "output_type": "stream",
          "text": [
            "[15]\n",
            "chosen k is:15\n",
            "RandIndex= 0.17913848152091755\n",
            "Mutual_info= 0.24929730054600863\n",
            "Completeness= 0.45680851660800353\n",
            "........................................................................\n",
            "GoogleNewsModel\n",
            "number of PCS0\n"
          ],
          "name": "stdout"
        },
        {
          "output_type": "stream",
          "text": [
            "/usr/local/lib/python3.6/dist-packages/kneed/knee_locator.py:304: UserWarning:\n",
            "\n",
            "No knee/elbow found\n",
            "\n"
          ],
          "name": "stderr"
        },
        {
          "output_type": "stream",
          "text": [
            "[15]\n"
          ],
          "name": "stdout"
        },
        {
          "output_type": "stream",
          "text": [
            "/usr/local/lib/python3.6/dist-packages/kneed/knee_locator.py:304: UserWarning:\n",
            "\n",
            "No knee/elbow found\n",
            "\n"
          ],
          "name": "stderr"
        },
        {
          "output_type": "stream",
          "text": [
            "[20]\n",
            "chosen k is:5\n",
            "RandIndex= 0.09587202518354888\n",
            "Mutual_info= 0.12457986098794424\n",
            "Completeness= 0.16088357311521156\n",
            "........................................................................\n",
            "number of PCS5\n"
          ],
          "name": "stdout"
        },
        {
          "output_type": "stream",
          "text": [
            "/usr/local/lib/python3.6/dist-packages/kneed/knee_locator.py:304: UserWarning:\n",
            "\n",
            "No knee/elbow found\n",
            "\n"
          ],
          "name": "stderr"
        },
        {
          "output_type": "stream",
          "text": [
            "[15, 15, 15, 15]\n"
          ],
          "name": "stdout"
        },
        {
          "output_type": "stream",
          "text": [
            "/usr/local/lib/python3.6/dist-packages/kneed/knee_locator.py:304: UserWarning:\n",
            "\n",
            "No knee/elbow found\n",
            "\n"
          ],
          "name": "stderr"
        },
        {
          "output_type": "stream",
          "text": [
            "[15, 15, 15, 15]\n",
            "chosen k is:15\n",
            "RandIndex= 0.17983302923462854\n",
            "Mutual_info= 0.2826614369960925\n",
            "Completeness= 0.48010396351163726\n",
            "........................................................................\n",
            "number of PCS50\n"
          ],
          "name": "stdout"
        },
        {
          "output_type": "stream",
          "text": [
            "/usr/local/lib/python3.6/dist-packages/kneed/knee_locator.py:304: UserWarning:\n",
            "\n",
            "No knee/elbow found\n",
            "\n"
          ],
          "name": "stderr"
        },
        {
          "output_type": "stream",
          "text": [
            "[20, 20]\n"
          ],
          "name": "stdout"
        },
        {
          "output_type": "stream",
          "text": [
            "/usr/local/lib/python3.6/dist-packages/kneed/knee_locator.py:304: UserWarning:\n",
            "\n",
            "No knee/elbow found\n",
            "\n"
          ],
          "name": "stderr"
        },
        {
          "output_type": "stream",
          "text": [
            "[15, 15]\n",
            "chosen k is:5\n",
            "RandIndex= 0.08742598557867157\n",
            "Mutual_info= 0.13594648891570552\n",
            "Completeness= 0.19573653104081323\n",
            "........................................................................\n",
            "number of PCS100\n"
          ],
          "name": "stdout"
        },
        {
          "output_type": "stream",
          "text": [
            "/usr/local/lib/python3.6/dist-packages/kneed/knee_locator.py:304: UserWarning:\n",
            "\n",
            "No knee/elbow found\n",
            "\n"
          ],
          "name": "stderr"
        },
        {
          "output_type": "stream",
          "text": [
            "[15, 15]\n"
          ],
          "name": "stdout"
        },
        {
          "output_type": "stream",
          "text": [
            "/usr/local/lib/python3.6/dist-packages/kneed/knee_locator.py:304: UserWarning:\n",
            "\n",
            "No knee/elbow found\n",
            "\n"
          ],
          "name": "stderr"
        },
        {
          "output_type": "stream",
          "text": [
            "[10]\n",
            "chosen k is:5\n",
            "RandIndex= 0.12547877852581613\n",
            "Mutual_info= 0.15767307120071256\n",
            "Completeness= 0.19384040948176678\n",
            "........................................................................\n",
            "RPModel\n",
            "number of PCS0\n"
          ],
          "name": "stdout"
        },
        {
          "output_type": "stream",
          "text": [
            "/usr/local/lib/python3.6/dist-packages/kneed/knee_locator.py:304: UserWarning:\n",
            "\n",
            "No knee/elbow found\n",
            "\n"
          ],
          "name": "stderr"
        },
        {
          "output_type": "stream",
          "text": [
            "[15, 15]\n"
          ],
          "name": "stdout"
        },
        {
          "output_type": "stream",
          "text": [
            "/usr/local/lib/python3.6/dist-packages/kneed/knee_locator.py:304: UserWarning:\n",
            "\n",
            "No knee/elbow found\n",
            "\n"
          ],
          "name": "stderr"
        },
        {
          "output_type": "stream",
          "text": [
            "[20, 20]\n",
            "chosen k is:5\n",
            "RandIndex= 0.08357125214936462\n",
            "Mutual_info= 0.12854959624077755\n",
            "Completeness= 0.17307660930998295\n",
            "........................................................................\n",
            "number of PCS5\n"
          ],
          "name": "stdout"
        },
        {
          "output_type": "stream",
          "text": [
            "/usr/local/lib/python3.6/dist-packages/kneed/knee_locator.py:304: UserWarning:\n",
            "\n",
            "No knee/elbow found\n",
            "\n"
          ],
          "name": "stderr"
        },
        {
          "output_type": "stream",
          "text": [
            "[15, 15, 15]\n"
          ],
          "name": "stdout"
        },
        {
          "output_type": "stream",
          "text": [
            "/usr/local/lib/python3.6/dist-packages/kneed/knee_locator.py:304: UserWarning:\n",
            "\n",
            "No knee/elbow found\n",
            "\n"
          ],
          "name": "stderr"
        },
        {
          "output_type": "stream",
          "text": [
            "[15, 15, 15, 15]\n",
            "chosen k is:15\n",
            "RandIndex= 0.08398881197493399\n",
            "Mutual_info= 0.14565967023969004\n",
            "Completeness= 0.3704422358537496\n",
            "........................................................................\n",
            "number of PCS50\n"
          ],
          "name": "stdout"
        },
        {
          "output_type": "stream",
          "text": [
            "/usr/local/lib/python3.6/dist-packages/kneed/knee_locator.py:304: UserWarning:\n",
            "\n",
            "No knee/elbow found\n",
            "\n"
          ],
          "name": "stderr"
        },
        {
          "output_type": "stream",
          "text": [
            "[15, 15]\n"
          ],
          "name": "stdout"
        },
        {
          "output_type": "stream",
          "text": [
            "/usr/local/lib/python3.6/dist-packages/kneed/knee_locator.py:304: UserWarning:\n",
            "\n",
            "No knee/elbow found\n",
            "\n"
          ],
          "name": "stderr"
        },
        {
          "output_type": "stream",
          "text": [
            "[15, 15]\n",
            "chosen k is:15\n",
            "RandIndex= 0.08459370692198138\n",
            "Mutual_info= 0.17618114242035418\n",
            "Completeness= 0.3934568346811048\n",
            "........................................................................\n",
            "Method is only_tfidf\n",
            "The relative minimum edit distance score is:\n",
            "145.56666666666666\n",
            ".............................................................................\n",
            "Comparing with Highlight\n",
            "Rouge Score is :\n",
            "{'rouge-1': {'f': 0.14940148487431182, 'p': 0.08899316362006413, 'r': 0.5281020000524038}, 'rouge-2': {'f': 0.04860307026868246, 'p': 0.028828834464726658, 'r': 0.17537401499369093}, 'rouge-l': {'f': 0.15978743519032124, 'p': 0.09833956615049994, 'r': 0.46567270237095926}}\n",
            "WMD Score is :\n",
            "2.6962099221193316\n",
            ".......................................................................\n",
            "Comparing with Abstract\n",
            "Rouge Score is :\n",
            "{'rouge-1': {'f': 0.31967158073137103, 'p': 0.25638345055188955, 'r': 0.46177524539484643}, 'rouge-2': {'f': 0.09526330587882861, 'p': 0.07571570506201176, 'r': 0.13965780532467223}, 'rouge-l': {'f': 0.25018815023043695, 'p': 0.20181898760710146, 'r': 0.34728038290068064}}\n",
            "WMD Score is :\n",
            "2.3075945955307127\n",
            ".......................................................................\n",
            "Clustering Based Evaluation\n",
            "TFIDF\n"
          ],
          "name": "stdout"
        },
        {
          "output_type": "stream",
          "text": [
            "/usr/local/lib/python3.6/dist-packages/sklearn/feature_extraction/text.py:385: UserWarning:\n",
            "\n",
            "Your stop_words may be inconsistent with your preprocessing. Tokenizing the stop words generated tokens ['make'] not in stop_words.\n",
            "\n",
            "/usr/local/lib/python3.6/dist-packages/sklearn/feature_extraction/text.py:385: UserWarning:\n",
            "\n",
            "Your stop_words may be inconsistent with your preprocessing. Tokenizing the stop words generated tokens ['make'] not in stop_words.\n",
            "\n"
          ],
          "name": "stderr"
        },
        {
          "output_type": "stream",
          "text": [
            "number of PCS0\n"
          ],
          "name": "stdout"
        },
        {
          "output_type": "stream",
          "text": [
            "/usr/local/lib/python3.6/dist-packages/kneed/knee_locator.py:304: UserWarning:\n",
            "\n",
            "No knee/elbow found\n",
            "\n"
          ],
          "name": "stderr"
        },
        {
          "output_type": "stream",
          "text": [
            "[]\n"
          ],
          "name": "stdout"
        },
        {
          "output_type": "stream",
          "text": [
            "/usr/local/lib/python3.6/dist-packages/kneed/knee_locator.py:304: UserWarning:\n",
            "\n",
            "No knee/elbow found\n",
            "\n"
          ],
          "name": "stderr"
        },
        {
          "output_type": "stream",
          "text": [
            "[]\n",
            "chosen k is:10\n",
            "RandIndex= 0.09066279022501238\n",
            "Mutual_info= 0.1439687487856763\n",
            "Completeness= 0.26988617853001157\n",
            "........................................................................\n",
            "number of PCS5\n"
          ],
          "name": "stdout"
        },
        {
          "output_type": "stream",
          "text": [
            "/usr/local/lib/python3.6/dist-packages/kneed/knee_locator.py:304: UserWarning:\n",
            "\n",
            "No knee/elbow found\n",
            "\n"
          ],
          "name": "stderr"
        },
        {
          "output_type": "stream",
          "text": [
            "[15, 15, 15, 15]\n"
          ],
          "name": "stdout"
        },
        {
          "output_type": "stream",
          "text": [
            "/usr/local/lib/python3.6/dist-packages/kneed/knee_locator.py:304: UserWarning:\n",
            "\n",
            "No knee/elbow found\n",
            "\n"
          ],
          "name": "stderr"
        },
        {
          "output_type": "stream",
          "text": [
            "[15, 15, 15, 15]\n",
            "chosen k is:15\n",
            "RandIndex= 0.16802258828987318\n",
            "Mutual_info= 0.2850931341740615\n",
            "Completeness= 0.4707844352203819\n",
            "........................................................................\n",
            "number of PCS50\n"
          ],
          "name": "stdout"
        },
        {
          "output_type": "stream",
          "text": [
            "/usr/local/lib/python3.6/dist-packages/kneed/knee_locator.py:304: UserWarning:\n",
            "\n",
            "No knee/elbow found\n",
            "\n"
          ],
          "name": "stderr"
        },
        {
          "output_type": "stream",
          "text": [
            "[25]\n"
          ],
          "name": "stdout"
        },
        {
          "output_type": "stream",
          "text": [
            "/usr/local/lib/python3.6/dist-packages/kneed/knee_locator.py:304: UserWarning:\n",
            "\n",
            "No knee/elbow found\n",
            "\n"
          ],
          "name": "stderr"
        },
        {
          "output_type": "stream",
          "text": [
            "[]\n",
            "chosen k is:10\n",
            "RandIndex= 0.1398364787925585\n",
            "Mutual_info= 0.21626913821116536\n",
            "Completeness= 0.3153771918259901\n",
            "........................................................................\n",
            "number of PCS100\n"
          ],
          "name": "stdout"
        },
        {
          "output_type": "stream",
          "text": [
            "/usr/local/lib/python3.6/dist-packages/kneed/knee_locator.py:304: UserWarning:\n",
            "\n",
            "No knee/elbow found\n",
            "\n"
          ],
          "name": "stderr"
        },
        {
          "output_type": "stream",
          "text": [
            "[]\n"
          ],
          "name": "stdout"
        },
        {
          "output_type": "stream",
          "text": [
            "/usr/local/lib/python3.6/dist-packages/kneed/knee_locator.py:304: UserWarning:\n",
            "\n",
            "No knee/elbow found\n",
            "\n"
          ],
          "name": "stderr"
        },
        {
          "output_type": "stream",
          "text": [
            "[]\n",
            "chosen k is:10\n",
            "RandIndex= 0.0973936083391604\n",
            "Mutual_info= 0.11220625234779875\n",
            "Completeness= 0.2293390249447155\n",
            "........................................................................\n",
            "Glove100\n",
            "number of PCS0\n"
          ],
          "name": "stdout"
        },
        {
          "output_type": "stream",
          "text": [
            "/usr/local/lib/python3.6/dist-packages/kneed/knee_locator.py:304: UserWarning:\n",
            "\n",
            "No knee/elbow found\n",
            "\n"
          ],
          "name": "stderr"
        },
        {
          "output_type": "stream",
          "text": [
            "[15, 15]\n"
          ],
          "name": "stdout"
        },
        {
          "output_type": "stream",
          "text": [
            "/usr/local/lib/python3.6/dist-packages/kneed/knee_locator.py:304: UserWarning:\n",
            "\n",
            "No knee/elbow found\n",
            "\n"
          ],
          "name": "stderr"
        },
        {
          "output_type": "stream",
          "text": [
            "[20]\n",
            "chosen k is:5\n",
            "RandIndex= 0.13979797296154042\n",
            "Mutual_info= 0.16722834322132688\n",
            "Completeness= 0.2063110496565992\n",
            "........................................................................\n",
            "number of PCS5\n"
          ],
          "name": "stdout"
        },
        {
          "output_type": "stream",
          "text": [
            "/usr/local/lib/python3.6/dist-packages/kneed/knee_locator.py:304: UserWarning:\n",
            "\n",
            "No knee/elbow found\n",
            "\n"
          ],
          "name": "stderr"
        },
        {
          "output_type": "stream",
          "text": [
            "[15, 15, 15]\n"
          ],
          "name": "stdout"
        },
        {
          "output_type": "stream",
          "text": [
            "/usr/local/lib/python3.6/dist-packages/kneed/knee_locator.py:304: UserWarning:\n",
            "\n",
            "No knee/elbow found\n",
            "\n"
          ],
          "name": "stderr"
        },
        {
          "output_type": "stream",
          "text": [
            "[15, 15, 15]\n",
            "chosen k is:15\n",
            "RandIndex= 0.08240404453999724\n",
            "Mutual_info= 0.1423895452405698\n",
            "Completeness= 0.3679479217042427\n",
            "........................................................................\n",
            "number of PCS50\n"
          ],
          "name": "stdout"
        },
        {
          "output_type": "stream",
          "text": [
            "/usr/local/lib/python3.6/dist-packages/kneed/knee_locator.py:304: UserWarning:\n",
            "\n",
            "No knee/elbow found\n",
            "\n"
          ],
          "name": "stderr"
        },
        {
          "output_type": "stream",
          "text": [
            "[15, 15]\n"
          ],
          "name": "stdout"
        },
        {
          "output_type": "stream",
          "text": [
            "/usr/local/lib/python3.6/dist-packages/kneed/knee_locator.py:304: UserWarning:\n",
            "\n",
            "No knee/elbow found\n",
            "\n"
          ],
          "name": "stderr"
        },
        {
          "output_type": "stream",
          "text": [
            "[15]\n",
            "chosen k is:15\n",
            "RandIndex= 0.1345327421303847\n",
            "Mutual_info= 0.23621682065470084\n",
            "Completeness= 0.44277588093149883\n",
            "........................................................................\n",
            "GoogleNewsModel\n",
            "number of PCS0\n"
          ],
          "name": "stdout"
        },
        {
          "output_type": "stream",
          "text": [
            "/usr/local/lib/python3.6/dist-packages/kneed/knee_locator.py:304: UserWarning:\n",
            "\n",
            "No knee/elbow found\n",
            "\n"
          ],
          "name": "stderr"
        },
        {
          "output_type": "stream",
          "text": [
            "[15]\n"
          ],
          "name": "stdout"
        },
        {
          "output_type": "stream",
          "text": [
            "/usr/local/lib/python3.6/dist-packages/kneed/knee_locator.py:304: UserWarning:\n",
            "\n",
            "No knee/elbow found\n",
            "\n"
          ],
          "name": "stderr"
        },
        {
          "output_type": "stream",
          "text": [
            "[15]\n",
            "chosen k is:15\n",
            "RandIndex= 0.12037325685308727\n",
            "Mutual_info= 0.2393964413944606\n",
            "Completeness= 0.4362472300181394\n",
            "........................................................................\n",
            "number of PCS5\n"
          ],
          "name": "stdout"
        },
        {
          "output_type": "stream",
          "text": [
            "/usr/local/lib/python3.6/dist-packages/kneed/knee_locator.py:304: UserWarning:\n",
            "\n",
            "No knee/elbow found\n",
            "\n"
          ],
          "name": "stderr"
        },
        {
          "output_type": "stream",
          "text": [
            "[15, 15, 15, 15]\n"
          ],
          "name": "stdout"
        },
        {
          "output_type": "stream",
          "text": [
            "/usr/local/lib/python3.6/dist-packages/kneed/knee_locator.py:304: UserWarning:\n",
            "\n",
            "No knee/elbow found\n",
            "\n"
          ],
          "name": "stderr"
        },
        {
          "output_type": "stream",
          "text": [
            "[15, 15, 15]\n",
            "chosen k is:15\n",
            "RandIndex= 0.17984581173440697\n",
            "Mutual_info= 0.2816460559072687\n",
            "Completeness= 0.48135190202089334\n",
            "........................................................................\n",
            "number of PCS50\n"
          ],
          "name": "stdout"
        },
        {
          "output_type": "stream",
          "text": [
            "/usr/local/lib/python3.6/dist-packages/kneed/knee_locator.py:304: UserWarning:\n",
            "\n",
            "No knee/elbow found\n",
            "\n"
          ],
          "name": "stderr"
        },
        {
          "output_type": "stream",
          "text": [
            "[20, 20]\n"
          ],
          "name": "stdout"
        },
        {
          "output_type": "stream",
          "text": [
            "/usr/local/lib/python3.6/dist-packages/kneed/knee_locator.py:304: UserWarning:\n",
            "\n",
            "No knee/elbow found\n",
            "\n"
          ],
          "name": "stderr"
        },
        {
          "output_type": "stream",
          "text": [
            "[15, 15]\n",
            "chosen k is:5\n",
            "RandIndex= 0.23527240238525815\n",
            "Mutual_info= 0.2584182082375784\n",
            "Completeness= 0.29912300561116\n",
            "........................................................................\n",
            "number of PCS100\n"
          ],
          "name": "stdout"
        },
        {
          "output_type": "stream",
          "text": [
            "/usr/local/lib/python3.6/dist-packages/kneed/knee_locator.py:304: UserWarning:\n",
            "\n",
            "No knee/elbow found\n",
            "\n"
          ],
          "name": "stderr"
        },
        {
          "output_type": "stream",
          "text": [
            "[15, 15]\n"
          ],
          "name": "stdout"
        },
        {
          "output_type": "stream",
          "text": [
            "/usr/local/lib/python3.6/dist-packages/kneed/knee_locator.py:304: UserWarning:\n",
            "\n",
            "No knee/elbow found\n",
            "\n"
          ],
          "name": "stderr"
        },
        {
          "output_type": "stream",
          "text": [
            "[25]\n",
            "chosen k is:5\n",
            "RandIndex= 0.11233223280833185\n",
            "Mutual_info= 0.14195742144487472\n",
            "Completeness= 0.17426289965015887\n",
            "........................................................................\n",
            "RPModel\n",
            "number of PCS0\n"
          ],
          "name": "stdout"
        },
        {
          "output_type": "stream",
          "text": [
            "/usr/local/lib/python3.6/dist-packages/kneed/knee_locator.py:304: UserWarning:\n",
            "\n",
            "No knee/elbow found\n",
            "\n"
          ],
          "name": "stderr"
        },
        {
          "output_type": "stream",
          "text": [
            "[15, 15]\n"
          ],
          "name": "stdout"
        },
        {
          "output_type": "stream",
          "text": [
            "/usr/local/lib/python3.6/dist-packages/kneed/knee_locator.py:304: UserWarning:\n",
            "\n",
            "No knee/elbow found\n",
            "\n"
          ],
          "name": "stderr"
        },
        {
          "output_type": "stream",
          "text": [
            "[20, 20]\n",
            "chosen k is:5\n",
            "RandIndex= 0.07199057415038607\n",
            "Mutual_info= 0.12919669855156599\n",
            "Completeness= 0.16157072285630572\n",
            "........................................................................\n",
            "number of PCS5\n"
          ],
          "name": "stdout"
        },
        {
          "output_type": "stream",
          "text": [
            "/usr/local/lib/python3.6/dist-packages/kneed/knee_locator.py:304: UserWarning:\n",
            "\n",
            "No knee/elbow found\n",
            "\n"
          ],
          "name": "stderr"
        },
        {
          "output_type": "stream",
          "text": [
            "[15, 15, 15]\n"
          ],
          "name": "stdout"
        },
        {
          "output_type": "stream",
          "text": [
            "/usr/local/lib/python3.6/dist-packages/kneed/knee_locator.py:304: UserWarning:\n",
            "\n",
            "No knee/elbow found\n",
            "\n"
          ],
          "name": "stderr"
        },
        {
          "output_type": "stream",
          "text": [
            "[15, 15, 15, 15]\n",
            "chosen k is:15\n",
            "RandIndex= 0.09376229043182271\n",
            "Mutual_info= 0.18060305443230057\n",
            "Completeness= 0.39578104696956434\n",
            "........................................................................\n",
            "number of PCS50\n"
          ],
          "name": "stdout"
        },
        {
          "output_type": "stream",
          "text": [
            "/usr/local/lib/python3.6/dist-packages/kneed/knee_locator.py:304: UserWarning:\n",
            "\n",
            "No knee/elbow found\n",
            "\n"
          ],
          "name": "stderr"
        },
        {
          "output_type": "stream",
          "text": [
            "[15, 15]\n"
          ],
          "name": "stdout"
        },
        {
          "output_type": "stream",
          "text": [
            "/usr/local/lib/python3.6/dist-packages/kneed/knee_locator.py:304: UserWarning:\n",
            "\n",
            "No knee/elbow found\n",
            "\n"
          ],
          "name": "stderr"
        },
        {
          "output_type": "stream",
          "text": [
            "[15, 15]\n",
            "chosen k is:15\n",
            "RandIndex= 0.11035826379995449\n",
            "Mutual_info= 0.1938726089170422\n",
            "Completeness= 0.4046243785151649\n",
            "........................................................................\n",
            "Method is only_textRank\n",
            "The relative minimum edit distance score is:\n",
            "145.09333333333333\n",
            ".............................................................................\n",
            "Comparing with Highlight\n",
            "Rouge Score is :\n",
            "{'rouge-1': {'f': 0.13338479904145156, 'p': 0.07941444798373079, 'r': 0.45646703073848094}, 'rouge-2': {'f': 0.029510342345747727, 'p': 0.017531246675068262, 'r': 0.10298387277269704}, 'rouge-l': {'f': 0.13476455470243726, 'p': 0.08221065773381314, 'r': 0.3975564355255619}}\n",
            "WMD Score is :\n",
            "2.861422249726418\n",
            ".......................................................................\n",
            "Comparing with Abstract\n",
            "Rouge Score is :\n",
            "{'rouge-1': {'f': 0.2990151639080839, 'p': 0.2440885589725302, 'r': 0.41659353974396024}, 'rouge-2': {'f': 0.0669198443239826, 'p': 0.05450635057341799, 'r': 0.09394393402117261}, 'rouge-l': {'f': 0.22415877560533232, 'p': 0.17969883194915132, 'r': 0.3111710525336854}}\n",
            "WMD Score is :\n",
            "2.420352763964522\n",
            ".......................................................................\n",
            "Clustering Based Evaluation\n",
            "TFIDF\n"
          ],
          "name": "stdout"
        },
        {
          "output_type": "stream",
          "text": [
            "/usr/local/lib/python3.6/dist-packages/sklearn/feature_extraction/text.py:385: UserWarning:\n",
            "\n",
            "Your stop_words may be inconsistent with your preprocessing. Tokenizing the stop words generated tokens ['make'] not in stop_words.\n",
            "\n",
            "/usr/local/lib/python3.6/dist-packages/sklearn/feature_extraction/text.py:385: UserWarning:\n",
            "\n",
            "Your stop_words may be inconsistent with your preprocessing. Tokenizing the stop words generated tokens ['make'] not in stop_words.\n",
            "\n"
          ],
          "name": "stderr"
        },
        {
          "output_type": "stream",
          "text": [
            "number of PCS0\n"
          ],
          "name": "stdout"
        },
        {
          "output_type": "stream",
          "text": [
            "/usr/local/lib/python3.6/dist-packages/kneed/knee_locator.py:304: UserWarning:\n",
            "\n",
            "No knee/elbow found\n",
            "\n"
          ],
          "name": "stderr"
        },
        {
          "output_type": "stream",
          "text": [
            "[]\n"
          ],
          "name": "stdout"
        },
        {
          "output_type": "stream",
          "text": [
            "/usr/local/lib/python3.6/dist-packages/kneed/knee_locator.py:304: UserWarning:\n",
            "\n",
            "No knee/elbow found\n",
            "\n"
          ],
          "name": "stderr"
        },
        {
          "output_type": "stream",
          "text": [
            "[]\n",
            "chosen k is:15\n",
            "RandIndex= 0.1009584618977082\n",
            "Mutual_info= 0.1989927592328519\n",
            "Completeness= 0.4045969659796433\n",
            "........................................................................\n",
            "number of PCS5\n"
          ],
          "name": "stdout"
        },
        {
          "output_type": "stream",
          "text": [
            "/usr/local/lib/python3.6/dist-packages/kneed/knee_locator.py:304: UserWarning:\n",
            "\n",
            "No knee/elbow found\n",
            "\n"
          ],
          "name": "stderr"
        },
        {
          "output_type": "stream",
          "text": [
            "[10, 10, 10, 10]\n"
          ],
          "name": "stdout"
        },
        {
          "output_type": "stream",
          "text": [
            "/usr/local/lib/python3.6/dist-packages/kneed/knee_locator.py:304: UserWarning:\n",
            "\n",
            "No knee/elbow found\n",
            "\n"
          ],
          "name": "stderr"
        },
        {
          "output_type": "stream",
          "text": [
            "[15, 15, 15, 15]\n",
            "chosen k is:5\n",
            "RandIndex= 0.4423862231876905\n",
            "Mutual_info= 0.4302003554877936\n",
            "Completeness= 0.4683300788256531\n",
            "........................................................................\n",
            "number of PCS50\n"
          ],
          "name": "stdout"
        },
        {
          "output_type": "stream",
          "text": [
            "/usr/local/lib/python3.6/dist-packages/kneed/knee_locator.py:304: UserWarning:\n",
            "\n",
            "No knee/elbow found\n",
            "\n"
          ],
          "name": "stderr"
        },
        {
          "output_type": "stream",
          "text": [
            "[20]\n"
          ],
          "name": "stdout"
        },
        {
          "output_type": "stream",
          "text": [
            "/usr/local/lib/python3.6/dist-packages/kneed/knee_locator.py:304: UserWarning:\n",
            "\n",
            "No knee/elbow found\n",
            "\n"
          ],
          "name": "stderr"
        },
        {
          "output_type": "stream",
          "text": [
            "[20]\n",
            "chosen k is:20\n",
            "RandIndex= 0.1384515256279407\n",
            "Mutual_info= 0.2460075903484001\n",
            "Completeness= 0.5132067618762821\n",
            "........................................................................\n",
            "number of PCS100\n"
          ],
          "name": "stdout"
        },
        {
          "output_type": "stream",
          "text": [
            "/usr/local/lib/python3.6/dist-packages/kneed/knee_locator.py:304: UserWarning:\n",
            "\n",
            "No knee/elbow found\n",
            "\n"
          ],
          "name": "stderr"
        },
        {
          "output_type": "stream",
          "text": [
            "[]\n"
          ],
          "name": "stdout"
        },
        {
          "output_type": "stream",
          "text": [
            "/usr/local/lib/python3.6/dist-packages/kneed/knee_locator.py:304: UserWarning:\n",
            "\n",
            "No knee/elbow found\n",
            "\n"
          ],
          "name": "stderr"
        },
        {
          "output_type": "stream",
          "text": [
            "[]\n",
            "chosen k is:15\n",
            "RandIndex= 0.13124803545111347\n",
            "Mutual_info= 0.2306641538897483\n",
            "Completeness= 0.4204610687227287\n",
            "........................................................................\n",
            "Glove100\n",
            "number of PCS0\n"
          ],
          "name": "stdout"
        },
        {
          "output_type": "stream",
          "text": [
            "/usr/local/lib/python3.6/dist-packages/kneed/knee_locator.py:304: UserWarning:\n",
            "\n",
            "No knee/elbow found\n",
            "\n"
          ],
          "name": "stderr"
        },
        {
          "output_type": "stream",
          "text": [
            "[15, 15]\n"
          ],
          "name": "stdout"
        },
        {
          "output_type": "stream",
          "text": [
            "/usr/local/lib/python3.6/dist-packages/kneed/knee_locator.py:304: UserWarning:\n",
            "\n",
            "No knee/elbow found\n",
            "\n"
          ],
          "name": "stderr"
        },
        {
          "output_type": "stream",
          "text": [
            "[15, 15]\n",
            "chosen k is:15\n",
            "RandIndex= 0.07947612367639371\n",
            "Mutual_info= 0.16787346125677965\n",
            "Completeness= 0.37012001528115174\n",
            "........................................................................\n",
            "number of PCS5\n"
          ],
          "name": "stdout"
        },
        {
          "output_type": "stream",
          "text": [
            "/usr/local/lib/python3.6/dist-packages/kneed/knee_locator.py:304: UserWarning:\n",
            "\n",
            "No knee/elbow found\n",
            "\n"
          ],
          "name": "stderr"
        },
        {
          "output_type": "stream",
          "text": [
            "[15, 15, 15]\n"
          ],
          "name": "stdout"
        },
        {
          "output_type": "stream",
          "text": [
            "/usr/local/lib/python3.6/dist-packages/kneed/knee_locator.py:304: UserWarning:\n",
            "\n",
            "No knee/elbow found\n",
            "\n"
          ],
          "name": "stderr"
        },
        {
          "output_type": "stream",
          "text": [
            "[15, 15, 15]\n",
            "chosen k is:15\n",
            "RandIndex= 0.13172725537431468\n",
            "Mutual_info= 0.19616580467227696\n",
            "Completeness= 0.40921850303780777\n",
            "........................................................................\n",
            "number of PCS50\n"
          ],
          "name": "stdout"
        },
        {
          "output_type": "stream",
          "text": [
            "/usr/local/lib/python3.6/dist-packages/kneed/knee_locator.py:304: UserWarning:\n",
            "\n",
            "No knee/elbow found\n",
            "\n"
          ],
          "name": "stderr"
        },
        {
          "output_type": "stream",
          "text": [
            "[15, 15]\n"
          ],
          "name": "stdout"
        },
        {
          "output_type": "stream",
          "text": [
            "/usr/local/lib/python3.6/dist-packages/kneed/knee_locator.py:304: UserWarning:\n",
            "\n",
            "No knee/elbow found\n",
            "\n"
          ],
          "name": "stderr"
        },
        {
          "output_type": "stream",
          "text": [
            "[15]\n",
            "chosen k is:15\n",
            "RandIndex= 0.12790670774082563\n",
            "Mutual_info= 0.18638919041909796\n",
            "Completeness= 0.40334426614160485\n",
            "........................................................................\n",
            "GoogleNewsModel\n",
            "number of PCS0\n"
          ],
          "name": "stdout"
        },
        {
          "output_type": "stream",
          "text": [
            "/usr/local/lib/python3.6/dist-packages/kneed/knee_locator.py:304: UserWarning:\n",
            "\n",
            "No knee/elbow found\n",
            "\n"
          ],
          "name": "stderr"
        },
        {
          "output_type": "stream",
          "text": [
            "[15]\n"
          ],
          "name": "stdout"
        },
        {
          "output_type": "stream",
          "text": [
            "/usr/local/lib/python3.6/dist-packages/kneed/knee_locator.py:304: UserWarning:\n",
            "\n",
            "No knee/elbow found\n",
            "\n"
          ],
          "name": "stderr"
        },
        {
          "output_type": "stream",
          "text": [
            "[15]\n",
            "chosen k is:15\n",
            "RandIndex= 0.1238403769695185\n",
            "Mutual_info= 0.2460128022737975\n",
            "Completeness= 0.43684135859091844\n",
            "........................................................................\n",
            "number of PCS5\n"
          ],
          "name": "stdout"
        },
        {
          "output_type": "stream",
          "text": [
            "/usr/local/lib/python3.6/dist-packages/kneed/knee_locator.py:304: UserWarning:\n",
            "\n",
            "No knee/elbow found\n",
            "\n"
          ],
          "name": "stderr"
        },
        {
          "output_type": "stream",
          "text": [
            "[15, 15, 15, 15]\n"
          ],
          "name": "stdout"
        },
        {
          "output_type": "stream",
          "text": [
            "/usr/local/lib/python3.6/dist-packages/kneed/knee_locator.py:304: UserWarning:\n",
            "\n",
            "No knee/elbow found\n",
            "\n"
          ],
          "name": "stderr"
        },
        {
          "output_type": "stream",
          "text": [
            "[15, 15, 15, 15]\n",
            "chosen k is:15\n",
            "RandIndex= 0.1297893256092912\n",
            "Mutual_info= 0.23404529733229257\n",
            "Completeness= 0.44033100662142555\n",
            "........................................................................\n",
            "number of PCS50\n"
          ],
          "name": "stdout"
        },
        {
          "output_type": "stream",
          "text": [
            "/usr/local/lib/python3.6/dist-packages/kneed/knee_locator.py:304: UserWarning:\n",
            "\n",
            "No knee/elbow found\n",
            "\n"
          ],
          "name": "stderr"
        },
        {
          "output_type": "stream",
          "text": [
            "[20, 20]\n"
          ],
          "name": "stdout"
        },
        {
          "output_type": "stream",
          "text": [
            "/usr/local/lib/python3.6/dist-packages/kneed/knee_locator.py:304: UserWarning:\n",
            "\n",
            "No knee/elbow found\n",
            "\n"
          ],
          "name": "stderr"
        },
        {
          "output_type": "stream",
          "text": [
            "[15]\n",
            "chosen k is:5\n",
            "RandIndex= 0.1427622946167995\n",
            "Mutual_info= 0.22632401986440853\n",
            "Completeness= 0.25917924700849654\n",
            "........................................................................\n",
            "number of PCS100\n"
          ],
          "name": "stdout"
        },
        {
          "output_type": "stream",
          "text": [
            "/usr/local/lib/python3.6/dist-packages/kneed/knee_locator.py:304: UserWarning:\n",
            "\n",
            "No knee/elbow found\n",
            "\n"
          ],
          "name": "stderr"
        },
        {
          "output_type": "stream",
          "text": [
            "[15, 15]\n"
          ],
          "name": "stdout"
        },
        {
          "output_type": "stream",
          "text": [
            "/usr/local/lib/python3.6/dist-packages/kneed/knee_locator.py:304: UserWarning:\n",
            "\n",
            "No knee/elbow found\n",
            "\n"
          ],
          "name": "stderr"
        },
        {
          "output_type": "stream",
          "text": [
            "[15]\n",
            "chosen k is:15\n",
            "RandIndex= 0.12767760845567244\n",
            "Mutual_info= 0.2216531675576155\n",
            "Completeness= 0.4328846277479203\n",
            "........................................................................\n",
            "RPModel\n",
            "number of PCS0\n"
          ],
          "name": "stdout"
        },
        {
          "output_type": "stream",
          "text": [
            "/usr/local/lib/python3.6/dist-packages/kneed/knee_locator.py:304: UserWarning:\n",
            "\n",
            "No knee/elbow found\n",
            "\n"
          ],
          "name": "stderr"
        },
        {
          "output_type": "stream",
          "text": [
            "[15, 15]\n"
          ],
          "name": "stdout"
        },
        {
          "output_type": "stream",
          "text": [
            "/usr/local/lib/python3.6/dist-packages/kneed/knee_locator.py:304: UserWarning:\n",
            "\n",
            "No knee/elbow found\n",
            "\n"
          ],
          "name": "stderr"
        },
        {
          "output_type": "stream",
          "text": [
            "[15, 15]\n",
            "chosen k is:15\n",
            "RandIndex= 0.135008616109085\n",
            "Mutual_info= 0.23958933114398687\n",
            "Completeness= 0.4243968778770985\n",
            "........................................................................\n",
            "number of PCS5\n"
          ],
          "name": "stdout"
        },
        {
          "output_type": "stream",
          "text": [
            "/usr/local/lib/python3.6/dist-packages/kneed/knee_locator.py:304: UserWarning:\n",
            "\n",
            "No knee/elbow found\n",
            "\n"
          ],
          "name": "stderr"
        },
        {
          "output_type": "stream",
          "text": [
            "[15, 15, 15]\n"
          ],
          "name": "stdout"
        },
        {
          "output_type": "stream",
          "text": [
            "/usr/local/lib/python3.6/dist-packages/kneed/knee_locator.py:304: UserWarning:\n",
            "\n",
            "No knee/elbow found\n",
            "\n"
          ],
          "name": "stderr"
        },
        {
          "output_type": "stream",
          "text": [
            "[15, 15, 15]\n",
            "chosen k is:15\n",
            "RandIndex= 0.1041199811592755\n",
            "Mutual_info= 0.20194751231724165\n",
            "Completeness= 0.4133465834950739\n",
            "........................................................................\n",
            "number of PCS50\n"
          ],
          "name": "stdout"
        },
        {
          "output_type": "stream",
          "text": [
            "/usr/local/lib/python3.6/dist-packages/kneed/knee_locator.py:304: UserWarning:\n",
            "\n",
            "No knee/elbow found\n",
            "\n"
          ],
          "name": "stderr"
        },
        {
          "output_type": "stream",
          "text": [
            "[15, 15]\n",
            "[20, 20]\n",
            "chosen k is:5\n",
            "RandIndex= 0.20294666531370362\n",
            "Mutual_info= 0.30073245165571183\n",
            "Completeness= 0.32472815215710354\n",
            "........................................................................\n"
          ],
          "name": "stdout"
        },
        {
          "output_type": "stream",
          "text": [
            "/usr/local/lib/python3.6/dist-packages/kneed/knee_locator.py:304: UserWarning:\n",
            "\n",
            "No knee/elbow found\n",
            "\n"
          ],
          "name": "stderr"
        }
      ]
    },
    {
      "cell_type": "markdown",
      "metadata": {
        "id": "WViZcd2h6hq1"
      },
      "source": [
        "sample generated summary for AIPubSumm"
      ]
    },
    {
      "cell_type": "code",
      "metadata": {
        "colab": {
          "base_uri": "https://localhost:8080/"
        },
        "id": "33z3J9qVjK9F",
        "outputId": "09ac9030-630a-48ef-f9e6-b25769ee641f"
      },
      "source": [
        "generatedSummary"
      ],
      "execution_count": null,
      "outputs": [
        {
          "output_type": "execute_result",
          "data": {
            "text/plain": [
              "{'s0020025519304864': 'Most of the existing methods cannot achieve the desired enhancement result for underexposed and low-illuminated images and typically suffer from deficiency with robustness and accuracy. HFS   can be defined as a fuzzy set (FS) if there is only one element belonging to   or a intuitionistic fuzzy set (IFS) if there are two elements present in  \\xa0 . The Hesitant Score (HS) [ ] usually measures the amount of hesitance in a hesitant fuzzy set (HFS). If elements in   are fewer than in   then   is enlarged by repeating its maximum element until its cardinality   becomes equal to that of   of  \\xa0 . The hesitant score is utilized to find the optimum divergence value. To separate the foreground/background of an image, we calculate an optimal adaptive threshold instead of a direct or a fixed threshold. The hesitation degree and non-membership degree are initially estimated by using   and\\xa0  for both of them. For a given original under-exposed (dim) image, typically the histogram curve is nearly close to the left of the histogram abscissa and for a over-exposed (high-contrast) image, the corresponding histogram curve is more close to the right of the histogram abscissa. However, to validate the effectiveness and quality of image enhancement, we have used different performance metrics such as mean absolute error (MAE)\\xa0 , linear index of fuzziness (LIF)\\xa0 , Weber-law-based contrast measure (EMEE)\\xa0 , Michelson law measure of enhancement (AME)\\xa0 , Michelson law measure of enhancement by entropy (AMEE)\\xa0 , universal quality index (UQI)\\xa0 , Structural Similarity index measure (SSIM)\\xa0 , fuzzy quality index (Q/FS)\\xa0  and Intuitionistic fuzzy quality index (Q/IFS)\\xa0  to assess the efficiency of DIEM. On the other hands, the RDH method takes more computation time due to its histogram computations via a reversible data hiding approach. ',\n",
              " 's0142061518304319': 'Techniques such as the spectral power cluster  , equivalent time and bandwidth cluster  , frequency-energy characteristics of the pulses by Wavelets  , principal components analysis and t-Distributed stochastic neighbor embedding technique and morphological gradient of cumulative energy   have been widely researched for feature extraction and classification of PD sources. Examples of density-based algorithms are DENCLUE (DENsity ClUstEring)  , OPTICS (Ordering Points to Identify the Clustering Structure)  , DBSCAN (Density Based Spatial Clustering of Applications with Noise)   and DPC (the density peak clustering)  . Unlike DPC method, the SD method computes ρ from a two-dimensional histogram which limits the complexity of the whole algorithm. When the Set 2 was modified, the second cluster center (circle), hidden in  a, appeared clearly as a second cluster center in  b. In other words, the mere histogram approach does not lead to the smoothed color map shown in  . In this method, there are two free parameters: the number of bins in the histogram and a factor\\u202fλ\\u202f. Let\\u202fX\\u202fbe the vector containing the data set and D the vector whose elements represent the density ρ of each point in\\u202fX\\u202fas per the SD method. Too few subsets and the wanted goal of having subsets far away from each other might not be achieved. The scatter and the number of points in the data set also hinder the detection of interfaces between sub clusters. The “solve-a-puzzle” strategy of our method with threshold proximity as criterion in fact downplays the issue of finding pseudo cluster centers because they can be merged back together if they share contours closely.. ',\n",
              " 's0306437915000459': 'Specific challenges for eliciting the CMFs are the multitude of existing approaches in the area of business process compliance and the decision of which functionalities are required in real-world scenarios. The framework also distinguishes two types of models:   and  . Here it is important to distinguish approaches that concentrate on SLAs (and are not further considered) and approaches that apply compliance monitoring at a process level (i.e., based on a Web Service orchestration) that should be considered. For example, the European skin cancer guideline in the “EBMC ” project requires a textual description of more than ten pages and entails different CMF functionalities in a single guideline. 4 Compliance Monitoring Functionality (CMF) design This section presents our CMFF, i.e., the framework of   (CMFs). In general, multiple, independent executions of the same activity (i.e., activity instances) can occur inside a case. Correlation can be realized by providing a special parameter used to identify the corresponding activity instance. Approaches that query the partial execution trace for certain event patterns, such as  , typically do not have difficulties with continuing after detecting a violation. The early detection of such future compliance violations enables timely preparation of recovery and compensation actions. However, there is no prototypical implementation of a compliance-monitoring framework. We selected the Business Process Intelligence Challenge (BPIC) data sets from 2011 and 2012. ',\n",
              " 's0306437919304909': 'Such signatures, compress all expected execution behavior into a complex interconnected structure. If the support (i.e.,\\xa0the percentage of traces   that a rule supports) of a rule is below a user configurable threshold  , then the rule is removed from  . From those,\\xa0  were specifically tailored for detecting anomalies in business process executions. The tests were executed based on the BPIC 2015 logs as such are more challenging than the HEP logs and thus enable a more conclusive evaluation. In comparison to alternative approaches, such as,\\xa0  it was found that the proposed approach achieves a lower anomaly detection performance, cf.  . Accordingly, the respective expert for each domain, process model, and execution – which was identified as being anomalous – is potentially, not available all the time. This is because detecting anomalies is often connected with security issues\\xa0 , for example, the detection of fraud and misuse. In comparison the proposed anomaly detection approach is self learning and can also deal with process changes automatically. However, rules are largely manually generated (e.g.,\\xa0a user define the expected maximum activity duration) and order dependencies between activities are not verified. The process of root cause analysis comprises the following steps according to\\xa0 : at first, the problem should be understood. ',\n",
              " 's0736584515000666': 'Using traditional manual inspection approaches produce a time-consuming bottleneck in the industrial production   and this limitation provides the fundamental motivation for increased automation. Often parts that are designed as identical, will have significant deviations from CAD, and also may change shape when removed from the mould. In contrast, the result of an automated NDT inspection requires a flexible and extensible approach that has the flexibility to allow future changes in the path planning to accommodate requirements of future NDT inspections. Working with KUKA Robots, the external control is enabled by the KUKA Robot Sensor Interface (RSI) software add-on installed into the robot controllers  . As it was expected, faster speeds produce bigger errors because of the inertial effects affecting the robotic motion. The tool-paths accuracy is evaluated through comparing the feedback coordinates received from the robot encoders and the command coordinates. Previous manual scans of the same surfaces were respectively completed in 2 and 0.4 h; this results in robotic inspection being around 40 times faster than manual inspection (in addition to being much more reliable, repeatable and accurate). For the current application, the level of accuracy for both approaches is sufficient as the intended NDT delivery is accomplished using a water jet coupling approach  . Future flexibility to accommodate part variability through conditional programming approaches, and ability to build additional path modification due to effects such as water jet orientation are also key attributes of the new software tool developed. The commercial driver for this work is the need to decrease NDT inspection times – this has been identified clearly as a bottleneck in existing composite parts manufacture in aerospace industries. ',\n",
              " 's0736584518303831': 'Ding et\\xa0al.   have shown that, in WAAM, the quality of deposition is fundamentally linked to the tool path strategy used. Imagine a linear deposit; in such a case there is a balance between energy introduced, energy conducted away, energy used to melt the wire, and energy used to melt the underlying material. Thus, it will be shown how this solution guarantees a uniform layer deposition, leading to high-quality part building, and with limited effort in the pre-processing stage. Therefore, like the traditional approach, the first step consists of slicing the 3D Computer Aided Design (CAD) model into layers. The result of this slicing operation is a set of layers represented as 2D geometries. The purpose of this segmentation step is to create a set of sections shaped into basic geometries, usually narrow rectangular shapes, to facilitate their deposition. This must be done whichever path is used: single bead, oscillated or parallel. The result of this operation is multiple empty sections represented by their boundaries as planar closed curves ( ). It contains a node for each layer; within each node, there are sections; within each section, there are the different zones, also identified by their colour; and inside the zones, the user then inputs the various deposition parameters (f.i. The first mask is applied automatically to the following layers until an exception is raised ( ). ',\n",
              " 's0740818818301828': \"Looking at a library (but also at any other organization) from the perspective of a relations network makes it a living organism in which relations (connections) and nodes are constantly appearing and disappearing, thus affecting the general effectiveness of the whole network (a library). In the context of sharing knowledge,   discovered that weak ties are not effective when it comes to transferring complex information. Knowledge networks enable one to determine the flows and bottlenecks of knowledge inside the organization from a network perspective ( ). In such networks, nodes are at the same time the sources and the recipients of information and knowledge, and employees are not isolated from others in the organization, except for some isolated cases. This provides them with different possibilities for accessing new knowledge, which, in turn, is required to perform tasks ( ). Without subordinating particular resources (both material and non-material), an activity (service) cannot be performed. The main criteria for the selection of processes were direct influence on the library mission and vision; generating revenues and general success of the library; creating added value for the library; satisfying customers' needs (service recipients); and relying on valuable human, technological and information resources. Knowledge redundancy (KR)\\u202f=\\u202f0.430; task redundancy (TR)\\u202f=\\u202f0.314, whereas resource redundancy (RR)\\u202f=\\u202f0.165. With a high specialization of knowledge, resources, and tasks, each excessive relation concerning this knowledge, resource, or task, will not be beneficial. The surveys give an opportunity to identify deficits in the library, identify areas of knowledge, the tasks to be carried out, or knowledge about resources in the library which might be inadequate. \",\n",
              " 's0888613x13002041': 'Singh and Borah   presented a new model based on hybridization of fuzzy time series theory with ANN. In Section  , we provide the details of the new proposed hybrid forecasting model. These two operators are explained as follows  : Observation that is handled by Type-1 fuzzy time series model can be termed as “main-factor/Type-1 observation”, whereas observations that are handled by Type-2 fuzzy time series model can be termed as “secondary-factors/Type-2 observations”. The PSO can be employed to solve many of the same kinds of problems as genetic algorithms  . In this process, the FTS-PSO model allows the particles to move other positions based on Eqs.   and  , and repeats the steps until the stopping criterion is satisfied or the optimal solution is found. In Eq.  , the value of   is such that  . The necessary setting of all the parameters for the FTS-PSO model is discussed in Section  . For the existing model, the lowest forecasting error is 1.13%, which is obtained at intervals 19 and 20. The “Actual Price” is chosen as the main forecasting objective. The FTS-PSO model optimizes the forecasting results and obtains the best results (i.e., the least MAPE). ',\n",
              " 's0888613x1300234x': 'This makes CWW a comprehensive research area being open to interpretations and different instantiations, as intensively discussed in  . Therefore, we may refer here to qualitative linguistic scales to indicate that the linguistic terms of the scales must convey their inherent order based qualitative semantics. In practice, at the end of the study-year, students are classified into groups, named by linguistic terms, in accordance with an aggregation of the results of their mathematical examination, by using the given quantitative-linguistic scale. This approach to linguistic semantics seems to be, on an abstract level, compatible with the natural term semantics and quite sufficient for human fuzzy decision making tasks. Hedge algebras were axiomatized in such a way that they can be regarded as the isomorphic images of the ordered-based structure of certain term-domains of linguistic variables. In the case that   or  , for certain   or   (and hence, in reality, for all  , either   or  ), we say that the effect of   is greater than  , and write  . Qualitativeness being meant here is different from the qualitativeness related to the formalization and conceptualization of similarity that emerges from the feature-theoretical approach to the analysis of similarity relations between objects characterized by their features. The crucial problem for developing semantic scales is to examine 4-tuple representation model, whose components represent in turn a linguistic term, its interval-semantics and numeric semantics and a numeric value for representing also a numeric assessment as well as the numeric computation result related to aggregation operations. For instance, the meaning of   appearing in the context of its adjacent terms   and   in   mentioned above is more general than  , which is absent in  . Therefore, the 4-tuple representation has also certain limitation that will be discussed in the conclusion section. ',\n",
              " 's0888613x13002867': 'Bob recommended B for the best paper with  , but Alice opposed Bobʼs recommendation with  . Intuitively, the contradiction between Alice and Bob about A is different from that about B. Then we provide a systemic analysis of the computational complexity of these measures. Finally, we use a small but explanatory example to illustrate how to use our measures to monitor the process of inconsistency handling in requirements engineering. An   interpretation (or just interpretation)   in the Logic of Paradox maps each propositional formulas to one of the three truth values  ,  ,   such that  where  . In contrast, if we focus the first two strata, then   is also involved in inconsistency. In other words, we hope to use an inconsistency measure to capture all the conflicts in each stratum in an integrated way. Then the normalized rank of  , denoted  , is defined as  where   for all  . We consider a scenario for eliciting requirements for updating an existing software used in  . We may take advantage of some inconsistency measures for flat knowledge bases such as   presented in   to assess the inconsistency in each cut of a stratified knowledge base in the framework of multi-section inconsistency measure. ',\n",
              " 's0888613x13002880': 'Frydenberg   proposed a Markov property for these models, which is now known in the literature as the Lauritzen–Wermuth–Frydenberg (LWF) interpretation of chain graphs. These concepts are also assumed to be defined over sets of variables, e.g., if  , then  . One of the key concepts in chain graphs is a  , which is a sequence of vertices  , such that  ,  , or  . A   is a route, where there are no  . As a Bayesian network is a special case of a chain graph model where each chain component consists of a single vertex, the   simplifies in that case to  which is the well-known factorisation theorem of Bayesian networks  . For example, consider again the graph in  , where there is a feedback relationship between lipid disorder and diabetes mellitus. Here we briefly recall the theory in accordance with the definitions in  . Without any further constraints on the hyperspace, the possibility that a positive influence exists between two variables is just as high that a negative influence exists. While typically the marginals range over the whole   interval, the qualitative constraints alter the shape (e.g., the mean and variance) of the distribution, which can then be used to draw conclusions from the model. In case   the second-order distributions shift to the right, and in case of   the second-order distributions shift to the left. ',\n",
              " 's0888613x13002910': \"This allows the application of Bayesian networks in domains with hundreds of variables, where a naive computation with the full joint probability table would not be tractable. An early example is the Quickscore algorithm   exploiting noisy-or relations in the Quick Medical Reference model. CP tensor decomposition, called tensor rank-one decomposition in  , is a generalization of Díez and Galán's decomposition. To guarantee either of the above equalities, variable   has to have a certain number of states. Although the complexity of addition and multiplication of two complex numbers is higher than of those operations on real numbers, the decompositions based on complex numbers have better numerical stability. Let   be a symmetric tensor of order  , in particular one of  ,   for some  . However, Sylvester's algorithm offers solutions to our problem in the complex domain only. The total table size is  We can see that the total table size of the PD method grows as a biquadratic function of  , while that of the former, CP method grows as a cubic function of  . In the first test, we randomly selected 14 observations. We included all their parents in the generated subnetwork. \",\n",
              " 's0888613x14000206': \"In Section   we consider a modification of the logic  , denoted  , which might be interesting for practical purposes. Below, we consider the model of a  -adic coin, and introduce a  -theory in which the experiment is expressed, while the result of the experiment is a deductive consequence of this theory. A  -adic coin is a metal disk with a label   on one side and   on another. A charge can be generated only on one side at a time. Suppose that after every series of 0 and 1 someone writes the corresponding relative frequencies:  ,  . In   the probability of a realization of the side   is calculated as a ( -adic) limes of  , and we have  . For instance, in   Adams suggested a logic of infinitesimal probabilities as a good basis for non-monotonic reasoning and indeed the core properties of a non-monotonic consequence relation   are presented in such logics. It is presented in the paper   where the authors introduce so-called plausibility measures and show that almost all approaches for dealing with uncertainty can be viewed as plausibility measures. Detailed considerations of possible applications (in particular to reasoning with uncertainty) are left for a companion paper which will follow. There are evidences that the standard model based on real numbers is not adequate for the Planck's domain. \",\n",
              " 's0888613x14000607': 'However, if a few minor modifications are introduced, this kind of generalizations can still be useful. As a consequence of this, such an empirical loss function cannot always be computed by removing the outliers of the dataset and then applying the extension principle, neither it is equivalent to the application of the extension principle to a regularized loss function. Let us remark that the concept of instantiation was not referred to as such in these works, however in the following of this section an effort has been made to cast the ideas introduced in   and   into the theoretical framework introduced in the paper being discussed. In short,   will be determined as the set that minimizes a functional of the parametric model  , which is not derived from an extension principle-based generalization of the crisp loss. A set   is searched for such that the average nonspecificity of the (extension principle-based) fuzzy output of the model   is minimum, constrained to the fraction of covered instances being higher than a threshold. The set-valued dataset   is considered, where the uncertainty is in the output variable. We realize that the minimax criterion is as arbitrary as the minimin and datasets can be found where the minimin is preferred. However, one can think of censored, interval-valued or fuzzy datasets as of having partially missing instances. Nonetheless, disambiguation can be used to simultaneously remove the uncertainty in both input and output data, thus it may be preferred to the double task of imputing first and then evaluating the model over the imputed data. The current definition of disambiguation may be related to methods where the same set of assumptions for both the analyst and the imputation model are made; perhaps the interdependence between the assumptions that need to be made when removing the uncertainty in input and output variables might be explored in future works.. ',\n",
              " 's0888613x1400067x': 'The use of closed patterns has been found to greatly reduce the number of extracted rules; however, a considerable amount of redundancy still remains  . Its   is the set of transactions   such that  , and its   is the proportion of transactions in   which contain the itemset, i.e.,  . In contrast to the transaction database, the information table explicitly describes the absence of items. Its   is  and its   is  where  , the total number of transactions. If we add a piece of extra evidence to a premise and obtain a weak conclusion, we can say the piece of evidence is meaningless. 5.3 Support estimation for granules Let   be the decision table of information table ( ). A third method is adopted for patterns that are contained by the granules of three or more tiers. Let   and Let  . The experiments presented test the proposed solution from several aspects, including space and time complexities, and the restoration error rate of estimated support. For each definition, a 2-tier structure (  and  ) is built firstly. Conversely, when the  _  is big enough (e.g., 50 in this example), pattern mining loses lost many large patterns. ',\n",
              " 's0888613x14000796': 'It does not hold for belief functions, and only an inequality remains. In the setting of belief functions, a focal element is understood as a piece of incomplete information of the form   for some parameter   of interest. Note that in the following we can assume without loss of generality that for any  ,  , i.e., there is no pairwise inclusion relation between the sets of   (otherwise   can be suppressed from Eq.  ). Consider indeed the following possible focal elements:  This suggests that obtaining easy-to-check conditions for  -additivity to hold for plausibility in a general setting will be difficult, if not impossible. That is, we assume that   is the product of   spaces  ,  . Note that two minimal paths   and   are such that   and  , otherwise one of the two is not minimal. The structure function   maps the system states to the global system performance. In this section, we will compare the previously used notion of random set independence to the one of strong independence, which can be interpreted as a robust version (i.e., applied to sets of probabilities) of the notion of stochastic independence. Also recall that such lower probabilities are obtained for extreme points of the set, hence for such inferences working with   or its convex closure   makes no difference. In such cases the choice of the dependency assumption (between variables or sources) has no influence on the output interval. ',\n",
              " 's0888613x14001133': \"In a precise-probabilistic context, all these approaches coincide and reduce to a Bayesian network. In the remainder of the paper, we develop some remarkable properties of this irrelevant natural extension. We choose to adopt a different approach: sets of desirable gambles. For any two gambles   and   in  , we say that   if   for all   in   and   if both   and  . Even stronger, it implies for all   that  . Due to their close connection with Bayesian networks, credal networks under strong independence inherit this property almost trivially  : every d-separation in the DAG corresponds to a (strong) independence in the joint model. For credal networks under epistemic independence, no such result exists. The difference with Vantaggi's criterium is that L-separation is defined for disjoint sets only. At no point does it invoke graphoid properties of epistemic irrelevance. We generically denote maximal sets of desirable gambles as   instead of using the general notation  . \",\n",
              " 's0888613x14001212': 'The new algorithms IHMM-E and IHMM-B are detailed in Sections   and  . If the observations are all sampled from the same distribution, say  , the empirical mean converges to its theoretical value (strong law of large numbers):  Under the stationarity assumption, the empirical mean is therefore a sensible descriptor of the sequence. The values of variables   are indexing the generating distributions: all these variables should therefore take values from the same set, say  , whose   elements are in one-to-one correspondence with the different distributions. A Markov chain defined as in the previous section can be easily extended to the imprecise framework by replacing probability mass functions with credal sets:   is replaced by   and   by   for each  . The discrete variables   are assumed to be hidden and, as outlined in the previous section, have the role of modeling the non-stationarity of the emission process. 3.2 Learning: expectation maximization (EM) + imprecise Dirichlet model (IDM) The variables   of a HMM, no matter whether precise or imprecise, are by definition assumed to be directly unobservable, i.e.,  . In the imprecise case the stationary mass function of a Markov chain is replaced by a  , say  . A utility-based measure has been recently proposed in   to compare credal and precise classifiers with a single indicator. Moreover, as expected, tests with increasing values of   show a systematic degradation of the performance on our benchmark. IHMM-B is therefore effective in discriminating hard-to-classify from “easy” instances. This makes the problem a linear program as the objective function becomes:  with the linear constraints  . ',\n",
              " 's0888613x15000857': 'Fifth, also by  , the depth of each branch starting from a child of the root node of a tree is bounded by the number of atoms appearing in it and is thus finite. Given a program  , a query ? , and a threshold  , one of the possible methods is to add an artificial answer   into the answer list of the tree for  , where   is the greatest truth value which is less than  , if there does not exist such a computed answer in the list. It can be easily verified that if the implication ← is the Gödel one, then  . Therefore, we can determine a threshold   for each atom  ,  , and   can be used in the tree for  . Most work deals with logic programs without negation. More precisely, FLLP is developed by extending or modifying FLP on the following aspects, among others: (a) using a linguistic truth domain instead of the unit interval  ; (b) allowing rule bodies to use hedge connectives; (c) adding an admissible rule for handling hedges in the procedural semantics; and (d) providing detailed proofs of the mgu and lifting lemmas, and the completeness theorem. Therefore, it can be said that QLP is a special form of FLP both syntactically and semantically. From the   point of view, relations for IDB predicates are computed from relations for EDB predicates. These algorithms take linear time. 5.5.2 Implementation of fuzzy linguistic logic programming In  , a method to translate FLLP programs into pure Prolog programs, which can be safely executed inside any standard Prolog interpreter, is presented. For all interpretations   and   of a program   and for all ground atoms  , we have: (i)  , and (ii)  . ',\n",
              " 's0888613x15000912': 'Each of these two design phases comes with various augmentations. Some initial studies in this area were reported in  . One can also view the model as an augmentation of the simple generic model modified by the local changes (viz. error compensation terms) developed around the prototypes   and captured by the following rules  In some sense the discussed model relates to the incremental fuzzy models   where the rules are allocated to the regions where an initial linear model fails visibly and exhibits a concentration of error. For the purpose of clustering we concatenate the vector of inputs   with the output variable (target) to form an ( )-dimensional vector   in the form  . The choice of the control parameter   deserves more attention. In other words, we minimize the sum of squared errors obtained for the data coming from the validation set that is  where   is the performance index obtained for the validation data set. We are not concerned what the form of the model is and how it has been constructed. In the series of experiments, the fuzzification coefficient was set to several values, namely 1.1, 2.0, and 2.7. When it comes to the membership functions constructed in the input space, they exhibit a visible diversity implied by the number of rules and the values of  . Several general observations can be drawn here. ',\n",
              " 's0888613x17302335': 'To achieve our goal we reinterpret the challenge not as dealing with misclassification and biased data, but as a problem of  , and particularly learning from positive and unlabelled data  . Brown et al.   present an extensive discussion of this in the context of feature selection, including various heuristics which provide approximations for high dimensional data, resulting in a unifying theoretical framework derived from a simple probabilistic model. Section   presents how we can estimate mutual information in UR scenarios. 2.5 Background on information theoretic feature ranking and selection In most real world problems we have more than one feature, i.e. we observe a sample dataset  , where the feature vector   is a  -dimensional realisation of the joint random variable  . Choosing the features according to this ranking corresponds to the univariate   (MIM) criterion  ; where the score of each feature   is given by:  This approach does not take into account the   between the features. This can be easily proved since we have:  . Furthermore, it shows that testing using   instead of   is a valid approach, since all lines have the same intercept at  , and thus the tests have the same false positive rate. On the other hand, the simplest way to estimate mutual information in under-reported scenarios is to follow a   approach and just use the observed data. Then, we randomly choose the parameters   that guarantee the desired degree of dependency, expressed in terms of  , and we use these parameters to sample the values of  . To appropriately validate our statistical findings access to the true values of  ,   and   will be necessary, i.e. through a blood test. In many practical applications we have misreporting mechanisms that are correlated, for example by having a latent variable which is a parent of both missingness mechanisms   and   in  (b). ',\n",
              " 's0921889014002164': 'Furthermore, a rich tradition of designing and building mechanical, pneumatic or hydraulic automata also exists: from the automata of Ancient Egyptian temples, to the mechanical pigeon of the Pythagorean Archytas of Tarantum circa 400 BC\\xa0  , to the accounts of earlier automata found in the Lie Zi text in China in 300 BC\\xa0  , to the devices of Heron of Alexandria\\xa0   in the 1st century. Furthermore, it remains to be seen, how many of these aspects can later be effectively integrated with systems belonging to this strand of research. 3.2 Multiple speech acts The limitations (p1)–(p5) cited above for the classic “simple commands only” systems provide useful departure points for extensions. Another relevant aspect of speech act theory is the handling of indirect speech acts. Given that different conversational partners might have different models of meaning, say for the lexical semantics of a colour term such as “pink”, how is communication possible? A short, yet minimally informative answer, would be: given enough overlap of the particular models, there should be enough shared meaning for communication. Regarding physiological measurables, products such as Affectivas   sensor\\xa0  , or techniques for measuring heart rate, breathing rate, galvanic skin response and more, could well become applicable to the human–robot affective interaction domain, of course under the caveats of\\xa0  . There are many shortcomings in this approach; for example, a nasal “m” usually has large apparent loudness, although in humans it is being produced with a closed mouth. Furthermore, when a robot is purposefully issuing an inform statement (“there is a tomato behind you”) it should know that the human does not already know that; i.e.\\xa0again an estimated model of second-order beliefs is required (i.e.\\xa0what the robot believes the human believes). However, recent research\\xa0   has indicated that specially-designed robots that interact with autistic children could potentially help them towards improving their communication skills, and potentially transferring over these skills to communicating not only with robots, but also with other humans. Furthermore, one could readily utilize online high-quality speech recognition and text-to-speech services for human–robot communication, such as [Sonic Cloud online services], in order not to sacrifice onboard computational resources. These have to do with dealing with multiple conversational partners in a discussion, with support for multilingual capabilities, and with generating and recognizing natural language across multiple modalities: for example not only acoustic, but also in written form. ',\n",
              " 's0921889015000834': 'Thus, one leg is placed in front of the other in order to prevent the system from collapsing and so to enable its advancement. Subsequently, Pal and Jayarajan improved the techniques by application to a walking hexapod robot\\xa0   and demonstrated how the functions may be designed to generate common periodic gaits such that the system may be optimised for any general factor\\xa0  . The feet for which no centre of mass symbol is visible are in contact with the floor, so the mass and size of the foot is absorbed by the ground component as is of no consequence to the model.  (b) shows the block diagram for a single leg: at the top of the leg, a custom joint with the same number and type of degrees of freedom as a spherical joint is used to allow application of a driving condition, representative of the actuator on the upper joint.  (c) shows the full block diagram for the system; the legs are highlighted in blue (i), the platform in green, the feet in orange (ii) and loads on the system in pink (iii). This is due to a difference in assumptions between the two models. Slope angle and platform pitch are taken using opposing sign conventions; in order for the platform to be parallel to a slope of  , the pitch should be  . As can be seen in  , Stage 6 is characterised by the highest total torque in the system, so it was chosen as an example for optimisation in this paper. Both graphs suggest that large   values are beneficial, but there must be a trade off in terms of foot spacing radius to ensure that the hexapod is highly stable while minimising the torque in the upper joints. The optimal rotation value for Stage 6 is:  where  . The program then chooses appropriate system parameters from a database of parameters generated from simulations and previous experience and determines a target step length. At this point, the stability of the WalkingHex is calculated in order to assess whether its current stability is within the required margins; if it is not, the system moves to restore safe values of stability. ',\n",
              " 's0921889015003000': 'The process is known as  , and is used to determine the safety and reliability of safety-critical technology, including aircraft, road vehicles, nuclear reactors, pharmaceuticals, etc. Having established where the ethical principles for an autonomous agent come from, we now elaborate on how we intend to ethically constrain the reasoning process of an agent using these principles. It is undesirable to have constructs, such as beliefs and belief rules, which can potentially affect program execution, used for verification purposes alone. It took our system over 21\\xa0h to verify each of 65,534 combinations of the 15 possible plans giving a total verification time of nearly four days for the four properties. 5.3 Erratic intruder aircraft This example is based on a program for avoiding other aircraft in accordance with the Rules of the Air. So rather than verifying every possible ethical annotation on a plan, we verified that the system continued to reason ethically as the external situation changed. The agent can be provided with a particular ethical policy it uses to distinguish among possible plans and to select the most ethical plan for execution. This approach is simple, elegant, but foremost does away with all the complications of ethical reasoning. Our method is verifiable, namely we can prove that if an agent chooses to execute a plan that is in any way unethical, it does so only when it believes that this is the minimally unethical course of action it has available. This infringes on the autonomy of the agent to a certain extent. Under these special circumstances (heart failure), observing the principle of autonomy should be placed as more ethical in the policy than the principle of doing no harm. ',\n",
              " 's0921889016306285': 'It draws back on  , who first stated that physical capital is more complementary to skilled than to unskilled labor. Due to complementarity effects, especially high-skilled workers may become more productive as they become co-workers of machines and both complement each other even at the same level of value creation. 3 Substitution of human labor by service robots—the work science perspective Strictly speaking, the question whether human labor is substituted by service robots can only be answered in a non-speculative way if the benefit of human labor output is identical to that provided by a robot, presuming that in a capitalist society the cost–benefit analysis then made is always the sum of individual business decisions. The skills of humans to land on Mars or to dive in the deep ocean are limited compared to those of a robot. This means that the customer/client normally comes in contact with people or bodies that perform service tasks or respective operations. Looking after small children, for example, which does not only entail pure supervision but also empathetic reactions to the child’s behavior exceeds the current and foreseeable capability of service robots. Here, too, the principle of complementarity in the sharing of tasks between humans and robots applies from a work science perspective, i.e., robots take on tasks where humans are not or hardly able to do so. The results presented in this paper demonstrate that no generally valid conclusions can be drawn. Therefore, it is more likely for service robotics to put people with a medium level of education under some pressure. This requires a very detailed analysis of the service segment the robot is to be used in. As a consequence, there will be no general technology assessment of service robotics as such, but exemplary studies will have to be conducted for different service robots.. ',\n",
              " 's0921889018307474': 'Generally, in a robotic system there are multiple relations between the sensors that utilize different modalities. Sturm et\\xa0al. proposed an application of the Bayesian network   for learning the kinematic relations between various links\\xa0 . This method can be applied to various types of control problems, including collision avoidance, reaching to a target, and manipulation. The discovery and verification of these relations by itself allow the robot to find and attempt suitable control methods online even when the system dynamics vary from the initial assumption. TCPF is electrically driven by both Joule heating and thermal heating. After the collection, the relations among the sensor variables are estimated using mutual information. The locally linear approximation of   by   can be represented by  where   can be obtained by rearranging vector  , which can be calculated as follows: Let   denote the number of samples (pairs of   and  ) and  ,   and   denote the data matrices as follows:   where   denotes the  th sample of the sensor variable  . The tracking performance was improved after the initial several seconds. Among the generated controllers,  ,  ,  ,  , and   are observed to successfully follow the target trajectory. Based on the observation of motor-learning of humans, it can be understood that we do not adapt to new situations by learning from scratch. ',\n",
              " 's0925231214000265': 'Although useful, they are not as powerful. Similar to the above two works, Gandy et al.   used the n-rank of a tensor as sparsity measurement and tried to find the tensor of lowest n-rank that satisfies some linear constraints. The  -mode (matrix) product of a tensor   with a matrix   is denoted by   and is size  . Eq.   aims to use a low rank matrix   to approximate the given matrix with missing elements. To simplify the problem, we will minimize a  -norm instead of directly minimize the rank of the mode-  unfoldings. LRTC solves the optimization problem: which is derived as the substitution to their original problem Eq.  . In  , Dunlavy et al. analyzed data with multiple link types and derived feature vectors for each individual node. As is known that tensor is a useful tool for representing multi-mode correlations, and tensor decompositions facilitate a type of correlation analysis that incorporates all mode correlation simultaneously. The performance of the proposed algorithm is evaluated on both simulated data and real data. Different applications in image completion show the applicability of our proposed algorithm in the real world data. ',\n",
              " 's0925231217309864': 'Consistent with  , we define an   as a point in time where the behavior of the system is unusual and significantly different from previous, normal behavior. Model-based approaches are often computationally efficient but their lack of generalizability limits their applicability to general streaming applications. In   we present results comparing NAB on ten algorithms, many of which are commonly used in industry and academia.   concludes with a summary and directions for future work. 2 Anomaly detection using HTM Based on known properties of cortical neurons, Hierarchical Temporal Memory (HTM) is a theoretical framework for sequence learning in the cortex  . The network uses these representations to make predictions about the future in the form of a sparse vector.  (c) shows how the sparse representations are used to represent temporal patterns and disambiguate sequences with long-term dependencies. The core HTM algorithm by its nature is not highly sensitive to parameters. We also show results obtained by using anomaly likelihood, as defined in  . A “perfect” detector is an oracle that outputs detections that would maximize the NAB score; i.e., it outputs only true positives at the beginning of each window. The score from this detector offers some intuition for chance-level performance on NAB. Note that the Gaussian used in our anomaly likelihood technique is used to model the distribution of prediction errors, not the underlying metric data. The use cases cut across a large number of industries. ',\n",
              " 's0925231219301961': 'This is often due to poor image quality, inhomogeneous appearances brought by pathology, various imaging protocols and large variations of the segmentation target among patients. First, we propose a theoretical formulation of test-time augmentation for deep learning. We represent an image as a result of an image acquisition model with hidden parameters in  . In a given application, this assumption leads to some prior distributions of the transformation parameters and noise. Alternatively, we estimate  ( | ) by using Monte Carlo simulation. We used 2D networks of Fully Convolutional Network (FCN)  , U-Net   and P-Net  . The comparison indicates that the   uncertainty has a better ability than the   uncertainty to indicate mis-segmentations of non-border pixels. The histogram was obtained by statistically calculating the error rate of pixels at different pixel-wise uncertainty levels in each slice. For each study, there were four scans of T1w, T1wce, T2w and FLAIR images, and they had been co-registered. Combining TTA and TTD has a slight improvement from using TTA, but the improvement is not significant ( -value \\u202f<\\u202f 0.05). 4.2.4 Correlation between uncertainty and segmentation error To study the relationship between prediction uncertainty and segmentation error at voxel-level, we measured voxel-wise uncertainty and voxel-wise error rate at different uncertainty levels. ',\n",
              " 's0933365716302950': 'Learning BNs in large data sets is typically an NP-hard optimization problem where an enormous number of possible graphs are attempted in a heuristically driven process of finding locally optimal structures. Data was obtained from publicly released files from the CMS website  . Top 100 most frequently billed diagnosis codes in the year of 2011 for a majority of healthcare providers in the United States were assessed in the data along with the high level provider information, amount charged and amount paid to the provider by the Medicare insurance plan. Details of data processing are discussed in Supplementary file 1. The two posterior distributions for the dependent node (the baseline and the perturbed) were compared using the c-statistics or the area under the receiver operating characteristic curve. Nodes representing related DRG codes were combined. The resulting network ensemble was visualized using Cytoscape ( )  . Kidney related conditions were ranked 9, 12, and 13. This study explores direct and indirect effects of β -adrenergic agonists that might potentially lead to renal dysfunction. The β -adrenergic receptor has been demonstrated to regulate the sodium linked transporter expression   and it has been suggested that it is involved in salt sensitive hypertension  . ',\n",
              " 's0950705118301394': 'The converger/diverger distinction also applies in cognitive styles and learning strategies  . The unsuccessful were ideas that had not been developed to the end or had been disregarded in the problem-solving process, whereas successful ideas were those that had been developed to the end. The division of the text in the conversation transcripts between different ideas was assisted by the available slides in the dataset containing drawings of the generated ideas (product concepts), product names, principle of action, etc. For this comparison, the J and G subsets contained 6 and 5 subject cases, respectively, for a total of 11 cases. This division was made into whole sentences in such a way that no time point of the conversation contained less than 5 nouns. The success of generated ideas in creative problem solving depends not only on the final judgment by the client who decides which idea is the most creative, but also on the prior decisions made by the designer not to drop the idea in face of constraints on available physical resources. Extracting meaningful results about the cognitive processes underlying human creativity from recorded design conversations, however, is a challenging task because not all aspects of human creative skills are verbalized or represented at a consciously accessible level  . The ideas considered most meaningful (successful ideas) have a significantly higher number of links than other ideas  . We found that the creative ideas, which are judged as successful by the client, exhibit distinct dynamics including divergence of semantic similarity, increased information content and decreased polysemy in time. If such an optimized evaluation function is arrived at, creative machines could be able to evaluate their generated solutions at different stages without human help, and steer a selected design solution toward success through consecutive transformations; human designers would then act as clients who run design tasks with slightly different initial constraints on the design problem and at the end choose the computer product that best satisfies their personal preference. 4.3 Future work Having established a method for the quantitative evaluation of convergence/divergence in creative problem solving and design, we are planning to utilize it for the development of artificial intelligence applications, the most promising of which are software for the computer-assisted enhancement of human creativity and bot-automated design education in massive open online courses (MOOCs), wherein a few instructors are assisted by artificial agents that provide feedback on the design work for thousands of students. ',\n",
              " 's0952197619301253': 'The first approach deals with solving the so called   and the second with the  . One of these strategies are memetic algorithms (MA). In this figure, it is shown that the transition between clusters   and   and between clusters   y   is chaotic and produce higher transition costs between traffic control strategies. If we note  , it is possible to consider that flow depends on the traffic control strategies implemented in the system   and simulation models allow to compute   as a quality index   which it is being considered. For this, the proposed MA is an instance of this class of algorithms and it provides a trade-off between accuracy and computational cost. This computational scheme was introduced in\\xa0  to unconstrained optimization problems. The ratio of changes in dispersion measurement is defined as   for  , in which   denotes the change in dispersion measurement if   clusters are merged into   clusters. A success in the experiment is considered if the reached value satisfies  .   shows the mean value obtained   and the success percentage. To go into this question more deeply,   shows the solutions obtained by employing the simultaneous methodology in Test  . The criterion of fixing a maximum mean relative error is easily interpreted by planners. ',\n",
              " 's0957417413009615': 'Research into automatic facial expression recognition is very important in this modern society of technological age. These points, as well as their distances, have been widely employed for static facial expression analysis ( ). The Gabor filter is a superior model of simple cell receptive fields in cat striate cortex ( ), and it grants exceptional basis for object recognition and face recognition ( ). Methods like bilinear interpolations have been utilized by several authors for this task in particular but interpolations are prone to aliasing problems ( ). The AdaBoost feature reduction algorithms have special speed advantage in increasing classification process ( ). Then the image   is represented as   configured by the parameters  ,  ,  . The trial was performed using tenfold cross-validation to obtain the average recognition rate. Though performance in the Yale facial expression database is reduced as compared to that in the JAFFE facial expression database, it is far better than all the performances in Yale we compared with. 7 Conclusions This study employs many advanced techniques to improve the recognition rate and execution time of facial expression recognition system. This approach reduced the image dimensions and preserved the perceptual quality of the original image. The selected features were fed into a well-designed multilayer feed-forward neural network classifier. ',\n",
              " 's0957417414006472': 'Section   details the experiments that evaluate our method and the analysis of results. In the study of  , the authors accepted that the assignment of terms to concepts in ontology can be ambiguous and can lead to loss of information in their attempt to reduce dimensionality. 2.2 Semantic similarity Semantic similarity plays an important role in natural language processing, information retrieval, text summarization, text categorization, text clustering and so on. In this study, we try to explore the effect of the combination of explicit and implicit semantic relationships between synsets (concepts) on WSD. This result is consistent with the experimental results obtained by  . However, in both above measures, the concepts are captured with statistics and the hierarchical relations are created using the statistics-based methods, unlike the core semantic feature extraction approach used in this paper. The number of documents of CSF11 is less than the others due to there are a number of documents derived from this method that do not contain any of the core semantic features; this issue is discussed in more details later in this section. We can see that the DC experiment results are always better than the Base, which indicates that the disambiguated concepts produced by our measure can improve the clustering performance. Moreover, the greatly dimensionality reduction may lead to only a subset of the documents will be clustered, and which we call “covered documents”. The performance of using the disambiguated concepts is better than using all nouns, which suggests that our disambiguation measure can resolve the synonymous and polysemous problems commendably and improve the quality to some extent. Automatic labeling methods mainly rely on extracting significant terms from clustered documents. ',\n",
              " 's0957417415000238': 'These ontologies, which form a conceptual skeleton of the modeled domain, might serve various purposes such as better understanding, knowledge creation, knowledge sharing and reusing, collaborative learning, problem solving, seeking advice, or developing competences by learning from peers ( ). The paper is organized as follows. It seems that knowledge maps reduce cognitive load. Learning from maps and communication via maps are enhanced by active processing strategies such as summarization or annotation and by designing maps according to gestalt principles of organization ( ). COAT is implemented as an application in Java. The field-independent style is defined by a tendency to separate details from the surrounding context. This result shows that the number of concepts belonging to the neighboring levels and to different branches is significantly different, indicating imbalance in the ontologies developed by the wide categorizers. As for the collective ontology development, including wide categorizers in a single group with a FID individual can be useful, with the wide categorizers generating a plethora of sub-classes and the FID participant restructuring them. As this journal focuses on expert systems development research, it may be interesting to aim further investigation at collaborative interdisciplinary ontology design for mapping the emerging research areas of artificial intelligence and cognitive computing. The study described here is only a first step in interdisciplinary research dedicated to enquiring into the effect of the expert/user/learner’s individual cognitive style on group structuring design. ',\n",
              " 's0957417415003590': 'Currently there are no commercial implementations of these functions, although some research effort has been recently made. The cause will be the same as the case of the nearest stored problem. This paper proposes a method for learning troubleshooting rules for diagnosis methods based on Fuzzy Logic Controllers (FLCs) ( ). The result of DM is a model of the studied system. With the result of the diagnosis, corrective actions are taken and the process is repeated if the sector is not fixed. 2.2 Knowledge based systems The process of diagnosis, as explained above, can be replicated with an FLC that applies fuzzy rules over a subset of PIs of the sector in order to classify the case. The minimum for the Undetected Rate is 0 for values of MDA of up to 0.5. A higher value lets the score of a rule grow rapidly as its base increases. This small gain comes at the cost of an increase in execution time due to an increase in the number of operations when including normal cases. One partition is used for training and the other for validating the results. The results show that the parameters should allow diversity in the RB; that is, they must not filter rare cases or cases that loosely follow a rule. ',\n",
              " 's0957417416306844': 'Principal curves/surfaces algorithms are typically capable of expressing a single complex manifold. These methods are types of artificial neural networks which are trained using unsupervised learning to produce a low-dimensional (typically two-dimensional) discretized representation of the input space of the training samples, called a map. We compared the computational times between afCECand alternative methods: CEC implemented in R package   ( ) and GMM from R package   ( ). Since our implementation of acaGMM gives much worse results then afCEC, we decided to not provide it in the comparison, since it can be caused by the non-optimality of our implementation. Consequently, we need a number of parameters which are used in each model. The number of clusters has been determined so as to obtain a similar value of log-likelihood function. Using density-based clustering algorithm data from a turbine which is in good condition could be described by density estimation. Most of kernel methods consist of two steps: an embedding into a feature space and a classical clustering method used on the data transformed to feature space. Therefore, from the theoretical point of view the above procedure is incorrect. The integral in the case of AcaGMM is equal to 1.038. ',\n",
              " 's0957417417300751': 'In addition, sentiment orientation of lexical entities can be differentiated based on their characteristics. On the contrary,   approaches do not divide the dataset but there is an interaction between the learning steps, taking advantage from previous iterations of the learning process to improve the quality of the global classifier. In conclusion, the introduced taxonomy provides a framework for characterizing and comparing ensemble approaches in sentiment analysis. In this sense, we can distinguish two main types of ensembles of features. Besides, this dataset contains 50,000 unlabeled messages that have been used for training the movie reviews baseline model. All the performance metrics have been obtained using K-fold cross validation, with folds of 10. These tests are specially oriented to the comparison of several classifiers on multiple data sets. In this case, all the proposed models are compared against M . The first question was whether there is a framework to characterize existing approaches in relation to the ensemble of traditional and deep techniques in sentiment analysis. As expected, these models effectively combine different sources of sentiment information, resulting in a significant improvement with respect to the baseline. ',\n",
              " 's0957417417307698': 'The objective is to develop a geo-social event detection to monitor crowd behaviors and local events. In order to obtain these patterns, we combine data from several days that can be considered similar (same day of the week in our approach) and then we analyze the social media activity in slots of 30\\xa0min. Thus, we have 7 reference days (from Monday to Sunday) and 48 time slots per reference day. As the hypervectors are selected randomly there is a probability of collision in the same bucket of samples which are not closer in euclidean space (  where  ( ) is the angle between   and  ). According to this flow, the involved tasks are the following ones. Then, using the cosine distance we obtain the most similar register among the best candidates. Then, we checked the whole processing pipeline, i.e. the Crowds Dynamics Analyzer, the Thread Discovery module and the Event Ranking module. Automatically, the system detects the anomalous event without any a priori information. This can be explained by the absence of big geolocated clusters during this period. As conclusion, when there is a so large area of influence it is better to check directly the output of the Threads Discovery Module instead of checking the final output. 6.3 Unexpected events As a final test we threw all the data available and we checked the ability of the system in extracting the geolocated clusters with relevant information.   shows the cluster relevance over time and day. ',\n",
              " 's095741741830215x': 'However, the description of the text classification process needs further improvement. Since the results of our study are the guidelines in text classification, we based research only on repositories, which contains thoroughly reviewed and well-established journals. Finally, in the last category, dedicated approach, we placed some papers dealing with particular or dedicated text classification problems. Finally, the feature subset that yields the best performance is selected for use. These basic steps produced a well-known experiment plan to evaluate the performance of different methods from text classification. The percentage distribution of authors by their affiliation countries is shown in  . The third group are scientists who worked on papers with co-authors originating from more than two countries. These countries are mainly laid in the centre of the cluster in  . The map should assist researchers for promptly addressing their questions and realise the complexity of the topic. Furthermore, many works are related to embedding features to create better semantics vocabularies for classifiers learning\\xa0( ). ',\n",
              " 's0957417418306535': 'The specific detection and evasion techniques we consider use information theoretic entropy. EnTS’ accuracy is between 2 to 5 points higher than  ’s in all cases. Typically, time series are either analysed to estimate the next value ( ) or grouped by similarity ( ). Sorokin introduced this technique in 2011 ( ) and Baysa et\\xa0al. applied it to metamorphic malware in 2013 ( ). For Obfuscator.ACY the previous pattern is also frequent in the entropy signature, but in smaller sections, probably related to encrypted or compressed strings. Therefore for   experiments we used directly the VirusShare dataset for training the detection algorithms ( ). Once   manipulates the signature, the edition from the original to the variant is higher, this makes the variant more different, guiding to the misclassification of  . These results show that both, the feature space and the classifier are sensitive places for attacking using techniques such as  , because, for Kolter’s classifiers, SVM shows better results than the others using the same feature space. The adversary introduces noise into the data or makes some other alteration to achieve a misclassification. In our experiments,   did not use any information about the training data or the detector features it attempted to attack. ',\n",
              " 's0957417419301812': 'Financial Times), broker agency websites, and social media platforms. As tweets are typically short in length, they can be an indispensable tool for investors to discuss recent events relating to companies. One classifier is trained on a sparse vector of the tweet text alone, while a second classifier is trained on both the sparse vector and other features contained within a company-specific corpus. They also concluded that large spikes were due to mass, synchronised retweets, showing the presence of bots and that an analysis of retweeting users classified over 70% of them as bots. 3.2 Word disambiguation on Twitter There have been several studies on word disambiguation on Twitter in recent years ( ).   proposed an approach to disambiguating company names which are mentioned in tweets. The most frequent word found in BTG tweets (“binance”) refers to Binance Coin, a cryptocurrency which is currently ranked in the top twenty of all cryptocurrencies in terms of market capitalisation. Based on previous works which have seen varying levels of success ( ), we have chosen to train Logistic Regression, K-Nearest Neighbours, Support Vector Machine, Naïve Bayes, Decision Tree, and Random Forest classifiers. This indicates that the performance between the two classifiers, in respect to when they both predict either 0 or 1, is significantly different to each other. We have also demonstrated that cashtag collisions are not just isolated to companies listed on stock exchanges but are also impacted by the increasingly dominant cryptocurrency tickers. Ideally, a universally-agreed method for referring to a company through the use of its exchange and company ticker should be adhered to. Our results have shown that this issue is problematic in the sense that 64.2% of tweets collected over a one-month period contained at least one colliding cashtag. ',\n",
              " 's0957417419301903': 'The logistic regression model does not necessarily require the assumptions of the discriminant analysis model and may prove to be more robust in practical applications. In many cases a predominantly judgemental approach was employed. This stands in marked contrast to a small number of classical datasets that are regularly used in studies of credit scoring (see e.g. The Average Correct Classification Rates (ACCR) range from 63.33% to 78.10% with a mean ACCR of 67.61%. As per the latter, our 10 MLFN scoring models based on random runs show slightly better results under each of the previous criteria. As shown in  , the overall means are 70.57%, 23.15%, 39.13%, and 29.43% for ACCR, Type I, Type II and TE rates, respectively. Clearly, these results are the best amongst our scoring models with exception of the AMC 2011 results. These lessons are not limited to the Indian bank that provided our loan data-set as confirmed by recent news that four major foreign banks have reduced their exposure to the Indian market ( ). 5 Conclusions and areas for further research The main aim of our paper is to use a two-stage analysis to investigate whether scoring models can efficiently distinguish the Indian banking clients’ creditworthiness, and reduce default rates. We submit that some of these cost-cutting measures could thus ultimately have been avoided. However, recent financial turbulence in India suggests extending our study to other products including credit cards, business loans and mortgages would also be extremely timely. ',\n",
              " 's0957417419302489': 'For those methods, matching is divided into two parts: local and global. To provide order to our discussion, we separate the features using a taxonomy based on the one proposed in   for fingerprint features. The reported experiments used palmprints that came from one of three sources: public datasets, datasets collected in situ, and institutional datasets. First, in  , the similarity measure was changed to be an average of the differences in radius, angle, and relative direction of the most similar neighbors of each minutia. Since the evaluation methodology only considers the final result, it is impossible to determine if both changes have a beneficial impact, and in what quantity. While the manual matching is a time-consuming task, which prevents using datasets with thousands of minutiae, the feature representation with the best performance will be the one that allows performing a minutiae matching closer to the one that an expert does, while preventing the bias of evaluating as a better representation the one that allows producing similar results to the automatic matching algorithm. Second, using the similarity function, it calculates the similarity between all the minutiae in all palmprints in   and  . For the density map, we used a state-of-the-art algorithm to extract it automatically. Since latent palmprint identification usually compares a latent against thousands of template palmprints, we use the 1280 templates in THUPALMLAB dataset to increase the number of comparisons in an order of magnitude. Furthermore, experiments could include different types of latent palmprints that the experts find in the field, to create a meta-heuristic about which method to use in different scenarios, as it is done in fingerprints, where datasets contain fingerprints of different qualities. ',\n",
              " 's0963868717301798': 'Socialization leads to positive outcomes such as better job performance, less stress, higher job satisfaction, and reduction in intent to leave ( ). However, in spite of this conceptual separation of use and affordances in word, in practice, much of the IS affordance research does not sufficiently distinguish between features, use, and action.  , for example, describe four affordances of social media: persistence, visibility, editability, and association. Most participants were United States citizens who had recently graduated from a 4-year degree program in management information systems or computer science. A go-getter described this broadening perspective affordance as one that helps him with his career development. “I never feel trapped, because I know I can always transfer to a new area.” He further explained that visiting areas lets him know how his work impacts other areas and vice versa. Thus far, our analysis has focused on the primary users – the new hires – for whom FSP developed the OnBoard system. In our case, the go-getters accrued greater connections to people and resources than the work-players and just-doers and, consequently, greater power. Socialization research focuses on how new employees can learn about the organization and how to do their jobs ( ). Our findings challenge these assumptions. This feeling of resentment underscored a deeper concern that they might be disadvantaged by the visibility accruing to some of the new hires. First, the results relied on data collection from a single organization. ',\n",
              " 's1071581916000021': 'These are flexion (bending)/extension (straightening) at the interphalangeal joint (the first joint from the thumb-tip), and palmar abduction (towards palm)/adduction (away from palm) at the carpometacarpal joint – the joint closest to the wrist. Common tasks, such as text messaging and internet browsing, do not utilise the swipe gesture to any great extent and were thus not considered appropriate options for further investigation. We instead suspect that the more conservative scores reported by our female participants is related to a perceived technical ‘confidence gap’ across the genders that is unfounded. These values were then examined against their self-reported levels of touchscreen-based smartphone experience using the Spearman RHO correlation coefficient procedure. No significant relationship was observed between self-reported levels of touchscreen-based smartphone experience and intra-participant variances in max. speed, gesture thickness or applied touch pressure. 3.2 The effect of direction upon swipe gesture characteristics A Kruskal–Wallis test was conducted to determine if there were significant differences in our six measures across the four directions of swipe captured. Our   3,  , was partially supported. Though rank-order based statistical analysis that focus upon median values rather than means are better suited to mitigating the effect of outliers, examination of our data prior to analysis indicated that we needed to discard some 10% of our results due to the presence of extreme outliers on at least one of our measures. Similarly, left and right handed device users exhibit differences in swipes made horizontally. Secondly, there are limitations to our sampling method. The development of our future recruitment strategy will address this issue by substantially increasing the range of age and experience in our population sampling method. ',\n",
              " 's1071581916300453': \"In this study, we aim to highlight the factors affecting the learnability of an authoring tool, which is understood as “the capability of the software product to enable the user to learn its application” (ISO/IEC 9126-1, 2000). Our approach capitalizes on the creativity and expertize of teachers in the creation process, as well as the group dimension of the educational system by allowing teachers to access, use, and build over content developed by other teachers. A different set of options is displayed, depending on the type of activity selected. This impedes the learnability of the tool, making help mechanisms and virtual assistants critical for the tool's adoption. The variety of user interfaces is very interesting from the point of view of learnability, although it makes it more complicated to jump from one level of expertize to the next, and the implementation might have benefited from including an intermediate proficiency level. If teachers want students to perform the same activity in different workspaces, they should replicate the activity for each student. To manage these multidisciplinary needs, it is common for pedagogical teams to join efforts with technological ones, which leads to a completely new set of problems from a designer's point of view. Both multiple choice and pair-matching activities are consistently defined in DEDOS-Editor using cards (tokens). Overall, DEDOS-Editor shows a higher entry point followed by an immediate increase in completion rates, while JClic-Author shows a flat curve that remained close to 0 until half the experimental study was completed. Providing support to non-functional requirements is fundamental to allowing users of to complete their tasks ( ). \",\n",
              " 's107158191630074x': \"On the other hand, if the values are defined too  , i.e. risking high false positive rates, the resulting flood of (in many cases unnecessary) alerts and alarms might lead to an information overload of the user, or to the situation that the user stops to take the alerts as serious as they are. A constant awareness of states and values through an   might enable such an anticipation of critical situations. However, there are several open questions when it comes to supporting users in monitoring as a secondary task that concern the sonification design and as well as how different types of sound-enhanced process monitoring affect attention and concentration in main- and secondary task, which we tackled with this paper. Other open research questions were (b) to what extent the three different conditions distract users from their main task, (c) how users rate the three different conditions concerning relevant aspects such as pleasingness, helpfulnesses, intrusiveness or exhaustiveness. For the sake of easier evaluation we selected the   task, which is a mental arithmetic task of summing up two numbers (each smaller than 50). On hitting the return key the task, the result, and the timestamp are logged, and the next pair of random numbers is drawn and presented. Furthermore of interest are the buffer values of the respective buffers at the time of the user's interaction with the simulation (e.g., the input buffer of a certain machine at the time of refilling it). A low average buffer can, on the other hand, signify that the users rely on the respective conditions’ ability to signal interaction needs. In general, the results of   seem to posses a lower variability than those of   and   concerning almost all aspects, as the results typically deviate less and contain less outliers. To conclude, continuous sonifications, like our forest-soundscape sonification, enhance the adequacy of interactions in peripheral process monitoring better than displays based on auditory cues and systems that rely solely on visual means, while they do not significantly affect the main task performance. \",\n",
              " 's1071581916300866': \"Even the perception that emotional support is available to a person has been shown to be beneficial and can have important implications for stressors such as loneliness ( ). From the categories of support shown in  , it is clear that there are parallels in our defined emotional support categories and those that were applied by the agent in Prendinger and Ishizuka's study. Our category Emotional Reflections provides what Cutrona and Suhr call emotional support, which they define as expressions of caring, empathy, sympathy and concern. This is expected from the data represented in  . Between all of the emotional support strategies, each one of our defined emotional support categories was used. 4.4 Study 6: evaluation of the final emotional support algorithm The previous studies have led to the development of an emotional support algorithm that has been evaluated to provide the most suitable emotional support messages from a corpus of statements which a human might provide for individual stressors. Participants were then presented with each of the unique emotional support messages generated by our algorithm and were asked to rate how effective they considered the message to be for that each scenario. The average completion time was 7.5 min. This emphasizes the potential limitation of a using a limited set of examples for each emotional support strategy. For example, one message, namely the ‘be glad that you can help’ one used for  , seems linked to the scenario (where the CFR is helping a patient) and may not be appropriate for other frustration situations. These validated scenarios enabled a study into how people provide emotional support to individuals experiencing different stressors, resulting in a corpus of emotional support statements. \",\n",
              " 's1071581916301380': \"And, the farther into the past something happened, the more uncertain people are about when it happened ( ). The sample had 260 women and 149 men, with one person reporting “other”. Looking at just the Friends for whom participants noticed missed posts, for 25% participants reported only one missed post, 44% estimated they had seen 2–3 missed posts, 14% had 4–5, and participants reported more than 5 missed posts for 16% of the Friends for whom there were missed posts. 3.3.2 Surprise about missed posts If a participant reported that she had missed a post on a Friend's Timeline, the survey presented a question asking her to indicate how surprised she was about this. However, participants’ Friends were not participants in the study themselves, and the survey did not have permission to access their posting histories for a direct measure of their posting frequency. The intercept in this model is 4.41 ( =0.21, 4.0 is “Neutral”), and represents the level of surprise experienced by a participant about a missed post from a Friend who had not created a post in the past week, whose activity the participant did not remember accurately, with frequency of communication on Facebook in the past month and the two Facebook activity variables (participant visit and post frequency, number of Facebook Friends) held at their median, and internet literacy (mean), and age (median) also centered. Each facet shows a comparison between two channels of communication. These additions made the survey significantly longer, so the questions about communication frequency via different media with each Friend and Friend visibility in the News Feed were removed from the follow-up survey, to keep the total completion time about the same in both surveys. Some of the survey questions ask participants to remember things about their own or their Friends’ past behavior, and recognize whether they had already seen their Friends’ posts. Some of this within-participant variability should be captured by the random effects term in the models, however. But, this still requires the user to connect input (their own behavior) and output (algorithm ranking) on their own, and individual users typically do not have a broad enough view of the system to be able to do this accurately. \",\n",
              " 's1071581917300320': \"Studies of the daily news repertoires of individuals show complex media diets involving combinations of print, TV, radio, websites and social media, with some people continuing to favour printed newspapers as their primary source (e.g.  ;  ). Users took snapshots of printed pages from maps, leaflets, packaging or newspapers that contained QR reference points and identifiers. As  , even in instances where input technologies focus only on one single modality – in our case a touch-paper interface – we need to understand the broad limitations of that modality, which may include the specific attributes as ‘display’ size and form factor, target market, user experience and application design. Question marks around what forms of advertising are readers/users prepared to view for access to ‘free’ content, the length of on-screen articles compared to those of their print siblings and fundamental questions around the user experience and understanding of what content is ‘clickable’ or ‘interactive’ have all been the concerns of editorial teams since the emergence of online newspapers in the 1990's. We refer to each version of the newspaper shown in   and   with the following acronyms: LEPN=Lancashire Evening Post Newspaper ( a), LEPW=Lancashire Evening Post printed-webpage ( b), BPN=Blog Preston newspaper ( c), BPW=Blog Preston printed-webpage. But on the whole, the approach can be seen to lend itself to a variety of news content and format types. 8.1.2 Value When asked whether they would consider buying any of the interactive newspapers introduced during the trial sessions, responses from participants were mixed. However, as will be discussed in the following section on content design, most other participants felt that it is important for the audio content of the interactive newspaper to bring ‘something extra’ or an ‘added dimension’ to the everyday newspaper experience by providing supplementary or additional information rather than simply reading printed news articles verbatim. Being at home rather than on the go. This was attractive to people who disliked reading dense textual articles and preferred to read headings or pictures with associated spoken stories. Once he realized that the tablet was just two-sided, he turned the tablet horizontally (from left to right) which meant that the content on the back of the tablet was upside down. \",\n",
              " 's1071581917300988': \"Visitors’ experiences were assessed through a short questionnaire at the end of the Tate Sensorium experience and through interviews to deepen our understanding on the subjective differences of sensory enhanced art experiences. We include the description of the exhibited art pieces and sensory design space. Most recently, this potential has been established for mid-air haptic technology using a haptic device that uses focused ultrasound to create one or multiple focal points on the human hand. The ambition of Tate Sensorium was to enable museum visitors to experience art through all senses (vision, sound, touch, smell, and taste). Flying Object ( ), a creative studio based in London, led the project and coordinated the activities across the various stakeholders. Additionally, the not-so-clear visual identity would give room for other sensory stimuli to guide the interpretation of the experience, given that sensory information can prime specific notions in users ( ). Pairwise comparisons, using the Bonferroni correction, showed that pattern 1 and pattern 2 (Tate 3.77\\u2009±\\u20091.04 and Circle 3.90\\u2009±\\u20090.96) were found to be more arousing compared to pattern 3 (Line 3.50\\u2009±\\u20091.13, Cohen's d to the closest value\\u202f=\\u20090.38). This is as expected for this painting as it was designed with the mid-air haptic (the sense of touch). These critics were mainly based on different expectations, such as those expressed by some participants as  , and   Some participants literally expected a complete full body immersion in the painting through the stimulation of all senses. One participant said:   Full Stop   The Tate pattern was well integrated with the sound and emphasized the physicality of the painting, thus creating an affordance for touch. \",\n",
              " 's1071581917301404': 'Facebook, as the largest SM platform, offers three different functions for its users: (1) a performance region for managing and sharing recent data; (2) an exhibition region for longer term presentation of self image; and (3) a personal region to archive meaningful facets of life ( ). One FutureMe user sent his parents a future message telling them that he was gay, creating a self-imposed deadline for the same conversation face-to-face. Finally, systems like the ‘Ripening Room’ ( ) that encourage a delay between writing and sharing posts can prove fruitful in countering experiences of regret ( ) and bullying ( ). The purpose of this study was to allow participants to reflect on Social Media content that they post. Participants were then shown a preview of how their book would look and refined their selections until happy. However, the process of reviewing archived material can be shocking, since users often forget that SM data is public. As noted earlier, we have seen a marked change in the way that personal informatics tools have been used to support an enhanced sense of self, but these are highly deliberative systems where the user makes an explicit decision to collect and use data for personal reflection. In those systems, the digital artefacts are chosen with the intent to use them in future reminiscence and reflection, whereas our findings are more explicitly concerned with the ways in which existing SM data can be repackaged for such purposes. They also seemed to be most valued as a material object, compared with the MySocialBook. We have described the decisions and judgments that underpin a digital curation and remediation process and believe that this could be useful for SM providers, data aggregators and researchers wishing to develop better tools for SM analysis and display. ',\n",
              " 's1071581918300016': \"But personal devices do not really immerse people in the space and the social context ( ): strong personalisation might end up isolating the visitor within a hyper-individualised experience, which is somehow unnatural in a museum context where it is most common to visit with family and friends ( ). The content was mostly text with the addition of an audio, two animations and three images. From an implementation point of view this affective dimension is a serious challenge that, we believe, must be addressed by other means than computation; in meSch we used design. Within the meSch project, research was conducted on visual aids for composing the if-then-else rules as an extension of the Google Blockly library ( ). If tangible interaction is properly designed, we can replace the system's automatic guessing (that would be implemented in Layer 4 of the framework) with visitors’ explicit actions, thus empowering people with more control over the presentations. The two studies showed that when visitors are empowered with tools with an intuitive design and physical affordance, they seek more information. This monitoring was meaningful as the videos were quite long, up to 14\\xa0min; if the visitor decided to move on and took the replica before the video was over, the play stopped. This is an advanced form of material adaptivity as the post-visit artefact represents the physical output tailored in a personal way. We wanted the postcard to be an invitation to go out and explore the city but also a way into an online system that enabled visitors to contribute their own or family memories. For curators, the rules for putting content in context are transparent, although they can be edited by experienced interaction designers ( ). \",\n",
              " 's1071581918300971': 'This feature aligns a user-supplied transcript to a video recording using a patented method ( ). Systems have been developed for audio and video production ( ), but these were mostly designed without prior user requirements, and the studies were informal and used amateur participants. The producers of each programme were observed and interviewed to fully document their workflow, which took between half a day (for news) and four days (for the documentary). We used direct observation, where we witnessed radio production first-hand without taking part. This is a sufficiently different process to other programme genres that it warrants a different interface. We used a paired  -test to test for any significant difference between the existing and semantic editing workflows. This is done by reading, listening and watching existing material on the subject, and finding and talking to relevant people. Throughout this process, a script is used to organise and structure (5) the content of the programme. Once the interview, links and music are ready, the producer will assemble these into an edit (9) that matches the script, using the DAW. P2 comes from a television production background and used Apple’s Final Cut Pro, which is primarily a video editor but also includes audio editing functionality. ',\n",
              " 's1071581918303471': \"This would enable the system to serve as an effective  –one that would receive incoming interruption requests for the user and decide, based on that user's characteristics, when is the most appropriate time to interrupt him/her. 2.3 Models of interruption and an interruption taxonomy Models of Interruption refer to the set of models researchers have proposed to assist in representing the context from which an interruptible moment may be reasoned about. Currently, each model is very specific to the types of tasks intended to be performed by its users. As a result, an ANFIS was chosen as the machine learning tool for the Interruption Classifier. The tasks are unrelated by design to ensure that different cognitive resources are required to complete each task. This design is intended to provide participants the ability to successfully serve an interruption task if needed. In preparing for the full experiment, a pilot study was conducted which represented all aspects of the whole experiment—from introduction to debriefing. Observations recorded during this experiment were used to explore the timings of user-initiated interruption points. These researchers stated that additional work needs to be done in this area by including information from the other dimensions in their taxonomy: “Subjective preferences were not considered as a factor in the current implementation of the interruption mediator. The best performing model that meets the requirements (see  ) would be used for determining the timing of interruptions for that user. ANFIS's offer efficient and effective learning and adaptiveness capabilities ( ). \",\n",
              " 's1071581918304312': 'Thirdly, there are practices which aim to creatively engage non-musicians through fostering a collective collaboration ( ), suggesting the use of collective knowledge and creativity to support sustained musical creative engagement. An iPod screen, a rotary knob and operational buttons (On and Off buttons, Play/Pause button, Back button) are embedded on the top surface. The user interaction data was transfered from Arduino Mega to Processing. Group 1 interacted with M  and M , and group 2 interacted with M  and M , see  . Similarly, the data of M  and M  was combined to compare it with the data of M  and M , in order to examine the effects of changeable playing point. Thus they reported less pressure as they worry less about the mistakes. Cause you know you have this limit.’ (Participant 8). 6 Discussion The hypothesis H1 ( ) was not supported by our results. Given an exploratory task, participants’ rating of expressiveness of the prototype (ES6 and CS10) and satisfaction with the results (ES10 and CS11) were significantly higher than when they were given a utilitarian goal. This suggests that an experiential goal has more potential than a utilitarian goal to increase the positive experience in terms of perception of expressiveness of the prototype and satisfaction with results. The ability to change the playing point supported real-time activities by allowing access to records in real-time, which is an important feature of comprovisation discussed in  . ',\n",
              " 's1071581919300552': 'These computer-automated systems are used by humans, and humans are expected to remain essential contributors to artificial systems and automated systems in the future ( ). First, we discuss trends that have been around for a while but continue to remain important: (1) function and task allocation between humans and machines, (2) trust, incorrect use, and confusion, and (3) the balance between focus, divided attention and attention management. This parallels the popularization in Artificial Intelligence (AI) research of embodied, situated agents ( ): systems that have their own sensors and that depend on interaction with the environment for performance. These users have often not been trained in how to use or operate the system and often do not have a detailed technical understanding of how the automation works and the limitations on its successful operation. Specifically, it identifies that there are many domains and settings in which two or more of these research lines come together. Moreover, whether something is considered embodied and situated might at times be open to interpretation. For example, in the first deadly incident with a Tesla model S (a partially automated vehicle), the human driver had a prolonged period of visual distraction shortly before the crash ( ). Researchers need to focus on creating models of mode confusion for different application areas, (e.g.  ). Therefore, we expect that in the years to come there will be more progress on (partial) automation of creative tasks and social interaction settings than anticipated in the report by Frey and Osborne. Given that humans cannot agree on moral conflicts, a lot more research is needed to guide the regulation of automated systems. ',\n",
              " 's1875952116300040': 'Another framework developed by KPicture Productions Inc. is an open implemented set of libraries for application developers to create interactive content for the pre-movie period. On the player’s smartphone, the player can also see the entire maze on their mobile device but only a neighbourhood section at a time—due to the limited screen real estate. The Ease of Use desirable characteristic is a reflection of the fine-motor skill acquisition activity to play the game. Each player is represented by a unique number and coloured circle. Lastly, points are awarded to players when they collide with an opponent. One of its purposes is to anticipate state changes from the server. The recruitment message did not disclose the purpose of the experiment, but described the task as fun and similar to a video game. The difficulty of   is directly proportional to the number of players (human and non-human), the size of the pieces and the speed with which they move. For example, initially, we followed a more naive approach for Bézier curve traversal. This architectural model was designed in such a way that game specific details were abstracted away as much as possible. ',\n",
              " 's1875952117300952': 'Some of these devices have been used by researchers to develop rehabilitation tools, but they lack sufficient data acquisition capability   or are expensive, time-consuming and require extensive technical expertise  . Child nodes are added to grow the tree according to the available satisfactory weighting of actions. The game was adjusted continuously throughout the development process in accordance to the experts’ feedback.  (a) shows a screenshot of the “Fruit-Collection” game; a 3D-virtual-park with virtual-fruits that are generated based on the MCTS algorithm. The same rules are applied for grasp and release actions. The left/right feet push takes the avatar forward, and toe presses enable turning left/right. A hand’s angle is measured from the WR/WL to FR/FL and TR/TL. The average ROM and standard deviation (SD) differences between various groups are due to the limited range of motion of patients compared to the CG and is expected. The results from the Kinect relate strongly to those obtained from the Myo with a high Pearson correlation ( ). It enables them to achieve visual and real-time feedback on the screen. The study indicates that the Myo can be coupled with the Kinect to detect and track hand gestures with high accuracy, and the Kinect skeletal model’s limitation for assessment and data conveyance of hand’s pronation and supination can be corrected through the Myo gesture control armband. ',\n",
              " 's1875952119300394': 'The Theory of Mind reasons that humans perceive and distinguish various social cues to explain events in terms of intents and goals of agents (i.e., their actions) which might affect the elicited emotions  . As evidence shows that emotions critically influence human decision-making and performance  , this study sets out to find how a small subset of social cues elicits physiological affect in humans collaborating with robots, in an attempt to investigate how these influence the decision performance on serious game tasks. While the subjective measures (e.g., self-evaluation) always incorporate a potential self-deception, physiological signals are seen as an objective measure of emotional states since they are hard to manipulate intentionally  . Even though research on interaction in a physical environment is rare, simulated computer agents playing games (e.g., chess or checkers) together with humans are more common  . These might have an effect on elicited emotions  . Thus, this study takes into consideration the influence of physiological affect in response to human and such robot collaborators on the performance in serious games. The artificial fixture light was used while the temperature was held constant at 23  C   1  C throughout the experiment. The random points were randomized on each game move robot arm makes, which totals in three virtual positions the robot arm has to follow while making its move. Therefore, an alternative hypothesis was preferred that there was no significant difference in the performance between a human and robot collaborator conditions. 5.2 Physiological arousal A series of analyses were performed to understand the impact of elicited physiological arousal on the performance on the game task for each collaborator condition (H2a and H2b). Motivation could be that, collaboration with physical entities eliciting diverse behaviors and strong emotional responses might have promoted a higher focus on the game task at hand  . ',\n",
              " 's2589721719300029': \"Real-time control of temperature changes in pregnant sows is also conducive to testing the health of sows, according to the body temperature situation, the relevant breeding work can be arranged to increase the sow's birth rate ( ). Real-time access to the body temperature information of pigs has become an important part of the work of pig breeding. Moreover, measuring the rectal temperature of a pig usually requires 2–3 workers to take about 6\\u202fmin to complete ( ). The body surface temperatures of the ears, feet, sides and anus were measured in 12 weaned piglets for 45 consecutive days. These temperatures were compared with daily rectal temperatures. The temperature correlation between the ambient and the cow's rectum was obtained. Soerensen et al. ( ) evaluated the application of infrared temperature measurement technology in the measurement of pig body temperature, explored the relationship between skin, environment and body temperature. It was found that when the hoof has a lesion, the surface temperature of the squat leg will increase, and an early thermal detection of the lesion can be performed using an infrared camera.   measured the temperature of the pig's head by a thermal imaging camera and detected the early fever of the pig by differential ROI (region of interest). The IRmax of infrared thermal image can be used as a basis for evaluating the thermal status of newborn piglets. Some scholars have found in the process of measuring the body temperature of pigs by infrared equipment: the temperature of pig ear root (that is the junction between the ear and the back) is significantly higher than other parts of the head. \",\n",
              " 's259018851930006x': 'Over the past few decades, scholars across the world have made significant effort to study the changing IRI mechanisms, which have been then used to analyze pavement performance deterioration trends ( ).   analyzed the IRI characteristics of cracked and seated concrete pavements and thereby provided maintenance and rehabilitation guidance for pavement management. Typical IRI prediction models have been developed by the transportation departments of Mississippi and Washington as part of the Long-Term Pavement Performance (LTPP) program and by other state agencies based on the Mechanistic Empirical Pavement Design Guide ( ). Thereafter, researchers have used not only ANNs but also other AI techniques such as support vector machines ( ) to investigate pavement roughness progression. The hierarchy structure of the computing organization mechanism of granules provides GrC with the ability to interpret complex problems from multiple perspectives. Each individual particle has its initial position and moving velocity. Original IRI data are extracted from the LTPP database. However, the IRI values for some road sections show ascending trends. Here, the calculated fuzzy-trends are  . Then, according to   and  , the optimal weighting vector is calculated as  . The polynomial fitting, autoregressive integrated moving average (ARIMA), and backpropagation neural network (BPNN) methods are selected for IRI prediction, and the errors of these methods are compared with the results of the proposed method. ',\n",
              " 's2590188519300083': 'In addition, the development of multimedia technologies and cost effective CCTV cameras for surveillance applications produce diversified images or videos at a larger scale. The proposed features are extracted from cropped face images. To improve the results, the method takes spatial information into account. This includes information of faces and metadata collected from family photos. In order to extract regular patterns from both the foreground and background (other than face regions), we further explore fractional entropy which extracts texture properties in the regions. In  , P  to P  are the points given by the face detection method ( ), and based on those points, the same method detects five facial key points, namely, left Eyebrow ( ), right Eyebrow ( ), left Eye ( ), right Eye ( ), Nose ( ), Mouth ( ) and the centroid, using all the 68 points. Since the proposed work does not provide a large number of samples for training and labeling samples, we prefer to use the combination of the proposed features and the CNNs rather than raw pixels with the recent deep learning models. For experimentation with an SVM and for a fair comparative study with the CNN, the proposed method uses a polynomial kernel as it is non-linear like the CNN classifier. Therefore, there is scope for improvement in the future. To make use of the background information and textural properties of facial regions, we have proposed novel Tsallis fractional entropy-based features. ',\n",
              " 's2590188519300162': 'To iteratively adjust the parameters of the FLANN, PSO and GA and the gradient descent are used by Naik et\\xa0al. and compared the ( ) result with the result of individuals like FLANN, GA adjusting the parameter of FLANN, FLANN adjusting the parameter by PSO. Hence, based on the concept of rise or fall, bullish or bearish market strategies arises, which define the thought of the trader about future. The beauty of ELM is that it avoid multiple iterations as the ( ) total number of training inputs is trained at a time and also it is having the better generalization ability with faster learning rate. 4.2 OSELM From the batch learning approach of ELM, OSELM is generated ( ). Using some set of weights the feedback is modified so as to enable the usual adaption through the network learning. 5 Feature reduction techniques When the data of all the features are given to the prediction model, the prediction models, here in this study are neural network models, cannot be well trained properly. The basic aim is to consider the reduced number of data variables keeping the intact ( ) information available in the original data. The dimension of the input has increased with the expectation of getting closer predicted value towards the actual value. In case of feature reduction two types of feature reduction occurs, one is statistical based feature reduction and another one is optimized based feature reduction. FO is an interesting population based heuristic algorithm, where each brighter firefly attracts its partner in spite of their sex, which help to explore the search space efficiently. But to explore the search space more precisely for getting optimal solution, GA is added to Firefly, which is designed as Firefly algorithm with ( ) evolutionary framework is designed. GA is found to have two basic parameters, one is crossover rate and another is mutation rate. '}"
            ]
          },
          "metadata": {
            "tags": []
          },
          "execution_count": 91
        }
      ]
    },
    {
      "cell_type": "markdown",
      "metadata": {
        "id": "tTGz1eztFeTu"
      },
      "source": [
        "## Plots from the report"
      ]
    },
    {
      "cell_type": "code",
      "metadata": {
        "id": "V8EJFey9tRvG"
      },
      "source": [
        "rouge_l_all_50_All=[0.13049763268009537, 0.1677918832565622, 0.17629118410672956, 0.18681916839579413, 0.1898723101505072, 0.18598012595454635, 0.17994552023187466, 0.17934599263543627, 0.17467227291872117, 0.1743631867068285]\n",
        "rouge_l_all_50_Intro=[0.17600224137500892, 0.20876723429106836, 0.22477846209019905, 0.22809383666808902, 0.2275688395287508, 0.2289614152216529, 0.22718167099718722, 0.21749940503119208, 0.21058265138927515, 0.20493674458168157]\n",
        "rouge_l_intro_lex=[0.19227918955853288, 0.21249867445677986, 0.21531926438369073, 0.2100722537671303, 0.2079163657447873, 0.20501129652133293, 0.1993525236345533, 0.19216180534727834, 0.1847727608783593, 0.18014858336856227]\n",
        "rouge_l_allsec_lex=[0.201202840116673, 0.2304211448281257, 0.2301041893611245, 0.22727641055706424, 0.22016900063982883, 0.2122972777728367, 0.21025112255726436, 0.20254538931535937, 0.19580772701111573, 0.1892126281812958]\n",
        "rouge_l_intro_tex=[0.1794744860411259, 0.18553250277735964, 0.17840965008728604, 0.17824837567202628, 0.17404720608320312, 0.1749243788084897, 0.1715104921165804, 0.16832268159011948, 0.16348967294973732, 0.16157444205242028]\n",
        "rouge_l_allsec_tex=[0.16620284538482963, 0.16632456716021535, 0.1606211117818109, 0.1585790287078555, 0.15442704108064856, 0.14775567654632393, 0.14584536287836158, 0.13853134608215384, 0.13428633372158513, 0.1304489833391892]"
      ],
      "execution_count": null,
      "outputs": []
    },
    {
      "cell_type": "code",
      "metadata": {
        "colab": {
          "base_uri": "https://localhost:8080/",
          "height": 296
        },
        "id": "v_7tKl7qmyGG",
        "outputId": "6a0b8118-2514-4e17-a818-492e9ad65aad"
      },
      "source": [
        "x=[1,2,3,4,5,6,7,8,9,10]\n",
        "f, ax = plt.subplots(1)\n",
        "ax.plot(x,rouge_l_intro_lex,'-o',label='IntroLex')\n",
        "ax.plot(x,rouge_l_allsec_lex,'-o',label='AllSecLex')\n",
        "ax.plot(x,rouge_l_intro_tex,'-o',label='IntroText')\n",
        "ax.plot(x,rouge_l_allsec_tex,'-o',label='AllSecText')\n",
        "ax.plot(x,rouge_l_all_50_Intro,'-o',label='Introensemble')\n",
        "ax.plot(x,rouge_l_all_50_All,'-o',label='AllSecensemble')\n",
        "\n",
        "ax.set_xlabel('N')\n",
        "ax.set_ylabel('Rouge-l')\n",
        "ax.set_ylim(ymin=0.10,ymax=0.25)\n",
        "plt.legend()\n",
        "plt.show(f)\n",
        "plt.savefig('graph.eps',format='eps')"
      ],
      "execution_count": null,
      "outputs": [
        {
          "output_type": "display_data",
          "data": {
            "image/png": "[encoded data removed]",
            "text/plain": [
              "<Figure size 432x288 with 1 Axes>"
            ]
          },
          "metadata": {
            "tags": [],
            "needs_background": "light"
          }
        },
        {
          "output_type": "display_data",
          "data": {
            "text/plain": [
              "<Figure size 432x288 with 0 Axes>"
            ]
          },
          "metadata": {
            "tags": []
          }
        }
      ]
    },
    {
      "cell_type": "code",
      "metadata": {
        "id": "cQ2bjGheoHo4"
      },
      "source": [
        "rouge_l_all_10_All=[0.1426259604572127, 0.17246938914861934, 0.18217928204570846, 0.18224778708835218, 0.17766118049864235, 0.17565346446685554, 0.17379113580781558, 0.16934834563887327, 0.16413754270071407, 0.15762953450181308]\n",
        "rouge_l_all_10_Intro=[0.16273063109491837, 0.1962157882022984, 0.20031972636284595, 0.19918747003126422, 0.19071282743528253, 0.1820555343380346, 0.17436766062253606, 0.16654162165671438, 0.15988214910257337, 0.15389077652677818]\n",
        "rouge_l_intro_lex=[0.17308693479169626, 0.18965310873610333, 0.18773039625441557,0.1817747983381817, 0.176244422273372, 0.16974155934621818,0.16327961622322504, 0.15842187413735226, 0.15460434196489192,0.14955373210846398]\n",
        "rouge_l_allsec_lex=[0.19586025999331452, 0.20940884717328834, 0.21302155852603188,0.2114511900616869, 0.20191385247609267, 0.1953691583821194,0.18956814278895973, 0.18297082416319696, 0.17662767061244708,0.17096631032324555]\n",
        "rouge_l_intro_tex=[0.1701780143685044, 0.1765714297233547, 0.16994830192289748,0.16504960344563685, 0.15844676177958192, 0.15315247719735567,0.1476836884616376, 0.14310090389921348, 0.1380893845710461,0.134081489135311]\n",
        "rouge_l_allsec_tex=[0.13871134860761553, 0.14378098741555842, 0.14367887106176339,0.1399794950200046, 0.1378783767072001, 0.1340243668538481,0.13146157621037222, 0.12715443213348762, 0.12351562411678413,0.12097260224719716]"
      ],
      "execution_count": null,
      "outputs": []
    },
    {
      "cell_type": "code",
      "metadata": {
        "colab": {
          "base_uri": "https://localhost:8080/",
          "height": 296
        },
        "id": "Aq3vxXLPtMl2",
        "outputId": "ca52f659-77fe-4708-cbee-c7ecd6c56e5e"
      },
      "source": [
        "x=[1,2,3,4,5,6,7,8,9,10]\n",
        "f, ax = plt.subplots(1)\n",
        "ax.plot(x,rouge_l_intro_lex,'-o',label='IntroLex')\n",
        "ax.plot(x,rouge_l_allsec_lex,'-o',label='AllSecLex')\n",
        "ax.plot(x,rouge_l_intro_tex,'-o',label='IntroText')\n",
        "ax.plot(x,rouge_l_allsec_tex,'-o',label='AllSecText')\n",
        "ax.plot(x,rouge_l_all_50_Intro,'-o',label='Introensemble')\n",
        "ax.plot(x,rouge_l_all_50_All,'-o',label='AllSecensemble')\n",
        "\n",
        "ax.set_xlabel('TopK')\n",
        "ax.set_ylabel('Rouge-l')\n",
        "ax.set_ylim(ymin=0.10,ymax=0.25)\n",
        "plt.legend()\n",
        "plt.show(f)\n",
        "plt.savefig('graph.eps',format='eps')"
      ],
      "execution_count": null,
      "outputs": [
        {
          "output_type": "display_data",
          "data": {
            "image/png": "[encoded data removed]",
            "text/plain": [
              "<Figure size 432x288 with 1 Axes>"
            ]
          },
          "metadata": {
            "tags": [],
            "needs_background": "light"
          }
        },
        {
          "output_type": "display_data",
          "data": {
            "text/plain": [
              "<Figure size 432x288 with 0 Axes>"
            ]
          },
          "metadata": {
            "tags": []
          }
        }
      ]
    },
    {
      "cell_type": "code",
      "metadata": {
        "colab": {
          "base_uri": "https://localhost:8080/",
          "height": 279
        },
        "id": "t3unIa8AeYnT",
        "outputId": "a2f42f0a-08da-41fc-90f9-e3afb2d9ec7b"
      },
      "source": [
        "f, ax = plt.subplots(1)\n",
        "ax.plot(x,rouge_l_all_50,'-o',label='ensemble_inc50')\n",
        "ax.plot(x,rouge_l_all_exckey,'-o',label='ensemble_exckey')\n",
        "ax.plot(x,rouge_l_tfidf_50,'-o',label='tfidf_inc50')\n",
        "ax.plot(x,rouge_l_tfidf_exckey,'-o',label='tfidf_excKey')\n",
        "ax.plot(x,rouge_l_all_10,'-o',label='ensemble_inc10')\n",
        "ax.plot(x,rouge_l_tfidf_10,'-o',label='tfidfinc10')\n",
        "ax.plot(x,rouge_l_all_5,'-o',label='ensemble_inc5')\n",
        "ax.plot(x,rouge_l_tfidf_5,'-o',label='tfidfinc5')\n",
        "ax.set_xlabel('TopK')\n",
        "ax.set_ylabel('Rouge-l')\n",
        "ax.set_ylim(ymin=0.10,ymax=0.25)\n",
        "plt.legend()\n",
        "plt.show(f)"
      ],
      "execution_count": null,
      "outputs": [
        {
          "output_type": "display_data",
          "data": {
            "image/png": "[encoded data removed]",
            "text/plain": [
              "<Figure size 432x288 with 1 Axes>"
            ]
          },
          "metadata": {
            "tags": [],
            "needs_background": "light"
          }
        }
      ]
    },
    {
      "cell_type": "markdown",
      "metadata": {
        "id": "eo3qm4pt7dJE"
      },
      "source": [
        "## An experiment by taking good and bad summaries to validate them "
      ]
    },
    {
      "cell_type": "markdown",
      "metadata": {
        "id": "UCcj-nTQL1_e"
      },
      "source": [
        "Code to obtain best summaries based on rouge-l"
      ]
    },
    {
      "cell_type": "code",
      "metadata": {
        "id": "9vgpWXTIw7DI"
      },
      "source": [
        "arrint=[]\n",
        "for val in y_rouge_all[0]:\n",
        "  arrint.append(val['rouge-l']['f'])\n",
        "arr = np.array(arrint)\n",
        "\n",
        "indbest=(arr.argsort()[-5:][::-1])"
      ],
      "execution_count": null,
      "outputs": []
    },
    {
      "cell_type": "markdown",
      "metadata": {
        "id": "9I9bTZ4lMKXR"
      },
      "source": [
        "Indexes of bad summaries based on human evalaution"
      ]
    },
    {
      "cell_type": "code",
      "metadata": {
        "id": "FH9YVpisMBiZ"
      },
      "source": [
        "indleast=[18,39,0,10,44]"
      ],
      "execution_count": null,
      "outputs": []
    },
    {
      "cell_type": "code",
      "metadata": {
        "id": "GnITqtSoy-Ni"
      },
      "source": [
        "keys=[]\n",
        "for ke in Highlights.keys():\n",
        "  keys.append(ke)"
      ],
      "execution_count": null,
      "outputs": []
    },
    {
      "cell_type": "code",
      "metadata": {
        "id": "KBK0p6ZlyT6h"
      },
      "source": [
        "\n",
        "for i in indbest:\n",
        "  pi.append(str(keys[i]))\n",
        "for i in indleast:\n",
        "  pi.append(str(keys[i])) "
      ],
      "execution_count": null,
      "outputs": []
    },
    {
      "cell_type": "markdown",
      "metadata": {
        "id": "JFN8RyMJMdXX"
      },
      "source": [
        "13 papers to run the experiments with pi storing the PII of the 13 papers"
      ]
    },
    {
      "cell_type": "code",
      "metadata": {
        "colab": {
          "base_uri": "https://localhost:8080/"
        },
        "id": "p1Mj0EO15dFE",
        "outputId": "829a3b7e-4968-4099-f577-644d33a7c3d2"
      },
      "source": [
        "len(set(pi))"
      ],
      "execution_count": null,
      "outputs": [
        {
          "output_type": "execute_result",
          "data": {
            "text/plain": [
              "13"
            ]
          },
          "metadata": {
            "tags": []
          },
          "execution_count": 140
        }
      ]
    },
    {
      "cell_type": "code",
      "metadata": {
        "id": "_qq6mfkHcwRS"
      },
      "source": [
        "Intro13={}\n",
        "AllSec13={}\n",
        "AllSec13_Dict={}\n",
        "Highlights13_Dict={}\n",
        "Abstract13={}\n",
        "Abstract13_Dict={}\n",
        "for pii in set(pi):\n",
        "  Intro13[pii]=Intro[pii]\n",
        "  AllSec13[pii]=OtherContent[pii]\n",
        "  AllSec13_Dict[pii]=OtherContent_Dict[pii]\n",
        "  Highlights13_Dict[pii]=Highlights_Dict[pii]\n",
        "  Abstract13[pii]=Abstract[pii]\n",
        "  Abstract13_Dict[pii]=Abstract_Dict[pii]\n"
      ],
      "execution_count": null,
      "outputs": []
    },
    {
      "cell_type": "markdown",
      "metadata": {
        "id": "nGayVUhBMpEz"
      },
      "source": [
        "Generated summary using intro section of the 13 papers and Ensemble method"
      ]
    },
    {
      "cell_type": "code",
      "metadata": {
        "colab": {
          "base_uri": "https://localhost:8080/"
        },
        "id": "uCLDjkwxztE9",
        "outputId": "4cfc771a-2131-48f0-db74-b848371cac5f"
      },
      "source": [
        "genSummaryIntro13"
      ],
      "execution_count": null,
      "outputs": [
        {
          "output_type": "execute_result",
          "data": {
            "text/plain": [
              "{'s0888613x14000607': ['The empirical loss of a model on interval-valued datasets is defined as the lowest loss over all the possible crisp instantiations (selections) of the uncertain items in the training data',\n",
              "  'The loss function of a model with fuzzy data is defined as an average over the different level cuts of the data',\n",
              "  'The model with a best empirical loss is searched for, thus a minimin criterion is adopted',\n",
              "  'It is shown that this strategy is related to the optimization of certain loss functions used in machine learning',\n",
              "  'This discussion focuses in on three particular aspects of the paper where further developments may be possible: extension principle-based models, the use of the aforementioned minimin criterion and possible links between data disambiguation and data imputation.'],\n",
              " 's0888613x1400067x': ['To illustrate the relationship between patterns and granules, we present a method to interpret granules in terms of patterns, and prove that decision rules and max closed patterns are mutually corresponding',\n",
              "  'We also indicate that small closed patterns can be interpreted as smaller granules',\n",
              "  'Moreover, we formalize concepts of association mappings and present efficient algorithms for the constructions of multi-tier structures',\n",
              "  'Finally, experiments on a real dataset and Foodmart 2005 data collection have been conducted and the results show that the proposed approach is promising',\n",
              "  \"The remainder of the paper is structured as follows: Section   discusses related work, Section   introduces basic definitions, Section   presents a method for the interpretation of granules in terms of patterns, Section   discusses the concept of multi-tier structures and presents a method to estimate patterns' support based on granules, Section   presents definitions and properties for association mappings, Section   proposes efficient algorithms for the construction of multi-tier structures based on association mappings, Section   evaluates the proposed approach and lastly, Section   presents the conclusion.\"],\n",
              " 's0888613x15000857': ['Section   gives an overview of FLLP',\n",
              "  'Section   presents the non-deterministic procedure, defining non-deterministic tabulation rules and the non-deterministic procedure, showing its termination, and proving its soundness and completeness',\n",
              "  'Section   presents the deterministic procedure, defining deterministic tabulation rules and the deterministic procedure, showing its termination and soundness, proving its completeness, giving an example of how it works, and discussing its applicability in threshold computation and top-  retrieval',\n",
              "  'Section   discusses related work',\n",
              "  'Section   concludes the paper.   gives all proofs of lemmas and theorems of the paper.'],\n",
              " 's0925231214000265': ['The new function is solvable and considered as our model',\n",
              "  'With the new weighted objective model, the proposed algorithm can utilize the mode information of the tensor with choice',\n",
              "  'The rest of the paper is organized as follows.   presents some notations and basic properties of tensors',\n",
              "  'In  , we review the definition of Tucker decomposition and tensor n-rank, which suggests that a low-n-rank tensor is a low rank matrix when appropriately unfolded.   discusses the detailed process of the proposed algorithm.   reports experimental results of our algorithm on simulated data and image completion',\n",
              "  'Finally,   provides some concluding remarks.'],\n",
              " 's0925231217309864': ['An anomaly may signify a negative change in the system, like a fluctuation in the turbine rotation frequency of a jet engine, possibly indicating an imminent failure',\n",
              "  'An anomaly can also be positive, like an abnormally high number of web clicks on a new product page, implying stronger than normal demand',\n",
              "  'Either way, anomalies in data identify abnormal behavior with potentially useful information',\n",
              "  'An anomaly can also be  , or  , if the temporal sequence of data is relevant; i.e., a data instance is anomalous only in a specific temporal context, but not otherwise',\n",
              "  'Temporal anomalies, such as the middle anomaly of  , are often subtle and hard to detect in real data streams'],\n",
              " 's0925231219301961': ['The contribution of this work is three-fold',\n",
              "  'First, we propose a theoretical formulation of test-time augmentation for deep learning',\n",
              "  'Test-time augmentation has not been mathematically formulated by existing works, and our proposed mathematical formulation is general for image recognition tasks',\n",
              "  'Second, with the proposed formulation of test-time augmentation, we propose a general   uncertainty estimation for medical image segmentation, where the uncertainty comes from not only image noise but also spatial transformations',\n",
              "  'Third, we analyze different types of uncertainty estimation for the deep CNN-based segmentation, and validate the superiority of the proposed general   uncertainty with both 2D and 3D segmentation tasks.'],\n",
              " 's0952197619301253': ['Section\\xa0  reviews traffic signal control and optimization based on TODs',\n",
              "  'In Section\\xa0  the bilevel model is formulated',\n",
              "  'In Section\\xa0  the memetic computing for its resolution is described',\n",
              "  'The automatic determination of the number of TODs is carried out in Section\\xa0 ',\n",
              "  'In Section\\xa0  the numerical experiments over real and synthetic data are carried out and finally the conclusions obtained are analysed.'],\n",
              " 's0957417413009615': ['Section   discusses Gabor feature extraction',\n",
              "  'Section   discusses feature selection',\n",
              "  'Results and analysis are presented in Section  ',\n",
              "  'Section   discusses the multilayer feed-forward neural network (MFFNN)',\n",
              "  'The final conclusions of the work are drawn in Section  .'],\n",
              " 's0957417417300751': ['We also present the complexity of the proposed ensemble models',\n",
              "  'Besides, we present a taxonomy that classifies the models found in the literature and the ones proposed in this work',\n",
              "  'In  , we describe the designed experimental setup',\n",
              "  'Experimental results are presented and analyzed in  ',\n",
              "  'Finally,   draws conclusions from previous results and outlines the future work.'],\n",
              " 's0963868717301798': ['Despite the strategic importance of ESM systems in organizations (Gartner  ) and the strategic importance of attracting, training and retaining a skilled IT workforce ( ), few studies to date have investigated the use of ESM for employee socialization ( )',\n",
              "  'In order to contribute to our understanding of how ESM affects employee socialization, this paper invokes a case study of an organization that had recently incorporated ESM into its IT new hire program',\n",
              "  'Drawing upon technology affordance theory as our lens, we address the following research question: how do ESM affordances influence the socialization of IT new hires? This paper is organized as follows',\n",
              "  'We first provide the theoretical foundation',\n",
              "  'We then present the method, a case description and the analysis followed by the implications, limitations, and conclusion.'],\n",
              " 's1875952116300040': ['For example, patrons may choose to use their smartphones instead of watching the pre-show or decide to not even go to the theatre at all',\n",
              "  'Patrons are very aware of the diversity of entertainment options available',\n",
              "  'In fact, many theatregoers have home theatre environments that negatively influence their movie-going behaviour  ',\n",
              "  'Movie theatres have a challenge to provide additional value that leverages the social properties of cinema attendance  ',\n",
              "  'However, now is the right time for the pre-show period to harness the opportunity of social networking and personal interactive technologies  '],\n",
              " 's1875952117300952': ['The players’ input is simultaneously transferred into a simulated virtual 3D-park via the Unity game engine with all files and data stored locally on a hard drive',\n",
              "  'Four game scenarios are developed; “Fruit-Collection” to grasp/ release virtual fruits in a virtual basket, “Button-Press” to reach/press virtual buttons for 3-s (the duration reflects an appropriate balance between playability and difficulty), “Sling-Shot” to knock-down virtual boxes and “Fruit-Collection with the FootPedal” to navigate between pre-established key points and collect virtual objects  ',\n",
              "  'The frequencies of the entire data collection were normalised to facilitate comparison between Kinect and Myo when continuously estimating and comparing arm orientation',\n",
              "  'The reliability and accuracy of the devices in measuring functional and clinically relevant movements of the upper limb were also investigated',\n",
              "  'Use of a FootPedal is not significant to this study and only reported as work in progress for future developments to the game.'],\n",
              " 's2590188519300162': ['Empirically the model validation is realized over four stock market datasets such as BSE Sensex, NSE Sensex, S&P 500 index and the FTSE index within a given period of time',\n",
              "  'The dataset is regenerated using technical indicators and statistical measures, based on the available features such as open price, close price, maximum price, minimum price and change of price considering the window size seven',\n",
              "  'The proposed work provides better prediction ability than the other evaluated learning techniques and prediction models used in this experimental work',\n",
              "  'The rest of the paper is organized as follows:   contains the related work which basically focuses on the promising techniques used by various researchers in financial domain to get best possible results.   covers the details of data samples and the dataset regeneration part.   introduces all the predictive models in details and   covers the particulars of statistical and optimized based feature reduction techniques.   provides the result analysis, which includes a schematic layout of the proposed prediction model, parameter setup, detailed steps of the proposed algorithm, the analysis of the experimental outcome in the form of simulation graph and the training result in MSE along with the performance evaluation measures',\n",
              "  'Finally,   and   present the overall work analysis and conclusions respectively.']}"
            ]
          },
          "metadata": {
            "tags": []
          },
          "execution_count": 197
        }
      ]
    },
    {
      "cell_type": "markdown",
      "metadata": {
        "id": "0EybGw2MM5Dn"
      },
      "source": [
        "Getting the BERTScores of the 13 papers"
      ]
    },
    {
      "cell_type": "code",
      "metadata": {
        "colab": {
          "base_uri": "https://localhost:8080/",
          "height": 638,
          "referenced_widgets": [
            "68c329b752924004bf276061c43a988b",
            "f1438716fe7146d9a70784551af59316",
            "41b8237242e04fb5af08965f884e2eb4",
            "1f43198075a74f2ca5db0cae07f664c3",
            "59fd29350e734989a7f55a9ab6db995a",
            "70d168a6069e4247a7f5275d1e0cd9e0",
            "b57de4ab09fc41b7aa4a6c11074b90ff",
            "f370a661aba14674aa9e56bb67136fc7",
            "9df2d81ef1b648369d3a5e9dc52ff77d",
            "92af85f421ed49a1bbbe03dacc315c89",
            "4f16a72d9a2b42f2b87d0028e5dda860",
            "ca94cc9419bc413daaf5d8519ccf8542",
            "e69d694a79b94454b8f14bffbcb7be42",
            "9ac7de36380c43fdbdf6f56ebba935c5",
            "4a14414f4acb42ce812825b2e9877434",
            "46dca61b8cd448c38039c7d28e9f917a"
          ]
        },
        "id": "hmJ69NeR3bDB",
        "outputId": "0710927f-4e64-470d-98de-0728c81aab9b"
      },
      "source": [
        "cands=[]\n",
        "refs=[]\n",
        "generatedSummary={}\n",
        "    \n",
        "for key in genSummaryIntro13.keys():\n",
        "  summattach=''\n",
        "  for sent in genSummaryIntro13[key]:\n",
        "    summattach+=sent+\" \"\n",
        "  generatedSummary[key]=summattach\n",
        "\n",
        "for key in Highlights13_Dict.keys():\n",
        "  cands.append(generatedSummary[key])\n",
        "  refs.append(Highlights13_Dict[key])\n",
        "P, R, F1 = score(cands, refs, lang=\"en\", verbose=True)\n",
        "y1.append(F1)"
      ],
      "execution_count": null,
      "outputs": [
        {
          "output_type": "stream",
          "text": [
            "calculating scores...\n",
            "computing bert embedding.\n"
          ],
          "name": "stdout"
        },
        {
          "output_type": "display_data",
          "data": {
            "application/vnd.jupyter.widget-view+json": {
              "model_id": "68c329b752924004bf276061c43a988b",
              "version_minor": 0,
              "version_major": 2
            },
            "text/plain": [
              "HBox(children=(FloatProgress(value=0.0, max=1.0), HTML(value='')))"
            ]
          },
          "metadata": {
            "tags": []
          }
        },
        {
          "output_type": "stream",
          "text": [
            "Truncation was not explicitely activated but `max_length` is provided a specific value, please use `truncation=True` to explicitely truncate examples to max length. Defaulting to 'longest_first' truncation strategy. If you encode pairs of sequences (GLUE-style) with the tokenizer you can select this strategy more precisely by providing a specific strategy to `truncation`.\n",
            "Truncation was not explicitely activated but `max_length` is provided a specific value, please use `truncation=True` to explicitely truncate examples to max length. Defaulting to 'longest_first' truncation strategy. If you encode pairs of sequences (GLUE-style) with the tokenizer you can select this strategy more precisely by providing a specific strategy to `truncation`.\n",
            "Truncation was not explicitely activated but `max_length` is provided a specific value, please use `truncation=True` to explicitely truncate examples to max length. Defaulting to 'longest_first' truncation strategy. If you encode pairs of sequences (GLUE-style) with the tokenizer you can select this strategy more precisely by providing a specific strategy to `truncation`.\n",
            "Truncation was not explicitely activated but `max_length` is provided a specific value, please use `truncation=True` to explicitely truncate examples to max length. Defaulting to 'longest_first' truncation strategy. If you encode pairs of sequences (GLUE-style) with the tokenizer you can select this strategy more precisely by providing a specific strategy to `truncation`.\n",
            "Truncation was not explicitely activated but `max_length` is provided a specific value, please use `truncation=True` to explicitely truncate examples to max length. Defaulting to 'longest_first' truncation strategy. If you encode pairs of sequences (GLUE-style) with the tokenizer you can select this strategy more precisely by providing a specific strategy to `truncation`.\n",
            "Truncation was not explicitely activated but `max_length` is provided a specific value, please use `truncation=True` to explicitely truncate examples to max length. Defaulting to 'longest_first' truncation strategy. If you encode pairs of sequences (GLUE-style) with the tokenizer you can select this strategy more precisely by providing a specific strategy to `truncation`.\n",
            "Truncation was not explicitely activated but `max_length` is provided a specific value, please use `truncation=True` to explicitely truncate examples to max length. Defaulting to 'longest_first' truncation strategy. If you encode pairs of sequences (GLUE-style) with the tokenizer you can select this strategy more precisely by providing a specific strategy to `truncation`.\n",
            "Truncation was not explicitely activated but `max_length` is provided a specific value, please use `truncation=True` to explicitely truncate examples to max length. Defaulting to 'longest_first' truncation strategy. If you encode pairs of sequences (GLUE-style) with the tokenizer you can select this strategy more precisely by providing a specific strategy to `truncation`.\n",
            "Truncation was not explicitely activated but `max_length` is provided a specific value, please use `truncation=True` to explicitely truncate examples to max length. Defaulting to 'longest_first' truncation strategy. If you encode pairs of sequences (GLUE-style) with the tokenizer you can select this strategy more precisely by providing a specific strategy to `truncation`.\n",
            "Truncation was not explicitely activated but `max_length` is provided a specific value, please use `truncation=True` to explicitely truncate examples to max length. Defaulting to 'longest_first' truncation strategy. If you encode pairs of sequences (GLUE-style) with the tokenizer you can select this strategy more precisely by providing a specific strategy to `truncation`.\n",
            "Truncation was not explicitely activated but `max_length` is provided a specific value, please use `truncation=True` to explicitely truncate examples to max length. Defaulting to 'longest_first' truncation strategy. If you encode pairs of sequences (GLUE-style) with the tokenizer you can select this strategy more precisely by providing a specific strategy to `truncation`.\n",
            "Truncation was not explicitely activated but `max_length` is provided a specific value, please use `truncation=True` to explicitely truncate examples to max length. Defaulting to 'longest_first' truncation strategy. If you encode pairs of sequences (GLUE-style) with the tokenizer you can select this strategy more precisely by providing a specific strategy to `truncation`.\n",
            "Truncation was not explicitely activated but `max_length` is provided a specific value, please use `truncation=True` to explicitely truncate examples to max length. Defaulting to 'longest_first' truncation strategy. If you encode pairs of sequences (GLUE-style) with the tokenizer you can select this strategy more precisely by providing a specific strategy to `truncation`.\n",
            "Truncation was not explicitely activated but `max_length` is provided a specific value, please use `truncation=True` to explicitely truncate examples to max length. Defaulting to 'longest_first' truncation strategy. If you encode pairs of sequences (GLUE-style) with the tokenizer you can select this strategy more precisely by providing a specific strategy to `truncation`.\n",
            "Truncation was not explicitely activated but `max_length` is provided a specific value, please use `truncation=True` to explicitely truncate examples to max length. Defaulting to 'longest_first' truncation strategy. If you encode pairs of sequences (GLUE-style) with the tokenizer you can select this strategy more precisely by providing a specific strategy to `truncation`.\n",
            "Truncation was not explicitely activated but `max_length` is provided a specific value, please use `truncation=True` to explicitely truncate examples to max length. Defaulting to 'longest_first' truncation strategy. If you encode pairs of sequences (GLUE-style) with the tokenizer you can select this strategy more precisely by providing a specific strategy to `truncation`.\n",
            "Truncation was not explicitely activated but `max_length` is provided a specific value, please use `truncation=True` to explicitely truncate examples to max length. Defaulting to 'longest_first' truncation strategy. If you encode pairs of sequences (GLUE-style) with the tokenizer you can select this strategy more precisely by providing a specific strategy to `truncation`.\n",
            "Truncation was not explicitely activated but `max_length` is provided a specific value, please use `truncation=True` to explicitely truncate examples to max length. Defaulting to 'longest_first' truncation strategy. If you encode pairs of sequences (GLUE-style) with the tokenizer you can select this strategy more precisely by providing a specific strategy to `truncation`.\n",
            "Truncation was not explicitely activated but `max_length` is provided a specific value, please use `truncation=True` to explicitely truncate examples to max length. Defaulting to 'longest_first' truncation strategy. If you encode pairs of sequences (GLUE-style) with the tokenizer you can select this strategy more precisely by providing a specific strategy to `truncation`.\n",
            "Truncation was not explicitely activated but `max_length` is provided a specific value, please use `truncation=True` to explicitely truncate examples to max length. Defaulting to 'longest_first' truncation strategy. If you encode pairs of sequences (GLUE-style) with the tokenizer you can select this strategy more precisely by providing a specific strategy to `truncation`.\n",
            "Truncation was not explicitely activated but `max_length` is provided a specific value, please use `truncation=True` to explicitely truncate examples to max length. Defaulting to 'longest_first' truncation strategy. If you encode pairs of sequences (GLUE-style) with the tokenizer you can select this strategy more precisely by providing a specific strategy to `truncation`.\n",
            "Truncation was not explicitely activated but `max_length` is provided a specific value, please use `truncation=True` to explicitely truncate examples to max length. Defaulting to 'longest_first' truncation strategy. If you encode pairs of sequences (GLUE-style) with the tokenizer you can select this strategy more precisely by providing a specific strategy to `truncation`.\n",
            "Truncation was not explicitely activated but `max_length` is provided a specific value, please use `truncation=True` to explicitely truncate examples to max length. Defaulting to 'longest_first' truncation strategy. If you encode pairs of sequences (GLUE-style) with the tokenizer you can select this strategy more precisely by providing a specific strategy to `truncation`.\n",
            "Truncation was not explicitely activated but `max_length` is provided a specific value, please use `truncation=True` to explicitely truncate examples to max length. Defaulting to 'longest_first' truncation strategy. If you encode pairs of sequences (GLUE-style) with the tokenizer you can select this strategy more precisely by providing a specific strategy to `truncation`.\n",
            "Truncation was not explicitely activated but `max_length` is provided a specific value, please use `truncation=True` to explicitely truncate examples to max length. Defaulting to 'longest_first' truncation strategy. If you encode pairs of sequences (GLUE-style) with the tokenizer you can select this strategy more precisely by providing a specific strategy to `truncation`.\n",
            "Truncation was not explicitely activated but `max_length` is provided a specific value, please use `truncation=True` to explicitely truncate examples to max length. Defaulting to 'longest_first' truncation strategy. If you encode pairs of sequences (GLUE-style) with the tokenizer you can select this strategy more precisely by providing a specific strategy to `truncation`.\n"
          ],
          "name": "stderr"
        },
        {
          "output_type": "stream",
          "text": [
            "\n",
            "computing greedy matching.\n"
          ],
          "name": "stdout"
        },
        {
          "output_type": "display_data",
          "data": {
            "application/vnd.jupyter.widget-view+json": {
              "model_id": "9df2d81ef1b648369d3a5e9dc52ff77d",
              "version_minor": 0,
              "version_major": 2
            },
            "text/plain": [
              "HBox(children=(FloatProgress(value=0.0, max=1.0), HTML(value='')))"
            ]
          },
          "metadata": {
            "tags": []
          }
        },
        {
          "output_type": "stream",
          "text": [
            "\n",
            "done in 52.24 seconds, 0.25 sentences/sec\n"
          ],
          "name": "stdout"
        }
      ]
    },
    {
      "cell_type": "code",
      "metadata": {
        "colab": {
          "base_uri": "https://localhost:8080/"
        },
        "id": "L3w9dtFs4bzs",
        "outputId": "7d86882f-b77f-4eef-bf86-c6d13d95cd53"
      },
      "source": [
        "F1"
      ],
      "execution_count": null,
      "outputs": [
        {
          "output_type": "execute_result",
          "data": {
            "text/plain": [
              "tensor([0.8855, 0.8298, 0.8796, 0.7964, 0.8556, 0.8414, 0.8248, 0.8391, 0.8459,\n",
              "        0.8138, 0.8515, 0.8557, 0.8635])"
            ]
          },
          "metadata": {
            "tags": []
          },
          "execution_count": 207
        }
      ]
    },
    {
      "cell_type": "markdown",
      "metadata": {
        "id": "6Kk5Ke1OM_ho"
      },
      "source": [
        "Obtaining the proposed unsupervised metrics score for the 13 papers"
      ]
    },
    {
      "cell_type": "code",
      "metadata": {
        "id": "t7OSWSUeX1fL"
      },
      "source": [
        "x=[]\n",
        "y_rouge_all=[]\n",
        "y_rouge_tfidf=[]\n",
        "y_rouge_tr=[]\n",
        "y1=[] \n",
        "y_releditDist_all=[]\n",
        "y_releditDist_tfidf=[]\n",
        "y_releditDist_tr=[]\n",
        "y_RI_all=[]\n",
        "y_RI_tfidf=[]\n",
        "y_RI_tr=[]\n",
        "y_MI_all=[]\n",
        "y_MI_tfidf=[]\n",
        "y_MI_tr=[]\n",
        "y_CO_all=[]\n",
        "y_CO_tfidf=[]\n",
        "y_CO_tr=[]\n",
        "y_wmd_all=[]\n",
        "y_wmd_tfidf=[]\n",
        "y_wmd_tr=[]\n",
        "vectorisers=['TFIDF','Glove100','GoogleNewsModel','RPModel','w2v_ft','w2v_ft_1']\n",
        "# vectorisers=[]\n",
        "# score2tf, score22text, genSummaryAllSec13,sentenceindexmain=getSummary(AllSec13,5,methods='all')\n",
        "generatedSummary={}\n",
        "# for key in genSummaryIntro.keys():\n",
        "#   summattach=''\n",
        "#   for sent in genSummaryIntro[key][:k]:\n",
        "#     summattach+=sent+\" \"\n",
        "#   generatedSummary[key]=summattach\n",
        "      # generatedSummary=genSummary\n",
        "# y_rouge_all.append(rouge.get_scores(generatedSummary.values(),Highlights_Dict.values(),avg=False))\n",
        "\n",
        "for k in range(5,6):\n",
        "  print(k)\n",
        "  \n",
        "  # for key in OtherContent_Dict.keys():\n",
        "    # parser = PlaintextParser.from_string(Intronew[key],Tokenizer(\"english\"))\n",
        "    # summarizer = LexRankSummarizer()\n",
        "    # #Summarize the document with 2 sentences\n",
        "    # summary=summarizer(parser.document, k)\n",
        "    # appendStr=''\n",
        "    # for sent in summary:\n",
        "    #   appendStr+=str(sent)+\" \"\n",
        "    # generatedSummary[key]=appendStr    \n",
        "  # print(generatedSummary[key])\n",
        "  # print(Highlightvalue[key])\n",
        "  # x.append(k)\n",
        "  for method in ['all','only_tfidfm','only_textRankm']:\n",
        "    generatedSummary={}\n",
        "    if method=='all':\n",
        "      for key in Abstract13.keys():\n",
        "        summattach=''\n",
        "        for sent in Abstract13[key]:\n",
        "          summattach+=sent+\" \"\n",
        "        generatedSummary[key]=summattach\n",
        "      # generatedSummary=genSummary\n",
        "      # y_rouge_all.append(rouge.get_scores(generatedSummary.values(),Highlights_Dict.values(),avg=False))\n",
        "      # y_wmd_all.append(1/(1+getWMDScore(generatedSummary,Highlights_Dict)))\n",
        "      yintrel=[]\n",
        "      yintRI=[]\n",
        "      yintMI=[]\n",
        "      yintCO=[]\n",
        "      for vectoriser in vectorisers:\n",
        "        \n",
        "        generated_Summary_vector_dict,generated_Summary_vector=getVectorisedFormRelMinEdit(generatedSummary,vectoriser)\n",
        "        OtherContent_vector_dict,OtherContent_vector=getVectorisedFormRelMinEdit(AllSec13_Dict,vectoriser)\n",
        "        # K,PC,RI,MI,CO=getClusteringResults(vectoriser,OtherContent_vector,generated_Summary_vector,k)\n",
        "        # cands=[]\n",
        "        # refs=[]\n",
        "        # for key in Highlights_Dict.keys():\n",
        "        #   cands.append(generatedSummary[key])\n",
        "        #   refs.append(Highlightvalue[key])\n",
        "        # P, R, F1 = score(cands, refs, lang=\"en\", verbose=True)\n",
        "        # y1.append(F1.mean())\n",
        "        # if vectoriser!='TFIDF':\n",
        "        yintrel.append((getRelativeMinEditDistanceScore(generated_Summary_vector_dict,OtherContent_vector_dict)))\n",
        "        yintRI.append(RI)\n",
        "        yintMI.append(MI)\n",
        "        yintCO.append(CO)\n",
        "        # y_releditDist.append(yintrel)\n",
        "      y_RI_all.append(yintRI)\n",
        "      y_MI_all.append(yintMI)\n",
        "      y_CO_all.append(yintCO)\n",
        "      # y_releditDist_all.append(yintrel)\n",
        "\n",
        "\n",
        "\n",
        "    if method=='only_tfidf':\n",
        "      for filename in Abstract13_Dict.keys():\n",
        "        # print(filename)\n",
        "        mainscore=score2tf[filename]\n",
        "        summattach=''\n",
        "        for sent in getSummaryTop(mainscore/mainscore.sum(axis=0,keepdims=1),sentenceindexmain[filename],k):\n",
        "          summattach+=sent+\" \"\n",
        "        generatedSummary[filename]=summattach\n",
        "      # y_rouge_tfidf.append(rouge.get_scores(generatedSummary.values(),Highlights_Dict.values(),avg=True)['rouge-l']['f'])\n",
        "      # y_wmd_tfidf.append(1/(1+getWMDScore(generatedSummary,Highlights_Dict)))\n",
        "      yintrel=[]\n",
        "      yintRI=[]\n",
        "      yintMI=[]\n",
        "      yintCO=[]\n",
        "      for vectoriser in vectorisers:\n",
        "        \n",
        "        generated_Summary_vector_dict,generated_Summary_vector=getVectorisedFormRelMinEdit(generatedSummary,vectoriser)\n",
        "        OtherContent_vector_dict,OtherContent_vector=getVectorisedFormRelMinEdit(AllSec13_Dict,vectoriser)\n",
        "        K,PC,RI,MI,CO=getClusteringResults(vectoriser,OtherContent_vector,generated_Summary_vector,k)\n",
        "        # cands=[]\n",
        "        # refs=[]\n",
        "        # for key in Highlights_Dict.keys():\n",
        "        #   cands.append(generatedSummary[key])\n",
        "        #   refs.append(Highlightvalue[key])\n",
        "        # P, R, F1 = score(cands, refs, lang=\"en\", verbose=True)\n",
        "        # y1.append(F1.mean())\n",
        "        # if vectoriser!='TFIDF':\n",
        "        # yintrel.append(1/(1+getRelativeMinEditDistanceScore(generated_Summary_vector_dict,OtherContent_vector_dict)))\n",
        "        yintRI.append(RI)\n",
        "        yintMI.append(MI)\n",
        "        yintCO.append(CO)\n",
        "        # y_releditDist.append(yintrel)\n",
        "      y_RI_tfidf.append(yintRI)\n",
        "      y_MI_tfidf.append(yintMI)\n",
        "      y_CO_tfidf.append(yintCO)\n",
        "      # y_releditDist_tfidf.append(yintrel)\n",
        "\n",
        "\n",
        "\n",
        "    if method=='only_textRank':\n",
        "      for filename in Abstract13_Dict.keys():\n",
        "        mainscore=np.array(score22text[filename])\n",
        "        summattach=''\n",
        "        for sent in getSummaryTop(mainscore/mainscore.sum(axis=0,keepdims=1),sentenceindexmain[filename],k):\n",
        "          summattach+=sent+\"\"\n",
        "        generatedSummary[filename]=summattach\n",
        "        # generatedSummary[filename]=getSummaryTop(mainscore/mainscore.sum(axis=0,keepdims=1),sentenceindexmain[filename],k)\n",
        "      # y_rouge_tr.append(rouge.get_scores(generatedSummary.values(),Highlights_Dict.values(),avg=True)['rouge-l']['f'])\n",
        "      # y_wmd_tr.append(1/(1+getWMDScore(generatedSummary,Highlights_Dict)))\n",
        "      yintrel=[]\n",
        "      yintRI=[]\n",
        "      yintMI=[]\n",
        "      yintCO=[]\n",
        "      for vectoriser in vectorisers:\n",
        "        \n",
        "        generated_Summary_vector_dict,generated_Summary_vector=getVectorisedFormRelMinEdit(generatedSummary,vectoriser)\n",
        "        OtherContent_vector_dict,OtherContent_vector=getVectorisedFormRelMinEdit(AllSec13_Dict,vectoriser)\n",
        "        K,PC,RI,MI,CO=getClusteringResults(vectoriser,OtherContent_vector,generated_Summary_vector,k)\n",
        "        # cands=[]\n",
        "        # refs=[]\n",
        "        # for key in Highlights_Dict.keys():\n",
        "        #   cands.append(generatedSummary[key])\n",
        "        #   refs.append(Highlightvalue[key])\n",
        "        # P, R, F1 = score(cands, refs, lang=\"en\", verbose=True)\n",
        "        # y1.append(F1.mean())\n",
        "        # if vectoriser!='TFIDF':\n",
        "        # yintrel.append(1/(1+getRelativeMinEditDistanceScore(generated_Summary_vector_dict,OtherContent_vector_dict)))\n",
        "        yintRI.append(RI)\n",
        "        yintMI.append(MI)\n",
        "        yintCO.append(CO)\n",
        "      y_RI_tr.append(yintRI)\n",
        "      y_MI_tr.append(yintMI)\n",
        "      y_CO_tr.append(yintCO)\n",
        "      \n",
        "\n",
        "\n",
        "\n",
        "\n",
        "    \n",
        " "
      ],
      "execution_count": null,
      "outputs": []
    },
    {
      "cell_type": "code",
      "metadata": {
        "colab": {
          "base_uri": "https://localhost:8080/"
        },
        "id": "np1xoa0_IV2C",
        "outputId": "5b79b673-df23-41a0-85c7-7e373d2356d4"
      },
      "source": [
        "yintrel"
      ],
      "execution_count": null,
      "outputs": [
        {
          "output_type": "execute_result",
          "data": {
            "text/plain": [
              "[[0.1111111111111111,\n",
              "  0.1111111111111111,\n",
              "  0.08333333333333333,\n",
              "  0.09090909090909091,\n",
              "  0.1,\n",
              "  0.1,\n",
              "  0.14285714285714285,\n",
              "  0.08333333333333333,\n",
              "  0.125,\n",
              "  0.1,\n",
              "  0.125,\n",
              "  0.09090909090909091,\n",
              "  0.1111111111111111],\n",
              " [0.1,\n",
              "  0.1111111111111111,\n",
              "  0.08333333333333333,\n",
              "  0.1,\n",
              "  0.09090909090909091,\n",
              "  0.09090909090909091,\n",
              "  0.1111111111111111,\n",
              "  0.1,\n",
              "  0.14285714285714285,\n",
              "  0.09090909090909091,\n",
              "  0.1,\n",
              "  0.1,\n",
              "  0.1],\n",
              " [0.1,\n",
              "  0.1111111111111111,\n",
              "  0.1,\n",
              "  0.1,\n",
              "  0.07692307692307693,\n",
              "  0.09090909090909091,\n",
              "  0.1,\n",
              "  0.125,\n",
              "  0.1111111111111111,\n",
              "  0.1111111111111111,\n",
              "  0.125,\n",
              "  0.1111111111111111,\n",
              "  0.1],\n",
              " [0.1111111111111111,\n",
              "  0.14285714285714285,\n",
              "  0.09090909090909091,\n",
              "  0.1111111111111111,\n",
              "  0.1,\n",
              "  0.1,\n",
              "  0.1111111111111111,\n",
              "  0.09090909090909091,\n",
              "  0.125,\n",
              "  0.1111111111111111,\n",
              "  0.125,\n",
              "  0.09090909090909091,\n",
              "  0.1],\n",
              " [0.1,\n",
              "  0.1111111111111111,\n",
              "  0.09090909090909091,\n",
              "  0.09090909090909091,\n",
              "  0.08333333333333333,\n",
              "  0.08333333333333333,\n",
              "  0.125,\n",
              "  0.1,\n",
              "  0.1,\n",
              "  0.1,\n",
              "  0.08333333333333333,\n",
              "  0.09090909090909091,\n",
              "  0.09090909090909091],\n",
              " [0.1111111111111111,\n",
              "  0.1111111111111111,\n",
              "  0.09090909090909091,\n",
              "  0.125,\n",
              "  0.09090909090909091,\n",
              "  0.09090909090909091,\n",
              "  0.08333333333333333,\n",
              "  0.125,\n",
              "  0.1111111111111111,\n",
              "  0.09090909090909091,\n",
              "  0.125,\n",
              "  0.08333333333333333,\n",
              "  0.1111111111111111]]"
            ]
          },
          "metadata": {
            "tags": []
          },
          "execution_count": 223
        }
      ]
    },
    {
      "cell_type": "code",
      "metadata": {
        "colab": {
          "base_uri": "https://localhost:8080/"
        },
        "id": "hHdhFYHE9vaa",
        "outputId": "c9238048-57cf-4496-840c-0fff558a7253"
      },
      "source": [
        "print(y_RI_all[0])\n",
        "# print(y_RI_tfidf)\n",
        "# print(y_RI_tr)\n",
        "print(y_MI_all[0])\n",
        "# print(y_MI_tfidf)\n",
        "# print(y_MI_tr)\n",
        "print(y_CO_all[0])\n",
        "# print(y_CO_tfidf)\n",
        "# print(y_CO_tr)"
      ],
      "execution_count": null,
      "outputs": [
        {
          "output_type": "stream",
          "text": [
            "[0.2857142857142857, 0.42689199118295373, 0.675270607826811, 0.5085910652920962, 0.14548641542506577, 0.21739130434782608]\n",
            "[0.3200276030198358, 0.461369438047048, 0.6193246945278013, 0.49422457635816913, 0.23219791458667724, 0.2595066203679777]\n",
            "[0.6335746577001036, 0.7221664588122686, 0.7993662851566852, 0.7530280510604582, 0.5678413828684131, 0.6067801978664913]\n"
          ],
          "name": "stdout"
        }
      ]
    },
    {
      "cell_type": "code",
      "metadata": {
        "colab": {
          "base_uri": "https://localhost:8080/"
        },
        "id": "mKy2BdSoKNrm",
        "outputId": "29d9538d-b363-40a1-d5de-88032a3e9321"
      },
      "source": [
        "print(x)\n",
        "print(y_rouge_all)\n",
        "print(y_rouge_tfidf)\n",
        "print(y_rouge_tr)\n",
        "print(y1)\n",
        "print(y_releditDist_all)\n",
        "print(y_releditDist_tfidf)\n",
        "print(y_releditDist_tr)\n",
        "print(y_RI_all)\n",
        "print(y_RI_tfidf)\n",
        "print(y_RI_tr)\n",
        "print(y_MI_all)\n",
        "print(y_MI_tfidf)\n",
        "print(y_MI_tr)\n",
        "print(y_CO_all)\n",
        "print(y_CO_tfidf)\n",
        "print(y_CO_tr)\n",
        "print(y_wmd_all)\n",
        "print(y_wmd_tfidf)\n",
        "print(y_wmd_tr)"
      ],
      "execution_count": null,
      "outputs": [
        {
          "output_type": "stream",
          "text": [
            "[1, 2, 3, 4, 5, 6, 7, 8, 9, 10]\n",
            "[0.12474161770579299, 0.17291258033160511, 0.17821528835669195, 0.17676910910047267, 0.18014267767988, 0.18138869994599252, 0.17890617686057797, 0.17646104025048706, 0.17109868377982237, 0.17039820342146103]\n",
            "[0.15365304219271153, 0.18389976067717526, 0.1875797096065861, 0.19214851828461504, 0.19151334339622794, 0.19031807488218117, 0.18946595787264986, 0.18596636370896244, 0.1847721163651654, 0.178596020221129]\n",
            "[0.12204944119707066, 0.14739211780818376, 0.15257946005408993, 0.1523352689765601, 0.14957908569638625, 0.14597966667940396, 0.14195681327846765, 0.14185130835887363, 0.139300733561925, 0.1364222931346795]\n",
            "[]\n",
            "[[0.01586139580283065, 0.015907978463044543, 0.015904086126743332, 0.016101065147386674, 0.015939185875429134, 0.016149068322981366], [0.015939185875429134, 0.016141047926496153, 0.016165133051479732, 0.01638930912758447, 0.016173177407315255, 0.01634397787276842], [0.01586526726873322, 0.016177202588352414, 0.016258129064532265, 0.016468203699011908, 0.016185258964143426, 0.016468203699011908], [0.01601379650160138, 0.01625406351587897, 0.01629889669007021, 0.016598569969356488, 0.01644736842105263, 0.01649746192893401], [0.01600985221674877, 0.01639757820383451, 0.016418287446324828, 0.01665812403895438, 0.016439049064238747, 0.016564729867482163], [0.016141047926496153, 0.016526824307144673, 0.016543649783659964, 0.016666666666666666, 0.01648490996703018, 0.016615541922290387], [0.016105054509415264, 0.01669663498587208, 0.016675218060543867, 0.01691827173347215, 0.0166282936812484, 0.016722408026755852], [0.01616111387369468, 0.016821946169772256, 0.01673963430337368, 0.016878732796676187, 0.016624040920716114, 0.016821946169772256], [0.016117034465658316, 0.016787190082644628, 0.016735324407826983, 0.01691827173347215, 0.01651003302006604, 0.01673101673101673], [0.016189290161892904, 0.01681759379042691, 0.016761217122227952, 0.01687435098650052, 0.016552075375604786, 0.016808895784846133]]\n",
            "[[0.01584592881521209, 0.015904086126743332, 0.015834348355663826, 0.015907978463044543, 0.01586526726873322, 0.01589242053789731], [0.015927468757657437, 0.01598229653307106, 0.015990159901599015, 0.016117034465658316, 0.01592356687898089, 0.01609309234959148], [0.015915768854064642, 0.016189290161892904, 0.016029593094944512, 0.016129032258064516, 0.01596659297469909, 0.01623782163377467], [0.015958752762091823, 0.016266266266266267, 0.016181229773462785, 0.016422435573521982, 0.01606524962926347, 0.016385177716158307], [0.01595092024539877, 0.016352201257861635, 0.016294810729506143, 0.016564729867482163, 0.016029593094944512, 0.016505840528186898], [0.01609309234959148, 0.01640585562847047, 0.016443207690361752, 0.016539440203562343, 0.016121031746031748, 0.016531027466937947], [0.016141047926496153, 0.01651003302006604, 0.01657317695053544, 0.016679497049012063, 0.01621756487025948, 0.01651003302006604], [0.016097077761267956, 0.016598569969356488, 0.016493275818320222, 0.016774193548387096, 0.016356316054353295, 0.016531027466937947], [0.016229712858926344, 0.01674826075753672, 0.01673963430337368, 0.016765540366262575, 0.016409997475385005, 0.016683778234086243], [0.016145057128663685, 0.016683778234086243, 0.01683937823834197, 0.016927083333333332, 0.016602809706257982, 0.016787190082644628]]\n",
            "[[0.015876893014167073, 0.01608910891089109, 0.01600985221674877, 0.016229712858926344, 0.015939185875429134, 0.015888535810315327], [0.015947006869479884, 0.016233766233766232, 0.016352201257861635, 0.01625, 0.016157096694009446, 0.01609309234959148], [0.01595483554246441, 0.016468203699011908, 0.016535232765199696, 0.016472377090724785, 0.016331658291457284, 0.016245938515371157], [0.015994094488188976, 0.016568952332398672, 0.016662394257882594, 0.01668806161745828, 0.016348088531187122, 0.016381048387096774], [0.01608910891089109, 0.016594332397242787, 0.016598569969356488, 0.016756896107244137, 0.016531027466937947, 0.01640171587181428], [0.016097077761267956, 0.016735324407826983, 0.016778523489932886, 0.01684374190204716, 0.016539440203562343, 0.016493275818320222], [0.01612503100967502, 0.016800206771775652, 0.016808895784846133, 0.01705589084229861, 0.016641065028161803, 0.016645326504481434], [0.016290726817042606, 0.01695799634750848, 0.016869971450817544, 0.017091769655535105, 0.016808895784846133, 0.01674826075753672], [0.016381048387096774, 0.01695357329160146, 0.016913869372885765, 0.01729643427354976, 0.016931492576191715, 0.01675257731958763], [0.0163727959697733, 0.017114270668773038, 0.017046944662995018, 0.017412268952585054, 0.016966849386583136, 0.016883116883116882]]\n",
            "[[0.008598991345418376, 0.04580248323025988, 0.03322743028381139, 0.15009734461974802, 0.1735232262111205, 0.06423545043505183], [0.03425086018142009, 0.07124236307001243, 0.2714103557871873, 0.33136054125108244, 0.3505064683789218, 0.23118324892517395], [0.08799409226942359, 0.22327837051406405, 0.18124697530772663, 0.2787317898531854, 0.376456653803538, 0.2169979764313772], [0.04640955825578088, 0.2002004008016032, 0.23333760877049678, 0.2861200889721035, 0.3323407256484601, 0.19822099909084206], [0.133688620887922, 0.23586206896551723, 0.218059215940013, 0.33800778450686414, 0.4332331472735079, 0.14505895645623895], [0.24122039498711995, 0.1356307663434889, 0.25397816254339567, 0.37075866403699553, 0.3987051599099725, 0.15707878315132606], [0.20313150662113766, 0.19305628616517623, 0.2705422083887214, 0.33852871396624, 0.5349303397814975, 0.24862760271819304], [0.24932087390097063, 0.33304347826086955, 0.367517482878658, 0.246466016004706, 0.39382717807750917, 0.30238310514981576], [0.18858443903587974, 0.3536998758594771, 0.2663811141972482, 0.2530751226767967, 0.42586944965166057, 0.32141977597681076], [0.2111268775298018, 0.26053006554573954, 0.22197324309490765, 0.34698274138202256, 0.2794415672145913, 0.18303220738413198]]\n",
            "[[0.02845189983956459, 0.06290703414477479, 0.10244783888291435, 0.06307843134780892, 0.08171771300774046, 0.09872510799704984], [0.01360824742268042, 0.059325429561364225, 0.10543296914457838, 0.22911989251520973, 0.1753777754254109, 0.08296943231441048], [0.04106066693451186, 0.0930802394466673, 0.1628690851007634, 0.16919853326348874, 0.3038760285103715, 0.08607010143617556], [0.03390490265288216, 0.11296654686204034, 0.1661960127498523, 0.20817549571945834, 0.3597580844879498, 0.1610549943883277], [0.04657601673537194, 0.1203934884649955, 0.21906506604350687, 0.23836671154493436, 0.22630352500639805, 0.11953031236822471], [0.11025934733456157, 0.12490650710545999, 0.16811691329867154, 0.2571950623091607, 0.26683355254783825, 0.21576879910213242], [0.12104250718310891, 0.13310933057637633, 0.2197571118893983, 0.28664074463505684, 0.21326223788206294, 0.13286142118159544], [0.14242698600378056, 0.2621424565339316, 0.2228754953508249, 0.24472955365851923, 0.2908455417565256, 0.14513540102521616], [0.1556459308628899, 0.31625241937029297, 0.2484165395613215, 0.32544991766075104, 0.28880268315351354, 0.11050167594670213], [0.23634385764977076, 0.20653912856432247, 0.23691504973096364, 0.22531612773215687, 0.2491569429108598, 0.19443865861278903]]\n",
            "[[0.007921571557047091, 0.025283061737121797, 0.022898321855853512, 0.10059989021433474, 0.0937141536026463, 0.05801621958827199], [0.06885635140482785, 0.11312481013727331, 0.15360980130342886, 0.18911145491845177, 0.14473176012844233, 0.18493679315096964], [0.009948713993753133, 0.15244090488543802, 0.14862617784464327, 0.29769610413867914, 0.2038265123530748, 0.23289391086001252], [0.0728907400822878, 0.2805208898534997, 0.2148479158751663, 0.38785034286266856, 0.2574656981436642, 0.21760673093413616], [0.10016942848878053, 0.21906861394323507, 0.17326110361502792, 0.19662465966011045, 0.4434622184641402, 0.1395112016293279], [0.16910926559192316, 0.16721311475409836, 0.2501427590604788, 0.25897332454890304, 0.37245947363611215, 0.20178831434521946], [0.13200868795752554, 0.24263392857142854, 0.3335402559506088, 0.2968983552424077, 0.4186610814538581, 0.16941607750720086], [0.24997648337636003, 0.2933167701863354, 0.24045702414957154, 0.42207854452704213, 0.3722146298221268, 0.18737087460931293], [0.22921671000999214, 0.21708785951483084, 0.31605617621514914, 0.46148216677483045, 0.2925985704403966, 0.20568938748935744], [0.4218113465205182, 0.24326612689844948, 0.3210336826946156, 0.5306327982376963, 0.42422096636703543, 0.18544364449468018]]\n",
            "[[0.012946473657045562, 0.056678283064762275, 0.06921437392976743, 0.19318269078178754, 0.12874073256157872, 0.11448289309632671], [0.059123708384000176, 0.14181339271424495, 0.2558701927896359, 0.36880053083927017, 0.28020041308674776, 0.2645408103004925], [0.11343554414156728, 0.30133905429459407, 0.23731117590860826, 0.34975786968815614, 0.41293018692279965, 0.30086592688469754], [0.09664399029483532, 0.2907696493552593, 0.29906613998034876, 0.3324624067400117, 0.3294230083422462, 0.2414734880202987], [0.1787465800417078, 0.3484558623431698, 0.31933715158421044, 0.4176062430746227, 0.38028784319934283, 0.22839870285392302], [0.3234329117944292, 0.2152796057200394, 0.3386342026173131, 0.4790019257167421, 0.39820017599529206, 0.20767981826021856], [0.23669468918652797, 0.27607775206502844, 0.3406636964085729, 0.41257723133026686, 0.4670073126366183, 0.2531915096331684], [0.29189916691241563, 0.41960802076642234, 0.37996935634440004, 0.3881542925788579, 0.39549066310003184, 0.34872688056752355], [0.23482559360316937, 0.3930971386878365, 0.33837976273430787, 0.3559229889327795, 0.4015348458911222, 0.37067540084128875], [0.32807211099745626, 0.32982786633307626, 0.3491805565546661, 0.42086634434351644, 0.36227904616032525, 0.21262323542686792]]\n",
            "[[0.03768492453868419, 0.09789387646965049, 0.15229263637762, 0.13446514800463824, 0.1075705991443892, 0.1473578083520048], [0.03215035105173953, 0.10503206977867453, 0.1502576532756613, 0.25891861371904784, 0.13702352048136943, 0.13601209934242756], [0.05218502227900362, 0.1946813291538422, 0.2241994890095325, 0.21363754498526208, 0.26456064750143365, 0.12041823522010928], [0.05291390769230609, 0.19822812899197012, 0.24642151033220364, 0.275156334175828, 0.28570655865147804, 0.16537117877729118], [0.08952932791637624, 0.1807628517484723, 0.2857033035756724, 0.2955680149794991, 0.24830489251159849, 0.18093110495091363], [0.1455863621678207, 0.23450134470874065, 0.3015708886105764, 0.3336555645932768, 0.23477260824539958, 0.27180454994460157], [0.19231477929765312, 0.23282652033108955, 0.3177233997290729, 0.33959540542792815, 0.2853136836679826, 0.15784706754966304], [0.1891647204766792, 0.3052794205231496, 0.3604021555136321, 0.29341960953898805, 0.31069217570527224, 0.20669689574398079], [0.24711515607311568, 0.4357936482394673, 0.34780191307393904, 0.37253628214477, 0.3370993524595546, 0.18312575412414125], [0.3329401294568629, 0.31639387402255165, 0.3395094901350342, 0.32136643480510835, 0.29334012193648673, 0.2595448975182277]]\n",
            "[[0.023235287302729623, 0.05653302923180411, 0.07106846872675959, 0.10393789044428624, 0.10376326792748872, 0.07290596695324393], [0.09193472015823373, 0.18856604189936374, 0.18054803085523477, 0.22448817216003747, 0.16019686958763174, 0.20779493482007672], [0.038787649841731886, 0.22573634246767335, 0.2501645346370217, 0.28359311307494406, 0.25007474186658024, 0.29152389697249137], [0.12778413528310034, 0.32035822361374316, 0.20534073036309988, 0.4147499698730924, 0.26927189564761655, 0.2855680849682096], [0.18497440370714333, 0.30549949441786817, 0.25435997179811337, 0.2993365631665241, 0.403561123828282, 0.1903369603635006], [0.2401448472047229, 0.23879810309071858, 0.3090118691719857, 0.3362827228396984, 0.4632656299931118, 0.2678565438958547], [0.22155129559058515, 0.3399393128833208, 0.4100110256808764, 0.3725013821288373, 0.38555455481036177, 0.22728238566461922], [0.3257700203219152, 0.3373462388064401, 0.33124796368522663, 0.48285479378061835, 0.43010328835296463, 0.21888571066944887], [0.2957510675733516, 0.3078610264586114, 0.3703479463741918, 0.4943212205261527, 0.3762880050791118, 0.28953448182736097], [0.4699765532239584, 0.35509365210221944, 0.4221833403581219, 0.5717266687845027, 0.47547815219771966, 0.23454136212110227]]\n",
            "[[0.46738558157708193, 0.47032632673142033, 0.44441642136168785, 0.521581865403753, 0.5172458470655682, 0.5116538884978289], [0.5087906097046606, 0.513083371337016, 0.5268450682636338, 0.5465871054771325, 0.5190318951550329, 0.5009379360659746], [0.37732667824158533, 0.4511469862923524, 0.30713912104357605, 0.5949560313950483, 0.5722907149528597, 0.5686354065343195], [0.3705635667062455, 0.5194321581434004, 0.5431583243647539, 0.6015331491099511, 0.5928387968156946, 0.5783580816845214], [0.3448713785402273, 0.5121729002336479, 0.5722416185236032, 0.615850147044791, 0.5961918850670207, 0.5725748049670045], [0.3788911966074042, 0.5446485619303973, 0.5921593242130831, 0.631005099217154, 0.642380934927742, 0.56404057788939], [0.45686960922075787, 0.6100260749977457, 0.5943055606278035, 0.6062386598138296, 0.6351691677617184, 0.5768405489196203], [0.40187484425906916, 0.595623459555803, 0.5743713371476726, 0.6635541221287186, 0.6703386260568452, 0.5466080318401244], [0.4745230382472193, 0.5831211078826467, 0.6328536119377617, 0.6536220187962127, 0.5776102926540012, 0.5609553848738856], [0.46742341109863395, 0.5865563790381415, 0.6773128961212028, 0.49164717213881454, 0.5450796265986372, 0.5536286313091737]]\n",
            "[[0.49972455077087885, 0.48968782395183613, 0.5814720878413561, 0.47611418083207274, 0.49524543728385767, 0.5388781831308801], [0.4660541221723926, 0.5090305489649569, 0.5522916361260292, 0.5159930888770966, 0.5910038012287895, 0.5088881627397993], [0.3225086458403532, 0.519101870376079, 0.6320769219389892, 0.5653945588991052, 0.5070358548932359, 0.515377914746704], [0.31057595644644415, 0.5212955456729903, 0.5825264419186865, 0.5246878509885025, 0.3916830510226698, 0.5417470868791275], [0.33423337539899256, 0.5371792793247145, 0.6036762632761987, 0.5806719070173731, 0.58837899677382, 0.5496179149714421], [0.40057546836743674, 0.5866092821255642, 0.39125334817155494, 0.5739796291122701, 0.5651448711966333, 0.5886386104519381], [0.43626366287986545, 0.5335779559498449, 0.6207188750845185, 0.585536330193919, 0.6076695996129278, 0.534464869629117], [0.433193892077303, 0.5881492352467911, 0.5982710601760525, 0.6166738392197041, 0.5345997122411029, 0.5662992061508804], [0.48240170037943547, 0.6153169453321864, 0.648693546840137, 0.6014340618714008, 0.6045063684930023, 0.5558524680089545], [0.43436446745493834, 0.6175209838502201, 0.6332601265456084, 0.6354481423774482, 0.6636500996950946, 0.5789752669852835]]\n",
            "[[0.4870146092109104, 0.4661509586728259, 0.47524910781528135, 0.47630209225984943, 0.47117877889954624, 0.4781887072341551], [0.5272955882206816, 0.5582951648901138, 0.4676490139885078, 0.5220944424012635, 0.5175589706357269, 0.48436722843014224], [0.32377826388205994, 0.532983725834979, 0.5313492187441271, 0.5444374009398351, 0.5882853401993862, 0.5973602508345651], [0.4007585607383296, 0.5091578247029093, 0.5120756557342211, 0.5429401453744093, 0.5566225193869985, 0.5565962677595445], [0.4160702370471962, 0.546913358004174, 0.5865510631543358, 0.6234480722744788, 0.5806931114398193, 0.5542336756859302], [0.48164981423458625, 0.5557678124943474, 0.6160021495140559, 0.5926554122294108, 0.6031758448306382, 0.5167939217416428], [0.4559479061014574, 0.5599570909795774, 0.6120596982271851, 0.5950297502613544, 0.6061881283534039, 0.5617029518663151], [0.5353858297471613, 0.6221744198997207, 0.6912687062137517, 0.7244018631606973, 0.6146060997719783, 0.5573014594845562], [0.48127481055883126, 0.6285609136012851, 0.616761232917892, 0.5900713037122461, 0.6358897301052905, 0.5901910191171481], [0.5110255322640584, 0.656311615636574, 0.7406827273007518, 0.6264785641263778, 0.6532171683892757, 0.5732642776079325]]\n",
            "[0.25130307245071865, 0.2650992132851788, 0.2699894280530907, 0.2716124887861874, 0.2738311228291122, 0.2756086901049449, 0.27677958087016946, 0.27722494483174936, 0.2767820152310667, 0.27656484191899994]\n",
            "[0.24768752935739408, 0.2643898458154455, 0.26589078765654267, 0.270955681471154, 0.27359222174981307, 0.2749800385381468, 0.27650697063924123, 0.27760559024278675, 0.27807390115491176, 0.27796666250278784]\n",
            "[0.24252799511985498, 0.25473161675295963, 0.25979058233765395, 0.26299628904040895, 0.2648979051294257, 0.2655098087464357, 0.2658270936488135, 0.266621846486333, 0.2668308355104549, 0.26777033868745675]\n"
          ],
          "name": "stdout"
        }
      ]
    }
  ]
}